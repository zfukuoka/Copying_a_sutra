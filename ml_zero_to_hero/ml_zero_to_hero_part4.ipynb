{
  "nbformat": 4,
  "nbformat_minor": 0,
  "metadata": {
    "colab": {
      "name": "ml_zero_to_hero_part4.ipynb",
      "provenance": [],
      "authorship_tag": "ABX9TyNm945XWKH1QksTMeQebd7u",
      "include_colab_link": true
    },
    "kernelspec": {
      "name": "python3",
      "display_name": "Python 3"
    }
  },
  "cells": [
    {
      "cell_type": "markdown",
      "metadata": {
        "id": "view-in-github",
        "colab_type": "text"
      },
      "source": [
        "<a href=\"https://colab.research.google.com/github/zfukuoka/Copying_a_sutra/blob/master/ml_zero_to_hero/ml_zero_to_hero_part4.ipynb\" target=\"_parent\"><img src=\"https://colab.research.google.com/assets/colab-badge.svg\" alt=\"Open In Colab\"/></a>"
      ]
    },
    {
      "cell_type": "markdown",
      "metadata": {
        "id": "I75SkuaCpGZ8",
        "colab_type": "text"
      },
      "source": [
        "# 写経元\n",
        "\n",
        "[Build an image classifier (ML Zero to Hero - Part 4)](https://www.youtube.com/watch?v=u2TjZzNuly8&list=PLQY2H8rRoyvwLbzbnKJ59NkZvQAW9wLbx&index=16&t=0s)\n",
        "\n",
        "TensorFlow を用いたじゃんけんの画像認識。\n",
        "\n",
        "\n",
        "[Course 2 - Part 8 - Lesson 2 - Notebook (RockPaperScissors)](https://colab.research.google.com/github/lmoroney/dlaicourse/blob/master/Course%202%20-%20Part%208%20-%20Lesson%202%20-%20Notebook%20(RockPaperScissors).ipynb)\n",
        "\n",
        "[じゃんけん画像データ](https://www.tensorflow.org/datasets/catalog/rock_paper_scissors)\n"
      ]
    },
    {
      "cell_type": "markdown",
      "metadata": {
        "id": "fGXuhNMvtmX9",
        "colab_type": "text"
      },
      "source": [
        "## 画像データのダウンロード"
      ]
    },
    {
      "cell_type": "code",
      "metadata": {
        "id": "rqb4sOD_pE3e",
        "colab_type": "code",
        "colab": {
          "base_uri": "https://localhost:8080/",
          "height": 391
        },
        "outputId": "84e4cbe4-e7a7-4884-940d-e111e77070e3"
      },
      "source": [
        "!wget --no-check-certificate  https://storage.googleapis.com/laurencemoroney-blog.appspot.com/rps.zip -O /tmp/rps.zip\n",
        "!wget --no-check-certificate  https://storage.googleapis.com/laurencemoroney-blog.appspot.com/rps-test-set.zip -O /tmp/rps-test-set.zip"
      ],
      "execution_count": 9,
      "outputs": [
        {
          "output_type": "stream",
          "text": [
            "--2020-05-26 10:03:44--  https://storage.googleapis.com/laurencemoroney-blog.appspot.com/rps.zip\n",
            "Resolving storage.googleapis.com (storage.googleapis.com)... 209.85.200.128, 2607:f8b0:4001:c03::80\n",
            "Connecting to storage.googleapis.com (storage.googleapis.com)|209.85.200.128|:443... connected.\n",
            "HTTP request sent, awaiting response... 200 OK\n",
            "Length: 200682221 (191M) [application/zip]\n",
            "Saving to: ‘/tmp/rps.zip’\n",
            "\n",
            "/tmp/rps.zip        100%[===================>] 191.38M   156MB/s    in 1.2s    \n",
            "\n",
            "2020-05-26 10:03:46 (156 MB/s) - ‘/tmp/rps.zip’ saved [200682221/200682221]\n",
            "\n",
            "--2020-05-26 10:03:48--  https://storage.googleapis.com/laurencemoroney-blog.appspot.com/rps-test-set.zip\n",
            "Resolving storage.googleapis.com (storage.googleapis.com)... 209.85.200.128, 2607:f8b0:4001:c03::80\n",
            "Connecting to storage.googleapis.com (storage.googleapis.com)|209.85.200.128|:443... connected.\n",
            "HTTP request sent, awaiting response... 200 OK\n",
            "Length: 29516758 (28M) [application/zip]\n",
            "Saving to: ‘/tmp/rps-test-set.zip’\n",
            "\n",
            "/tmp/rps-test-set.z 100%[===================>]  28.15M   138MB/s    in 0.2s    \n",
            "\n",
            "2020-05-26 10:03:49 (138 MB/s) - ‘/tmp/rps-test-set.zip’ saved [29516758/29516758]\n",
            "\n"
          ],
          "name": "stdout"
        }
      ]
    },
    {
      "cell_type": "markdown",
      "metadata": {
        "id": "lBFS39PwuSli",
        "colab_type": "text"
      },
      "source": [
        "## zipファイルの展開"
      ]
    },
    {
      "cell_type": "code",
      "metadata": {
        "id": "77DIEJUtuVcp",
        "colab_type": "code",
        "colab": {}
      },
      "source": [
        "import os\n",
        "import zipfile\n",
        "\n",
        "local_zip = '/tmp/rps.zip'\n",
        "zip_ref = zipfile.ZipFile(local_zip, 'r')\n",
        "zip_ref.extractall('/tmp')\n",
        "zip_ref.close()\n",
        "\n",
        "local_zip = '/tmp/rps-test-set.zip'\n",
        "zip_ref = zipfile.ZipFile(local_zip, 'r')\n",
        "zip_ref.extractall('/tmp')\n",
        "zip_ref.close()\n"
      ],
      "execution_count": 0,
      "outputs": []
    },
    {
      "cell_type": "code",
      "metadata": {
        "id": "BtktQBfnHHlb",
        "colab_type": "code",
        "colab": {
          "base_uri": "https://localhost:8080/",
          "height": 139
        },
        "outputId": "5a377809-1204-496a-ffe7-5ec53ecb09a9"
      },
      "source": [
        "rock_dir = os.path.join('/tmp/rps/rock')\n",
        "paper_dir = os.path.join('/tmp/rps/paper')\n",
        "scissors_dir = os.path.join('/tmp/rps/scissors')\n",
        "\n",
        "print('tortal training rock images:', len(os.listdir(rock_dir)))\n",
        "print('tortal training paperk images:', len(os.listdir(paper_dir)))\n",
        "print('tortal training scissors images:', len(os.listdir(scissors_dir)))\n",
        "\n",
        "rock_files = os.listdir(rock_dir)\n",
        "print(rock_files[:10])\n",
        "\n",
        "paper_files = os.listdir(paper_dir)\n",
        "print(paper_files[:10])\n",
        "\n",
        "scissors_files = os.listdir(scissors_dir)\n",
        "print(scissors_files[:10])\n",
        "\n"
      ],
      "execution_count": 11,
      "outputs": [
        {
          "output_type": "stream",
          "text": [
            "tortal training rock images: 840\n",
            "tortal training paperk images: 840\n",
            "tortal training scissors images: 840\n",
            "['rock01-108.png', 'rock03-016.png', 'rock01-089.png', 'rock01-064.png', 'rock06ck02-019.png', 'rock05ck01-009.png', 'rock02-092.png', 'rock05ck01-095.png', 'rock01-098.png', 'rock07-k03-059.png']\n",
            "['paper01-024.png', 'paper07-030.png', 'paper04-061.png', 'paper07-095.png', 'paper05-061.png', 'paper05-099.png', 'paper06-053.png', 'paper07-101.png', 'paper01-072.png', 'paper04-093.png']\n",
            "['testscissors01-073.png', 'scissors03-052.png', 'scissors03-012.png', 'scissors04-116.png', 'testscissors03-015.png', 'scissors01-085.png', 'scissors02-034.png', 'scissors01-082.png', 'scissors02-025.png', 'scissors03-054.png']\n"
          ],
          "name": "stdout"
        }
      ]
    },
    {
      "cell_type": "code",
      "metadata": {
        "id": "wL8mYsj6MIN1",
        "colab_type": "code",
        "colab": {
          "base_uri": "https://localhost:8080/",
          "height": 1000
        },
        "outputId": "dee1cb5f-d08d-4dcb-8dfc-0c90e1ea6afa"
      },
      "source": [
        "import tensorflow as tf\n",
        "import keras_preprocessing\n",
        "from keras_preprocessing import image\n",
        "from keras_preprocessing.image import ImageDataGenerator\n",
        "\n",
        "TRAINING_DIR = \"/tmp/rps/\"\n",
        "training_datagen = ImageDataGenerator(\n",
        "    rescale = 1./255,\n",
        "    rotation_range = 40,\n",
        "    width_shift_range = 0.2,\n",
        "    shear_range = 0.2,\n",
        "    zoom_range = 0.2,\n",
        "    horizontal_flip = True,\n",
        "    fill_mode = 'nearest')\n",
        "\n",
        "VALIDATION_DIR = \"/tmp/rps-test-set\"\n",
        "validation_datagen = ImageDataGenerator(rescale = 1./255)\n",
        "\n",
        "train_generator = training_datagen.flow_from_directory(\n",
        "    TRAINING_DIR,\n",
        "    target_size = (150,150),\n",
        "    class_mode = 'categorical',\n",
        "    batch_size = 126\n",
        ")\n",
        "\n",
        "validation_generator = validation_datagen.flow_from_directory(\n",
        "    VALIDATION_DIR,\n",
        "    target_size = (150,150),\n",
        "    class_mode = 'categorical',\n",
        "    batch_size = 126\n",
        ")\n",
        "\n",
        "model = tf.keras.models.Sequential([\n",
        "    # Note the input shape is the size of the image 150x150 with 3 bytes color\n",
        "    # This is the first convolution\n",
        "    tf.keras.layers.Conv2D(64, (3,3), activation='relu', input_shape=(150,150,3)),\n",
        "    tf.keras.layers.MaxPooling2D(2,2),\n",
        "    # The second convolution\n",
        "    tf.keras.layers.Conv2D(64, (3,3), activation='relu'),\n",
        "    tf.keras.layers.MaxPooling2D(2,2),\n",
        "    # The third convolution\n",
        "    tf.keras.layers.Conv2D(128, (3,3), activation='relu'),\n",
        "    tf.keras.layers.MaxPooling2D(2,2),\n",
        "    # The fourth convolution\n",
        "    tf.keras.layers.Conv2D(128, (3,3), activation='relu'),\n",
        "    tf.keras.layers.MaxPooling2D(2,2),\n",
        "    # Flatten the results to feed into a DNN\n",
        "    tf.keras.layers.Flatten(),\n",
        "    tf.keras.layers.Dropout(0.5),\n",
        "    # 512 neuron hidden layer,\n",
        "    tf.keras.layers.Dense(512, activation='relu'),\n",
        "    tf.keras.layers.Dense(3, activation='softmax')\n",
        "])\n",
        "\n",
        "model.summary()\n",
        "\n",
        "model.compile(loss='categorical_crossentropy', optimizer='rmsprop', metrics=['accuracy'])\n",
        "\n",
        "history = model.fit(train_generator, epochs=25, steps_per_epoch=20, validation_data=validation_generator, verbose=1, validation_steps=3)\n",
        "\n",
        "model.save(\"rps.h5\")"
      ],
      "execution_count": 13,
      "outputs": [
        {
          "output_type": "stream",
          "text": [
            "Found 2520 images belonging to 3 classes.\n",
            "Found 372 images belonging to 3 classes.\n",
            "Model: \"sequential\"\n",
            "_________________________________________________________________\n",
            "Layer (type)                 Output Shape              Param #   \n",
            "=================================================================\n",
            "conv2d (Conv2D)              (None, 148, 148, 64)      1792      \n",
            "_________________________________________________________________\n",
            "max_pooling2d (MaxPooling2D) (None, 74, 74, 64)        0         \n",
            "_________________________________________________________________\n",
            "conv2d_1 (Conv2D)            (None, 72, 72, 64)        36928     \n",
            "_________________________________________________________________\n",
            "max_pooling2d_1 (MaxPooling2 (None, 36, 36, 64)        0         \n",
            "_________________________________________________________________\n",
            "conv2d_2 (Conv2D)            (None, 34, 34, 128)       73856     \n",
            "_________________________________________________________________\n",
            "max_pooling2d_2 (MaxPooling2 (None, 17, 17, 128)       0         \n",
            "_________________________________________________________________\n",
            "conv2d_3 (Conv2D)            (None, 15, 15, 128)       147584    \n",
            "_________________________________________________________________\n",
            "max_pooling2d_3 (MaxPooling2 (None, 7, 7, 128)         0         \n",
            "_________________________________________________________________\n",
            "flatten (Flatten)            (None, 6272)              0         \n",
            "_________________________________________________________________\n",
            "dropout (Dropout)            (None, 6272)              0         \n",
            "_________________________________________________________________\n",
            "dense (Dense)                (None, 512)               3211776   \n",
            "_________________________________________________________________\n",
            "dense_1 (Dense)              (None, 3)                 1539      \n",
            "=================================================================\n",
            "Total params: 3,473,475\n",
            "Trainable params: 3,473,475\n",
            "Non-trainable params: 0\n",
            "_________________________________________________________________\n",
            "Epoch 1/25\n",
            "20/20 [==============================] - 176s 9s/step - loss: 1.3982 - accuracy: 0.3679 - val_loss: 1.0852 - val_accuracy: 0.4866\n",
            "Epoch 2/25\n",
            "20/20 [==============================] - 175s 9s/step - loss: 0.9972 - accuracy: 0.4980 - val_loss: 1.0700 - val_accuracy: 0.3360\n",
            "Epoch 3/25\n",
            "20/20 [==============================] - 174s 9s/step - loss: 0.9302 - accuracy: 0.6175 - val_loss: 0.8077 - val_accuracy: 0.5726\n",
            "Epoch 4/25\n",
            "20/20 [==============================] - 177s 9s/step - loss: 0.6820 - accuracy: 0.7060 - val_loss: 0.5324 - val_accuracy: 0.8575\n",
            "Epoch 5/25\n",
            "20/20 [==============================] - 174s 9s/step - loss: 0.7234 - accuracy: 0.6992 - val_loss: 0.6818 - val_accuracy: 0.7661\n",
            "Epoch 6/25\n",
            "20/20 [==============================] - 175s 9s/step - loss: 0.5078 - accuracy: 0.7849 - val_loss: 0.2569 - val_accuracy: 0.9355\n",
            "Epoch 7/25\n",
            "20/20 [==============================] - 179s 9s/step - loss: 0.4104 - accuracy: 0.8262 - val_loss: 0.1319 - val_accuracy: 0.9731\n",
            "Epoch 8/25\n",
            "20/20 [==============================] - 176s 9s/step - loss: 0.2978 - accuracy: 0.8849 - val_loss: 0.5430 - val_accuracy: 0.7608\n",
            "Epoch 9/25\n",
            "20/20 [==============================] - 175s 9s/step - loss: 0.3586 - accuracy: 0.8563 - val_loss: 0.1159 - val_accuracy: 0.9758\n",
            "Epoch 10/25\n",
            "20/20 [==============================] - 179s 9s/step - loss: 0.2172 - accuracy: 0.9159 - val_loss: 0.0313 - val_accuracy: 1.0000\n",
            "Epoch 11/25\n",
            "20/20 [==============================] - 175s 9s/step - loss: 0.2222 - accuracy: 0.9210 - val_loss: 0.1132 - val_accuracy: 0.9677\n",
            "Epoch 12/25\n",
            "20/20 [==============================] - 175s 9s/step - loss: 0.1985 - accuracy: 0.9321 - val_loss: 0.0505 - val_accuracy: 0.9892\n",
            "Epoch 13/25\n",
            "20/20 [==============================] - 182s 9s/step - loss: 0.0804 - accuracy: 0.9738 - val_loss: 0.0195 - val_accuracy: 1.0000\n",
            "Epoch 14/25\n",
            "20/20 [==============================] - 178s 9s/step - loss: 0.1563 - accuracy: 0.9448 - val_loss: 0.0211 - val_accuracy: 1.0000\n",
            "Epoch 15/25\n",
            "20/20 [==============================] - 177s 9s/step - loss: 0.1679 - accuracy: 0.9353 - val_loss: 0.0811 - val_accuracy: 0.9731\n",
            "Epoch 16/25\n",
            "20/20 [==============================] - 176s 9s/step - loss: 0.0627 - accuracy: 0.9786 - val_loss: 0.0282 - val_accuracy: 1.0000\n",
            "Epoch 17/25\n",
            "20/20 [==============================] - 182s 9s/step - loss: 0.1314 - accuracy: 0.9560 - val_loss: 0.0112 - val_accuracy: 1.0000\n",
            "Epoch 18/25\n",
            "20/20 [==============================] - 183s 9s/step - loss: 0.0774 - accuracy: 0.9698 - val_loss: 0.0143 - val_accuracy: 1.0000\n",
            "Epoch 19/25\n",
            "20/20 [==============================] - 180s 9s/step - loss: 0.0674 - accuracy: 0.9774 - val_loss: 0.0066 - val_accuracy: 1.0000\n",
            "Epoch 20/25\n",
            "20/20 [==============================] - 182s 9s/step - loss: 0.0436 - accuracy: 0.9853 - val_loss: 0.1137 - val_accuracy: 0.9489\n",
            "Epoch 21/25\n",
            "20/20 [==============================] - 173s 9s/step - loss: 0.2561 - accuracy: 0.9147 - val_loss: 0.0160 - val_accuracy: 1.0000\n",
            "Epoch 22/25\n",
            "20/20 [==============================] - 176s 9s/step - loss: 0.0262 - accuracy: 0.9905 - val_loss: 0.0017 - val_accuracy: 1.0000\n",
            "Epoch 23/25\n",
            "20/20 [==============================] - 182s 9s/step - loss: 0.0588 - accuracy: 0.9774 - val_loss: 0.0039 - val_accuracy: 1.0000\n",
            "Epoch 24/25\n",
            "20/20 [==============================] - 178s 9s/step - loss: 0.0272 - accuracy: 0.9921 - val_loss: 0.0201 - val_accuracy: 1.0000\n",
            "Epoch 25/25\n",
            "20/20 [==============================] - 176s 9s/step - loss: 0.1164 - accuracy: 0.9615 - val_loss: 0.0243 - val_accuracy: 0.9973\n"
          ],
          "name": "stdout"
        }
      ]
    },
    {
      "cell_type": "code",
      "metadata": {
        "id": "5MLFXulOmCJA",
        "colab_type": "code",
        "colab": {
          "base_uri": "https://localhost:8080/",
          "height": 298
        },
        "outputId": "30009a1c-6e62-43e9-bea3-f21fc61247b7"
      },
      "source": [
        "import matplotlib.pyplot as plt\n",
        "acc = history.history['accuracy']\n",
        "val_acc = history.history['val_accuracy']\n",
        "loss = history.history['loss']\n",
        "val_loss = history.history['val_loss']\n",
        "\n",
        "epochs = range(len(acc))\n",
        "\n",
        "plt.plot(epochs, acc, 'r', label='Training accuracy')\n",
        "plt.plot(epochs, val_acc, 'b', label='Validation accuracy')\n",
        "plt.title('Training and validation accuracy')\n",
        "plt.legend(loc=0)\n",
        "plt.figure()\n",
        "\n",
        "plt.show()"
      ],
      "execution_count": 14,
      "outputs": [
        {
          "output_type": "display_data",
          "data": {
            "image/png": "[encoded data removed]",
            "text/plain": [
              "<Figure size 432x288 with 1 Axes>"
            ]
          },
          "metadata": {
            "tags": [],
            "needs_background": "light"
          }
        },
        {
          "output_type": "display_data",
          "data": {
            "text/plain": [
              "<Figure size 432x288 with 0 Axes>"
            ]
          },
          "metadata": {
            "tags": []
          }
        }
      ]
    },
    {
      "cell_type": "code",
      "metadata": {
        "id": "reBqAJjCwLbi",
        "colab_type": "code",
        "colab": {
          "base_uri": "https://localhost:8080/",
          "height": 102
        },
        "outputId": "6ad1d3e4-4bb4-4603-d99e-c202b72f071f"
      },
      "source": [
        "!ls -l\n",
        "!pwd\n",
        "\n",
        "from google.colab import files\n",
        "model.save_weights(\"rps.hdf5\")\n",
        "\n",
        "files.download(\"/content/rps.hdf5\")\n",
        "files.download('rps.h5')"
      ],
      "execution_count": 21,
      "outputs": [
        {
          "output_type": "stream",
          "text": [
            "total 40796\n",
            "-rw-r--r-- 1 root root 27846968 May 26 11:23 rps.h5\n",
            "-rw-r--r-- 1 root root 13922184 May 26 11:37 rps.hdf5\n",
            "drwxr-xr-x 1 root root     4096 May 13 16:29 sample_data\n",
            "/content\n"
          ],
          "name": "stdout"
        }
      ]
    },
    {
      "cell_type": "code",
      "metadata": {
        "id": "3NTmXyUGm-9O",
        "colab_type": "code",
        "colab": {}
      },
      "source": [
        "import numpy as np\n",
        "from google.colab import files\n",
        "from keras.preprocessing import image\n",
        "\n",
        "uploaded = files.upload()\n",
        "\n",
        "for fn in uploaded.keys():\n",
        "  # predicting images\n",
        "  path = fn\n",
        "  img = image.load_img(path, target_size=(150,150))\n",
        "  x = image.img_to_array(img)\n",
        "  x = np.expand_dims(x, axis=0)\n",
        "\n",
        "  images = np.vstack([x])\n",
        "  classes = model.predict(images, batch_size=10)\n",
        "  print(fn)\n",
        "  print(classes)"
      ],
      "execution_count": 0,
      "outputs": []
    }
  ]
}
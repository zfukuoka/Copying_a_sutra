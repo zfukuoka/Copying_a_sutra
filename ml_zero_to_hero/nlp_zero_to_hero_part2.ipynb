{
  "nbformat": 4,
  "nbformat_minor": 0,
  "metadata": {
    "colab": {
      "name": "nlp_zero_to_hero_part2.ipynb",
      "provenance": [],
      "authorship_tag": "ABX9TyOHB8skpNdxkd1txIV5oyp0",
      "include_colab_link": true
    },
    "kernelspec": {
      "name": "python3",
      "display_name": "Python 3"
    }
  },
  "cells": [
    {
      "cell_type": "markdown",
      "metadata": {
        "id": "view-in-github",
        "colab_type": "text"
      },
      "source": [
        "<a href=\"https://colab.research.google.com/github/zfukuoka/Copying_a_sutra/blob/master/ml_zero_to_hero/nlp_zero_to_hero_part2.ipynb\" target=\"_parent\"><img src=\"https://colab.research.google.com/assets/colab-badge.svg\" alt=\"Open In Colab\"/></a>"
      ]
    },
    {
      "cell_type": "markdown",
      "metadata": {
        "id": "zQzWLB6DwOdG",
        "colab_type": "text"
      },
      "source": [
        "# 写経元\n",
        "\n",
        "[Sequencing - Turning sentences into data (NLP Zero to Hero - Part 2)](https://www.youtube.com/watch?v=r9QjkdSJZ2g&list=PLQY2H8rRoyvwLbzbnKJ59NkZvQAW9wLbx&index=3&t=0s)\n",
        "\n",
        "* [Colabのコード](https://colab.research.google.com/github/lmoroney/dlaicourse/blob/master/TensorFlow%20In%20Practice/Course%203%20-%20NLP/Course%203%20-%20Week%201%20-%20Lesson%202.ipynb)\n",
        "\n",
        "\n"
      ]
    },
    {
      "cell_type": "markdown",
      "metadata": {
        "id": "Ke1ou0Y6_Vp5",
        "colab_type": "text"
      },
      "source": [
        "## 概要\n",
        "\n",
        "ここでは、どうやら Tokenizer で 語ごとにユニークなインデックス番号を振るのと同時に、未知な語は OOV（out-of-vocabulary words） のインデックスに割り振るのを確認しているらしい。\n",
        "あと、１つの文章で語の数はまばらになることから、最大の語数を定義したうえで、最大語数より短い場合は、 0 でパディング。\n",
        "\n",
        "1. Tokenizer のインスタンスを oov_token というパラメータ付きで初期化\n",
        "1. Tokenizer のインスタンスに対して fit_on_texts() を使って、文章から最初に覚えさせる語を設定し、インデックス化\n",
        "1. Tokenizer のインスタンスに対して  texts_to_sequences() を使って、文章をインデックス化した数値で表現\n",
        "1. pad_sequences を用いてインデックス化した文章にパティングを行う\n",
        "1. 最初に覚えるのに用いた文章とは異なる文章を使って、文章をインデックス化した数値で表現\n",
        "  * ここでインデックス化した語にはない言葉が OOV のインデックスに割り当てられることを確認\n",
        "1. pad_sequences を用いてインデックス化した文章にパティングを行う\n"
      ]
    },
    {
      "cell_type": "code",
      "metadata": {
        "id": "wtjsi85WBKie",
        "colab_type": "code",
        "outputId": "ad760503-7566-4447-a072-86fb5dbfb03f",
        "colab": {
          "base_uri": "https://localhost:8080/",
          "height": 325
        }
      },
      "source": [
        "import tensorflow as tf\n",
        "from tensorflow import keras\n",
        "\n",
        "from tensorflow.keras.preprocessing.text import Tokenizer\n",
        "from tensorflow.keras.preprocessing.sequence import pad_sequences\n",
        "\n",
        "sentences = [\n",
        "    'I love my dog',\n",
        "    'I love my cat',\n",
        "    'You love my dog!',\n",
        "    'Do you think my dog is amazing?'\n",
        "]\n",
        "\n",
        "tokenizer = Tokenizer(num_words=100, oov_token=\"<OOV>\")\n",
        "tokenizer.fit_on_texts(sentences)\n",
        "word_index = tokenizer.word_index\n",
        "\n",
        "sequences = tokenizer.texts_to_sequences(sentences)\n",
        "\n",
        "padded = pad_sequences(sequences, maxlen=5)\n",
        "print(\"\\nWord Index = \", word_index)\n",
        "print(\"\\nSequences = \", sequences)\n",
        "print(\"\\nPadded Sequences:\")\n",
        "print(padded)\n",
        "\n",
        "# Try with words that the tokenizer wasn't fit to\n",
        "test_data = [\n",
        "    'i really love my dog',\n",
        "    'my dog loves my manatee'\n",
        "]\n",
        "\n",
        "test_seq = tokenizer.texts_to_sequences(test_data)\n",
        "print(\"\\nTest Sequence = \", test_seq)\n",
        "\n",
        "padded = pad_sequences(test_seq, maxlen=10)\n",
        "print(\"\\nPadded Test Sequences: \")\n",
        "print(padded)\n"
      ],
      "execution_count": 0,
      "outputs": [
        {
          "output_type": "stream",
          "text": [
            "\n",
            "Word Index =  {'<OOV>': 1, 'my': 2, 'love': 3, 'dog': 4, 'i': 5, 'you': 6, 'cat': 7, 'do': 8, 'think': 9, 'is': 10, 'amazing': 11}\n",
            "\n",
            "Sequences =  [[5, 3, 2, 4], [5, 3, 2, 7], [6, 3, 2, 4], [8, 6, 9, 2, 4, 10, 11]]\n",
            "\n",
            "Padded Sequences:\n",
            "[[ 0  5  3  2  4]\n",
            " [ 0  5  3  2  7]\n",
            " [ 0  6  3  2  4]\n",
            " [ 9  2  4 10 11]]\n",
            "\n",
            "Test Sequence =  [[5, 1, 3, 2, 4], [2, 4, 1, 2, 1]]\n",
            "\n",
            "Padded Test Sequences: \n",
            "[[0 0 0 0 0 5 1 3 2 4]\n",
            " [0 0 0 0 0 2 4 1 2 1]]\n"
          ],
          "name": "stdout"
        }
      ]
    }
  ]
}
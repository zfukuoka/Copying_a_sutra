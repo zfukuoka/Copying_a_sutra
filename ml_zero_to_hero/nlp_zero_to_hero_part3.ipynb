{
  "nbformat": 4,
  "nbformat_minor": 0,
  "metadata": {
    "colab": {
      "name": "nlp_zero_to_hero_part3.ipynb",
      "provenance": [],
      "authorship_tag": "ABX9TyMrAAXOFB3882xLcG8itkGa",
      "include_colab_link": true
    },
    "kernelspec": {
      "name": "python3",
      "display_name": "Python 3"
    }
  },
  "cells": [
    {
      "cell_type": "markdown",
      "metadata": {
        "id": "view-in-github",
        "colab_type": "text"
      },
      "source": [
        "<a href=\"https://colab.research.google.com/github/zfukuoka/Copying_a_sutra/blob/master/ml_zero_to_hero/nlp_zero_to_hero_part3.ipynb\" target=\"_parent\"><img src=\"https://colab.research.google.com/assets/colab-badge.svg\" alt=\"Open In Colab\"/></a>"
      ]
    },
    {
      "cell_type": "markdown",
      "metadata": {
        "id": "GGeDqKO9Fk7c",
        "colab_type": "text"
      },
      "source": [
        "# 写経元\n",
        "\n",
        "[Training a model to recognize sentiment in text (NLP Zero to Hero - Part 3)](https://www.youtube.com/watch?v=Y_hzMnRXjhI&list=PLQY2H8rRoyvwLbzbnKJ59NkZvQAW9wLbx&index=4&t=0s)\n",
        "\n",
        "* [Colab](https://colab.research.google.com/github/lmoroney/dlaicourse/blob/master/TensorFlow%20In%20Practice/Course%203%20-%20NLP/Course%203%20-%20Week%202%20-%20Lesson%202.ipynb)\n",
        "* [GitHub](https://rishabhmisra.github.io/publications/)\n"
      ]
    },
    {
      "cell_type": "code",
      "metadata": {
        "id": "ZZSbwOCvEHcA",
        "colab_type": "code",
        "colab": {}
      },
      "source": [
        "%tensorflow_version 2.x\n",
        "\n",
        "import json\n",
        "import tensorflow as tf\n",
        "from tensorflow.keras.preprocessing.text import Tokenizer\n",
        "from tensorflow.keras.preprocessing.sequence import pad_sequences"
      ],
      "execution_count": 0,
      "outputs": []
    }
  ]
}
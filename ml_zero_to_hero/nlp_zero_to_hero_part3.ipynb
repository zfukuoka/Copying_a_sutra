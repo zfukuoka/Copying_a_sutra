{
  "nbformat": 4,
  "nbformat_minor": 0,
  "metadata": {
    "colab": {
      "name": "nlp_zero_to_hero_part3.ipynb",
      "provenance": [],
      "authorship_tag": "ABX9TyMTXeECjw1Kn1B6GTzC8Rbc",
      "include_colab_link": true
    },
    "kernelspec": {
      "name": "python3",
      "display_name": "Python 3"
    }
  },
  "cells": [
    {
      "cell_type": "markdown",
      "metadata": {
        "id": "view-in-github",
        "colab_type": "text"
      },
      "source": [
        "<a href=\"https://colab.research.google.com/github/zfukuoka/Copying_a_sutra/blob/master/ml_zero_to_hero/nlp_zero_to_hero_part3.ipynb\" target=\"_parent\"><img src=\"https://colab.research.google.com/assets/colab-badge.svg\" alt=\"Open In Colab\"/></a>"
      ]
    },
    {
      "cell_type": "markdown",
      "metadata": {
        "id": "GGeDqKO9Fk7c",
        "colab_type": "text"
      },
      "source": [
        "# 写経元\n",
        "\n",
        "[Training a model to recognize sentiment in text (NLP Zero to Hero - Part 3)](https://www.youtube.com/watch?v=Y_hzMnRXjhI&list=PLQY2H8rRoyvwLbzbnKJ59NkZvQAW9wLbx&index=4&t=0s)\n",
        "\n",
        "* [Colab](https://colab.research.google.com/github/lmoroney/dlaicourse/blob/master/TensorFlow%20In%20Practice/Course%203%20-%20NLP/Course%203%20-%20Week%202%20-%20Lesson%202.ipynb)\n",
        "* [GitHub](https://rishabhmisra.github.io/publications/)\n"
      ]
    },
    {
      "cell_type": "code",
      "metadata": {
        "id": "ZZSbwOCvEHcA",
        "colab_type": "code",
        "colab": {}
      },
      "source": [
        "%tensorflow_version 2.x\n",
        "\n",
        "import json\n",
        "import tensorflow as tf\n",
        "from tensorflow.keras.preprocessing.text import Tokenizer\n",
        "from tensorflow.keras.preprocessing.sequence import pad_sequences"
      ],
      "execution_count": 0,
      "outputs": []
    },
    {
      "cell_type": "code",
      "metadata": {
        "id": "FSvkdIPdJtVa",
        "colab_type": "code",
        "colab": {}
      },
      "source": [
        "vocab_size = 10000\n",
        "embedding_dim = 16\n",
        "max_length = 100\n",
        "trunc_type = 'post'\n",
        "padding_type = 'post'\n",
        "oov_tok = \"<OOV>\"\n",
        "training_size = 20000"
      ],
      "execution_count": 0,
      "outputs": []
    },
    {
      "cell_type": "code",
      "metadata": {
        "id": "hcT9kFyIKAM5",
        "colab_type": "code",
        "outputId": "431b50a0-d0af-4f96-bb43-ba00fc6ac671",
        "colab": {
          "base_uri": "https://localhost:8080/",
          "height": 210
        }
      },
      "source": [
        "!wget --no-check-certificate  https://storage.googleapis.com/laurencemoroney-blog.appspot.com/sarcasm.json -O /tmp/sarcasm.json"
      ],
      "execution_count": 3,
      "outputs": [
        {
          "output_type": "stream",
          "text": [
            "--2020-06-02 22:18:24--  https://storage.googleapis.com/laurencemoroney-blog.appspot.com/sarcasm.json\n",
            "Resolving storage.googleapis.com (storage.googleapis.com)... 108.177.125.128, 2404:6800:4008:c01::80\n",
            "Connecting to storage.googleapis.com (storage.googleapis.com)|108.177.125.128|:443... connected.\n",
            "HTTP request sent, awaiting response... 200 OK\n",
            "Length: 5643545 (5.4M) [application/json]\n",
            "Saving to: ‘/tmp/sarcasm.json’\n",
            "\n",
            "\r/tmp/sarcasm.json     0%[                    ]       0  --.-KB/s               \r/tmp/sarcasm.json   100%[===================>]   5.38M  --.-KB/s    in 0.05s   \n",
            "\n",
            "2020-06-02 22:18:24 (106 MB/s) - ‘/tmp/sarcasm.json’ saved [5643545/5643545]\n",
            "\n"
          ],
          "name": "stdout"
        }
      ]
    },
    {
      "cell_type": "code",
      "metadata": {
        "id": "D-tzK7pgKWMo",
        "colab_type": "code",
        "colab": {}
      },
      "source": [
        "with open(\"/tmp/sarcasm.json\", 'r') as f:\n",
        "  datastore = json.load(f)\n",
        "\n",
        "sentences = []\n",
        "labels = []\n",
        "\n",
        "for item in datastore:\n",
        "  sentences.append(item['headline'])\n",
        "  labels.append(item['is_sarcastic'])\n",
        "  "
      ],
      "execution_count": 0,
      "outputs": []
    },
    {
      "cell_type": "code",
      "metadata": {
        "id": "OvoBYX9TK4Q1",
        "colab_type": "code",
        "colab": {}
      },
      "source": [
        "training_sentences = sentences[0:training_size]\n",
        "testing_sentences = sentences[training_size:]\n",
        "training_labels = labels[0:training_size]\n",
        "testing_labels = labels[training_size:]"
      ],
      "execution_count": 0,
      "outputs": []
    },
    {
      "cell_type": "code",
      "metadata": {
        "id": "KKcXxiecLSMT",
        "colab_type": "code",
        "colab": {}
      },
      "source": [
        "tokenizer = Tokenizer(num_words=vocab_size, oov_token=oov_tok)\n",
        "tokenizer.fit_on_texts(training_sentences)\n",
        "\n",
        "word_index = tokenizer.word_index\n",
        "\n",
        "training_sentences = tokenizer.texts_to_sequences(training_sentences)\n",
        "traingin_padded = pad_sequences(\n",
        "    training_sentences, maxlen=max_length,\n",
        "    padding=padding_type, truncating=trunc_type)\n",
        "\n",
        "testing_sentences = tokenizer.texts_to_sequences(testing_sentences)\n",
        "testing_padded = pad_sequences(\n",
        "    testing_sentences, maxlen=max_length,\n",
        "    padding=padding_type, truncating=trunc_type)\n"
      ],
      "execution_count": 0,
      "outputs": []
    },
    {
      "cell_type": "code",
      "metadata": {
        "id": "hi7mwrMAHYpf",
        "colab_type": "code",
        "colab": {}
      },
      "source": [
        "# Need this block to get it to work with TensorFlow 2.x\n",
        "import numpy as np\n",
        "training_padded = np.array(traingin_padded)\n",
        "training_labels = np.array(training_labels)\n",
        "testing_padded = np.array(testing_padded)\n",
        "testing_labels = np.array(testing_labels)"
      ],
      "execution_count": 0,
      "outputs": []
    },
    {
      "cell_type": "code",
      "metadata": {
        "id": "dEP5qv9PH_Ev",
        "colab_type": "code",
        "colab": {}
      },
      "source": [
        "model = tf.keras.Sequential([\n",
        "    tf.keras.layers.Embedding(vocab_size, embedding_dim, input_length=max_length),\n",
        "    tf.keras.layers.GlobalAveragePooling1D(),\n",
        "    tf.keras.layers.Dense(24, activation='relu'),\n",
        "    tf.keras.layers.Dense(1, activation='sigmoid')\n",
        "])\n",
        "model.compile(loss='binary_crossentropy', optimizer='adam', metrics=['accuracy'])"
      ],
      "execution_count": 0,
      "outputs": []
    },
    {
      "cell_type": "code",
      "metadata": {
        "id": "j31C8Rl8I7g_",
        "colab_type": "code",
        "colab": {
          "base_uri": "https://localhost:8080/",
          "height": 298
        },
        "outputId": "e0796c69-1409-4c53-ee45-269dfba45b3b"
      },
      "source": [
        "model.summary()"
      ],
      "execution_count": 9,
      "outputs": [
        {
          "output_type": "stream",
          "text": [
            "Model: \"sequential\"\n",
            "_________________________________________________________________\n",
            "Layer (type)                 Output Shape              Param #   \n",
            "=================================================================\n",
            "embedding (Embedding)        (None, 100, 16)           160000    \n",
            "_________________________________________________________________\n",
            "global_average_pooling1d (Gl (None, 16)                0         \n",
            "_________________________________________________________________\n",
            "dense (Dense)                (None, 24)                408       \n",
            "_________________________________________________________________\n",
            "dense_1 (Dense)              (None, 1)                 25        \n",
            "=================================================================\n",
            "Total params: 160,433\n",
            "Trainable params: 160,433\n",
            "Non-trainable params: 0\n",
            "_________________________________________________________________\n"
          ],
          "name": "stdout"
        }
      ]
    },
    {
      "cell_type": "code",
      "metadata": {
        "id": "LRaxcfa0JIJX",
        "colab_type": "code",
        "colab": {
          "base_uri": "https://localhost:8080/",
          "height": 1000
        },
        "outputId": "a47a79e0-325a-47ba-d801-f206a663fecb"
      },
      "source": [
        "num_epochs = 30\n",
        "history = model.fit(\n",
        "    training_padded, training_labels, epochs=num_epochs,\n",
        "    validation_data=(testing_padded, testing_labels),\n",
        "    verbose=2)"
      ],
      "execution_count": 10,
      "outputs": [
        {
          "output_type": "stream",
          "text": [
            "Epoch 1/30\n",
            "625/625 - 2s - loss: 0.6753 - accuracy: 0.5777 - val_loss: 0.6121 - val_accuracy: 0.6600\n",
            "Epoch 2/30\n",
            "625/625 - 2s - loss: 0.4410 - accuracy: 0.8242 - val_loss: 0.3832 - val_accuracy: 0.8401\n",
            "Epoch 3/30\n",
            "625/625 - 2s - loss: 0.3133 - accuracy: 0.8740 - val_loss: 0.3514 - val_accuracy: 0.8527\n",
            "Epoch 4/30\n",
            "625/625 - 2s - loss: 0.2629 - accuracy: 0.8964 - val_loss: 0.3494 - val_accuracy: 0.8498\n",
            "Epoch 5/30\n",
            "625/625 - 2s - loss: 0.2264 - accuracy: 0.9119 - val_loss: 0.3420 - val_accuracy: 0.8581\n",
            "Epoch 6/30\n",
            "625/625 - 2s - loss: 0.1984 - accuracy: 0.9245 - val_loss: 0.3478 - val_accuracy: 0.8544\n",
            "Epoch 7/30\n",
            "625/625 - 2s - loss: 0.1770 - accuracy: 0.9326 - val_loss: 0.3682 - val_accuracy: 0.8532\n",
            "Epoch 8/30\n",
            "625/625 - 2s - loss: 0.1588 - accuracy: 0.9405 - val_loss: 0.4068 - val_accuracy: 0.8369\n",
            "Epoch 9/30\n",
            "625/625 - 2s - loss: 0.1429 - accuracy: 0.9488 - val_loss: 0.3903 - val_accuracy: 0.8533\n",
            "Epoch 10/30\n",
            "625/625 - 2s - loss: 0.1291 - accuracy: 0.9539 - val_loss: 0.4183 - val_accuracy: 0.8442\n",
            "Epoch 11/30\n",
            "625/625 - 2s - loss: 0.1165 - accuracy: 0.9599 - val_loss: 0.4295 - val_accuracy: 0.8506\n",
            "Epoch 12/30\n",
            "625/625 - 2s - loss: 0.1062 - accuracy: 0.9646 - val_loss: 0.4540 - val_accuracy: 0.8474\n",
            "Epoch 13/30\n",
            "625/625 - 2s - loss: 0.0970 - accuracy: 0.9677 - val_loss: 0.4786 - val_accuracy: 0.8435\n",
            "Epoch 14/30\n",
            "625/625 - 2s - loss: 0.0887 - accuracy: 0.9709 - val_loss: 0.5081 - val_accuracy: 0.8422\n",
            "Epoch 15/30\n",
            "625/625 - 2s - loss: 0.0796 - accuracy: 0.9741 - val_loss: 0.5492 - val_accuracy: 0.8348\n",
            "Epoch 16/30\n",
            "625/625 - 2s - loss: 0.0744 - accuracy: 0.9755 - val_loss: 0.5897 - val_accuracy: 0.8287\n",
            "Epoch 17/30\n",
            "625/625 - 2s - loss: 0.0702 - accuracy: 0.9765 - val_loss: 0.6358 - val_accuracy: 0.8228\n",
            "Epoch 18/30\n",
            "625/625 - 2s - loss: 0.0642 - accuracy: 0.9800 - val_loss: 0.6302 - val_accuracy: 0.8304\n",
            "Epoch 19/30\n",
            "625/625 - 2s - loss: 0.0581 - accuracy: 0.9824 - val_loss: 0.6504 - val_accuracy: 0.8281\n",
            "Epoch 20/30\n",
            "625/625 - 2s - loss: 0.0538 - accuracy: 0.9837 - val_loss: 0.6788 - val_accuracy: 0.8281\n",
            "Epoch 21/30\n",
            "625/625 - 2s - loss: 0.0491 - accuracy: 0.9859 - val_loss: 0.7314 - val_accuracy: 0.8261\n",
            "Epoch 22/30\n",
            "625/625 - 2s - loss: 0.0452 - accuracy: 0.9869 - val_loss: 0.7544 - val_accuracy: 0.8222\n",
            "Epoch 23/30\n",
            "625/625 - 2s - loss: 0.0422 - accuracy: 0.9876 - val_loss: 0.7767 - val_accuracy: 0.8223\n",
            "Epoch 24/30\n",
            "625/625 - 2s - loss: 0.0413 - accuracy: 0.9875 - val_loss: 0.8348 - val_accuracy: 0.8174\n",
            "Epoch 25/30\n",
            "625/625 - 2s - loss: 0.0358 - accuracy: 0.9891 - val_loss: 0.8524 - val_accuracy: 0.8174\n",
            "Epoch 26/30\n",
            "625/625 - 2s - loss: 0.0351 - accuracy: 0.9898 - val_loss: 0.9327 - val_accuracy: 0.8164\n",
            "Epoch 27/30\n",
            "625/625 - 2s - loss: 0.0331 - accuracy: 0.9903 - val_loss: 0.8944 - val_accuracy: 0.8188\n",
            "Epoch 28/30\n",
            "625/625 - 2s - loss: 0.0291 - accuracy: 0.9921 - val_loss: 0.9334 - val_accuracy: 0.8168\n",
            "Epoch 29/30\n",
            "625/625 - 2s - loss: 0.0266 - accuracy: 0.9926 - val_loss: 0.9994 - val_accuracy: 0.8150\n",
            "Epoch 30/30\n",
            "625/625 - 2s - loss: 0.0261 - accuracy: 0.9932 - val_loss: 1.0057 - val_accuracy: 0.8123\n"
          ],
          "name": "stdout"
        }
      ]
    },
    {
      "cell_type": "code",
      "metadata": {
        "id": "jKx6go3pJv4E",
        "colab_type": "code",
        "colab": {
          "base_uri": "https://localhost:8080/",
          "height": 541
        },
        "outputId": "8f2515fd-4ccb-46b3-94d6-8050b218b047"
      },
      "source": [
        "import matplotlib.pyplot as plt\n",
        "\n",
        "def plot_graphs(history, string):\n",
        "  plt.plot(history.history[string])\n",
        "  plt.plot(history.history['val_'+string])\n",
        "  plt.xlabel(\"Epochs\")\n",
        "  plt.ylabel(string)\n",
        "  plt.legend([string, 'val_'+string])\n",
        "  plt.show()\n",
        "\n",
        "plot_graphs(history, \"accuracy\")\n",
        "plot_graphs(history, \"loss\")"
      ],
      "execution_count": 11,
      "outputs": [
        {
          "output_type": "display_data",
          "data": {
            "image/png": "[encoded data removed]",
            "text/plain": [
              "<Figure size 432x288 with 1 Axes>"
            ]
          },
          "metadata": {
            "tags": [],
            "needs_background": "light"
          }
        },
        {
          "output_type": "display_data",
          "data": {
            "image/png": "[encoded data removed]",
            "text/plain": [
              "<Figure size 432x288 with 1 Axes>"
            ]
          },
          "metadata": {
            "tags": [],
            "needs_background": "light"
          }
        }
      ]
    },
    {
      "cell_type": "code",
      "metadata": {
        "id": "o_eBIzpEM-_o",
        "colab_type": "code",
        "colab": {
          "base_uri": "https://localhost:8080/",
          "height": 90
        },
        "outputId": "895cdded-9df2-44a2-c242-4d6d4dfbbccf"
      },
      "source": [
        "reverse_word_index = dict([(value, key) for  (key, value) in word_index.items()])\n",
        "\n",
        "def decode_sentence(text):\n",
        "  return ' '.join([reverse_word_index.get(i, '?') for i in text])\n",
        "\n",
        "print(decode_sentence(training_padded[0]))\n",
        "print(training_sentences[2])\n",
        "print(labels[2])\n"
      ],
      "execution_count": 12,
      "outputs": [
        {
          "output_type": "stream",
          "text": [
            "former <OOV> store clerk sues over secret 'black <OOV> for minority shoppers ? ? ? ? ? ? ? ? ? ? ? ? ? ? ? ? ? ? ? ? ? ? ? ? ? ? ? ? ? ? ? ? ? ? ? ? ? ? ? ? ? ? ? ? ? ? ? ? ? ? ? ? ? ? ? ? ? ? ? ? ? ? ? ? ? ? ? ? ? ? ? ? ? ? ? ? ? ? ? ? ? ? ? ? ? ? ? ?\n",
            "[153, 890, 2, 891, 1445, 2215, 595, 5650, 221, 133, 36, 45, 2, 8864]\n",
            "1\n"
          ],
          "name": "stdout"
        }
      ]
    },
    {
      "cell_type": "code",
      "metadata": {
        "id": "Oj_38vi7NzXK",
        "colab_type": "code",
        "colab": {
          "base_uri": "https://localhost:8080/",
          "height": 34
        },
        "outputId": "ffcb0de7-acd2-485a-9783-c9d87c1cf9b9"
      },
      "source": [
        "e = model.layers[0]\n",
        "weights = e.get_weights()[0]\n",
        "print(weights.shape)  # shape: (vocab_size, embedding_dim)"
      ],
      "execution_count": 14,
      "outputs": [
        {
          "output_type": "stream",
          "text": [
            "(10000, 16)\n"
          ],
          "name": "stdout"
        }
      ]
    },
    {
      "cell_type": "code",
      "metadata": {
        "id": "bWPW8qwSOK4t",
        "colab_type": "code",
        "colab": {}
      },
      "source": [
        "import io\n",
        "\n",
        "out_v = io.open('vecs.tsv', 'w', encoding='utf-8')\n",
        "out_m = io.open('meta.tsv', 'w', encoding='utf-8')\n",
        "for word_num in range(1, vocab_size):\n",
        "  word = reverse_word_index[word_num]\n",
        "  embeddings = weights[word_num]\n",
        "  out_m.write(word+ \"\\n\")\n",
        "  out_v.write('\\t'.join([str(x) for x in embeddings]) + \"\\n\")\n",
        "out_v.close()\n",
        "out_m.close()"
      ],
      "execution_count": 0,
      "outputs": []
    },
    {
      "cell_type": "code",
      "metadata": {
        "id": "_nQoHyQWPLic",
        "colab_type": "code",
        "colab": {}
      },
      "source": [
        "try:\n",
        "  from google.colab import files\n",
        "except ImportError:\n",
        "  pass\n",
        "else:\n",
        "  files.download('vecs.tsv')\n",
        "  files.download('meta.tsv')"
      ],
      "execution_count": 0,
      "outputs": []
    },
    {
      "cell_type": "code",
      "metadata": {
        "id": "t0qARtfgPcWN",
        "colab_type": "code",
        "colab": {
          "base_uri": "https://localhost:8080/",
          "height": 52
        },
        "outputId": "2a4d6668-47fa-461c-88dc-703e15718036"
      },
      "source": [
        "sentence = [\n",
        "    \"granny starting to fear spiders in the garden might be real\",\n",
        "    \"game of thrones season finale showing this sunday night\"\n",
        "]\n",
        "sequences = tokenizer.texts_to_sequences(sentence)\n",
        "padded = pad_sequences(sequences, maxlen=max_length, padding=padding_type, truncating=trunc_type)\n",
        "print(model.predict(padded))"
      ],
      "execution_count": 17,
      "outputs": [
        {
          "output_type": "stream",
          "text": [
            "[[9.5947212e-01]\n",
            " [2.8872065e-04]]\n"
          ],
          "name": "stdout"
        }
      ]
    }
  ]
}
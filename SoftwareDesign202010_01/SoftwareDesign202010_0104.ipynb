{
  "nbformat": 4,
  "nbformat_minor": 0,
  "metadata": {
    "colab": {
      "name": "SoftwareDesign202010_0104.ipynb",
      "provenance": [],
      "authorship_tag": "ABX9TyNWcN7HxCRdBwKBqFuKprmT",
      "include_colab_link": true
    },
    "kernelspec": {
      "name": "python3",
      "display_name": "Python 3"
    }
  },
  "cells": [
    {
      "cell_type": "markdown",
      "metadata": {
        "id": "view-in-github",
        "colab_type": "text"
      },
      "source": [
        "<a href=\"https://colab.research.google.com/github/zfukuoka/Copying_a_sutra/blob/master/SoftwareDesign202010_01/SoftwareDesign202010_0104.ipynb\" target=\"_parent\"><img src=\"https://colab.research.google.com/assets/colab-badge.svg\" alt=\"Open In Colab\"/></a>"
      ]
    },
    {
      "cell_type": "markdown",
      "metadata": {
        "id": "WXxBCYxwXSX8"
      },
      "source": [
        "# SoftwareDesign 2020年10月号第一特集 Pythonではじめる統計学\n",
        "\n",
        "公式のサンプルコードの写経\n",
        "\n",
        "## 第4章 未知のデータを知るための推測統計"
      ]
    },
    {
      "cell_type": "code",
      "metadata": {
        "id": "3axyR7t1XJxh"
      },
      "source": [
        "# 基本ライブラリ\n",
        "import pandas as pd\n",
        "import numpy as np\n",
        "import numpy.random as rd\n",
        "import scipy.stats as st\n",
        "from tqdm import tqdm\n",
        "from IPython.display import display\n",
        "\n",
        "# グラフ描画系\n",
        "import matplotlib\n",
        "import matplotlib.pyplot as plt\n",
        "from matplotlib import animation as ani\n",
        "import seaborn as sns\n",
        "\n",
        "# plot settings\n",
        "plt.rcParams[\"patch.force_edgecolor\"] = True\n",
        "sns.set(style=\"whitegrid\", palette=\"muted\", color_codes=True)\n",
        "sns.set_style(\"whitegrid\", {'grid.linestyle': '--'})\n",
        "\n",
        "%config InlineBackend.figure_format='retina'"
      ],
      "execution_count": null,
      "outputs": []
    },
    {
      "cell_type": "code",
      "metadata": {
        "id": "T1VgXLbhYoCq",
        "outputId": "a12dda3f-503b-442c-b787-77134506d714",
        "colab": {
          "base_uri": "https://localhost:8080/"
        }
      },
      "source": [
        "!pip install japanize_matplotlib"
      ],
      "execution_count": null,
      "outputs": [
        {
          "output_type": "stream",
          "text": [
            "Collecting japanize_matplotlib\n",
            "\u001b[?25l  Downloading https://files.pythonhosted.org/packages/aa/85/08a4b7fe8987582d99d9bb7ad0ff1ec75439359a7f9690a0dbf2dbf98b15/japanize-matplotlib-1.1.3.tar.gz (4.1MB)\n",
            "\u001b[K     |████████████████████████████████| 4.1MB 2.7MB/s \n",
            "\u001b[?25hRequirement already satisfied: matplotlib in /usr/local/lib/python3.6/dist-packages (from japanize_matplotlib) (3.2.2)\n",
            "Requirement already satisfied: kiwisolver>=1.0.1 in /usr/local/lib/python3.6/dist-packages (from matplotlib->japanize_matplotlib) (1.2.0)\n",
            "Requirement already satisfied: cycler>=0.10 in /usr/local/lib/python3.6/dist-packages (from matplotlib->japanize_matplotlib) (0.10.0)\n",
            "Requirement already satisfied: numpy>=1.11 in /usr/local/lib/python3.6/dist-packages (from matplotlib->japanize_matplotlib) (1.18.5)\n",
            "Requirement already satisfied: pyparsing!=2.0.4,!=2.1.2,!=2.1.6,>=2.0.1 in /usr/local/lib/python3.6/dist-packages (from matplotlib->japanize_matplotlib) (2.4.7)\n",
            "Requirement already satisfied: python-dateutil>=2.1 in /usr/local/lib/python3.6/dist-packages (from matplotlib->japanize_matplotlib) (2.8.1)\n",
            "Requirement already satisfied: six in /usr/local/lib/python3.6/dist-packages (from cycler>=0.10->matplotlib->japanize_matplotlib) (1.15.0)\n",
            "Building wheels for collected packages: japanize-matplotlib\n",
            "  Building wheel for japanize-matplotlib (setup.py) ... \u001b[?25l\u001b[?25hdone\n",
            "  Created wheel for japanize-matplotlib: filename=japanize_matplotlib-1.1.3-cp36-none-any.whl size=4120275 sha256=ba6e47d9f31f174b18e90f52acb442d65f5acff64268e366dda9897d471e0758\n",
            "  Stored in directory: /root/.cache/pip/wheels/b7/d9/a2/f907d50b32a2d2008ce5d691d30fb6569c2c93eefcfde55202\n",
            "Successfully built japanize-matplotlib\n",
            "Installing collected packages: japanize-matplotlib\n",
            "Successfully installed japanize-matplotlib-1.1.3\n"
          ],
          "name": "stdout"
        }
      ]
    },
    {
      "cell_type": "code",
      "metadata": {
        "id": "-n0uE9WJYuXR"
      },
      "source": [
        "import japanize_matplotlib"
      ],
      "execution_count": null,
      "outputs": []
    },
    {
      "cell_type": "markdown",
      "metadata": {
        "id": "msLfMK6NYx5e"
      },
      "source": [
        "＃ ランダムサンプリングによる標本抽出"
      ]
    },
    {
      "cell_type": "code",
      "metadata": {
        "id": "ZY03DAKZaLK6"
      },
      "source": [
        "from scipy.stats import norm"
      ],
      "execution_count": null,
      "outputs": []
    },
    {
      "cell_type": "markdown",
      "metadata": {
        "id": "wk-ckO8S9BI1"
      },
      "source": [
        "* 図１ 5000万人の身長データの母集団を生成する"
      ]
    },
    {
      "cell_type": "code",
      "metadata": {
        "id": "URf1fZyRY3j5",
        "outputId": "42dd6b2d-8374-46d9-9e1f-225bc30ed526",
        "colab": {
          "base_uri": "https://localhost:8080/"
        }
      },
      "source": [
        "# コード17: 身長データの母集団を生成\n",
        "\n",
        "np.random.seed(71)\n",
        "n_data = 50000000\n",
        "\n",
        "# 日本人男性5000万人の身長を模したデータを生成。これを母集団とする。\n",
        "# 母集団 171.4cm, 母標準偏差 5.8cm\n",
        "height_men = norm.rvs(loc=171.4, scale=5.8, size=n_data)\n",
        "population_mean = np.mean(height_men)\n",
        "population_std = np.std(height_men)\n",
        "print(f\"母集団: {population_mean:.1f}, 母標準偏差: {population_std:.1f}\")"
      ],
      "execution_count": null,
      "outputs": [
        {
          "output_type": "stream",
          "text": [
            "母集団: 171.4, 母標準偏差: 5.8\n"
          ],
          "name": "stdout"
        }
      ]
    },
    {
      "cell_type": "code",
      "metadata": {
        "id": "esBt6DSXpr8K",
        "outputId": "5afc88b5-35bf-490a-9b7a-ee50ae069f8d",
        "colab": {
          "base_uri": "https://localhost:8080/",
          "height": 296
        }
      },
      "source": [
        "plt.figure(figsize=(6,4))\n",
        "plt.hist(height_men, bins=np.arange(140, 200, 2.5))\n",
        "plt.xlim(150, 195)\n",
        "plt.ylabel(\"度数\")\n",
        "plt.xlabel(\"身長\")\n",
        "plt.show()"
      ],
      "execution_count": null,
      "outputs": [
        {
          "output_type": "display_data",
          "data": {
            "image/png": "[encoded data removed]",
            "text/plain": [
              "<Figure size 432x288 with 1 Axes>"
            ]
          },
          "metadata": {
            "tags": [],
            "image/png": {
              "width": 392,
              "height": 279
            },
            "needs_background": "light"
          }
        }
      ]
    },
    {
      "cell_type": "markdown",
      "metadata": {
        "id": "u0LpBXhR9P8K"
      },
      "source": [
        "* 図２ 10個のデータからなる標本を抽出した例"
      ]
    },
    {
      "cell_type": "code",
      "metadata": {
        "id": "SH9j7O1zqB51",
        "outputId": "b60c1972-4baa-4c5b-ea54-a98d615bc74b",
        "colab": {
          "base_uri": "https://localhost:8080/"
        }
      },
      "source": [
        "# コード18: 10個のサンプルを抽出した例\n",
        "\n",
        "np.random.seed(71)\n",
        "# ランダムサンプリングするための添え字をシャッフルして作る\n",
        "index = np.arange(n_data)\n",
        "np.random.shuffle(index)\n",
        "\n",
        "# ためしに最初の10個を見てみる\n",
        "print(\"ランダムサンプリング対象の添字：\")\n",
        "print(index[:10].tolist())\n",
        "\n",
        "height_men_sampled = height_men[index[:10]]\n",
        "print(\"ランダムサンプリングされた身長データ：\")\n",
        "print(height_men_sampled)\n"
      ],
      "execution_count": null,
      "outputs": [
        {
          "output_type": "stream",
          "text": [
            "ランダムサンプリング対象の添字：\n",
            "[828356, 46136347, 17344906, 34132860, 48809383, 34778100, 43945431, 20780887, 32401764, 46842498]\n",
            "ランダムサンプリングされた身長データ：\n",
            "[173.68608975 180.44404174 161.66773558 175.32291427 167.8998898\n",
            " 166.79531723 176.93333008 169.00385705 171.8846459  165.51519627]\n"
          ],
          "name": "stdout"
        }
      ]
    },
    {
      "cell_type": "markdown",
      "metadata": {
        "id": "hg01S7CX9dbO"
      },
      "source": [
        "* 図３ 母集団からのサンプルサイズ100個の標本データのヒストグラム"
      ]
    },
    {
      "cell_type": "code",
      "metadata": {
        "id": "N4wX-LcPR5dr",
        "outputId": "5d338636-7699-46f5-cc66-ac189586ff83",
        "colab": {
          "base_uri": "https://localhost:8080/",
          "height": 301
        }
      },
      "source": [
        "# 100個の標本の分布\n",
        "height_men_sampled = height_men[index[:100]]\n",
        "plt.figure(figsize=(6,4))\n",
        "plt.hist(height_men_sampled, bins=np.arange(140, 200, 2.5))\n",
        "plt.xlim(145, 195)\n",
        "plt.ylabel(\"度数\")\n",
        "plt.xlabel(\"身長\")\n",
        "plt.show()\n",
        "\n",
        "print(f\"平均： {np.mean(height_men_sampled):.1f}, 標準偏差： {np.std(height_men_sampled, ddof=1):.2f}\")"
      ],
      "execution_count": null,
      "outputs": [
        {
          "output_type": "display_data",
          "data": {
            "image/png": "[encoded data removed]",
            "text/plain": [
              "<Figure size 432x288 with 1 Axes>"
            ]
          },
          "metadata": {
            "tags": [],
            "image/png": {
              "width": 398,
              "height": 267
            },
            "needs_background": "light"
          }
        },
        {
          "output_type": "stream",
          "text": [
            "平均： 171.1, 標準偏差： 5.48\n"
          ],
          "name": "stdout"
        }
      ]
    },
    {
      "cell_type": "markdown",
      "metadata": {
        "id": "0DLPN3qf9rZd"
      },
      "source": [
        "* 図４ 標本平均、標本標準偏差の式\n",
        "  * $ \\bar{x} = \\frac{1}{n} \\sum_{i=1}^{n} x_i $\n",
        "  * $ s = \\sqrt{ \\frac{1}{n-1} \\sum_{i=1}^{n} ( x_i - \\bar{x} ) ^2 } $\n",
        "  * $ n $ :標本のサンプルサイズ"
      ]
    }
  ]
}
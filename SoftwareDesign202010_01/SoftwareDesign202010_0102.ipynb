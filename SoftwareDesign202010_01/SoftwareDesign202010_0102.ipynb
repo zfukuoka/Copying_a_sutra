{
  "nbformat": 4,
  "nbformat_minor": 0,
  "metadata": {
    "colab": {
      "name": "SoftwareDesign202010_0102.ipynb",
      "provenance": [],
      "authorship_tag": "ABX9TyMPYhTmdq6O/ikUhquNljMd",
      "include_colab_link": true
    },
    "kernelspec": {
      "name": "python3",
      "display_name": "Python 3"
    }
  },
  "cells": [
    {
      "cell_type": "markdown",
      "metadata": {
        "id": "view-in-github",
        "colab_type": "text"
      },
      "source": [
        "<a href=\"https://colab.research.google.com/github/zfukuoka/Copying_a_sutra/blob/master/SoftwareDesign202010_01/SoftwareDesign202010_0102.ipynb\" target=\"_parent\"><img src=\"https://colab.research.google.com/assets/colab-badge.svg\" alt=\"Open In Colab\"/></a>"
      ]
    },
    {
      "cell_type": "markdown",
      "metadata": {
        "id": "KOxfU2buhIT1"
      },
      "source": [
        "# SoftwareDesign 2020年10月号第一特集 Pythonではじめる統計学\n",
        "\n",
        "公式のサンプルコードの写経\n",
        "\n",
        "## 第2章 平均から始める記述統計"
      ]
    },
    {
      "cell_type": "code",
      "metadata": {
        "id": "sSVt1Qr6gcjF"
      },
      "source": [
        "# 基本ライブラリ\n",
        "import pandas as pd\n",
        "import numpy as np\n",
        "import numpy.random as rd\n",
        "import scipy.stats as st\n",
        "from tqdm import tqdm\n",
        "from IPython.display import display\n",
        "\n",
        "# グラフ描画系\n",
        "import matplotlib\n",
        "import matplotlib.pyplot as plt\n",
        "from matplotlib import animation as ani\n",
        "import seaborn as sns\n",
        "\n",
        "# plot setting\n",
        "plt.rcParams[\"patch.force_edgecolor\"] = True\n",
        "sns.set(style=\"whitegrid\", palette=\"muted\", color_codes=True)\n",
        "sns.set_style(\"whitegrid\", {'grid.linestyle':'--'})\n"
      ],
      "execution_count": 1,
      "outputs": []
    },
    {
      "cell_type": "code",
      "metadata": {
        "id": "CmzF8hfoojMd",
        "outputId": "0ed3bdb3-be7c-4099-fc07-880e75fc59d5",
        "colab": {
          "base_uri": "https://localhost:8080/",
          "height": 326
        }
      },
      "source": [
        "!pip install japanize_matplotlib"
      ],
      "execution_count": 2,
      "outputs": [
        {
          "output_type": "stream",
          "text": [
            "Collecting japanize_matplotlib\n",
            "\u001b[?25l  Downloading https://files.pythonhosted.org/packages/2c/aa/3b24d54bd02e25d63c8f23bb316694e1aad7ffdc07ba296e7c9be2f6837d/japanize-matplotlib-1.1.2.tar.gz (4.1MB)\n",
            "\u001b[K     |████████████████████████████████| 4.1MB 2.8MB/s \n",
            "\u001b[?25hRequirement already satisfied: matplotlib in /usr/local/lib/python3.6/dist-packages (from japanize_matplotlib) (3.2.2)\n",
            "Requirement already satisfied: cycler>=0.10 in /usr/local/lib/python3.6/dist-packages (from matplotlib->japanize_matplotlib) (0.10.0)\n",
            "Requirement already satisfied: pyparsing!=2.0.4,!=2.1.2,!=2.1.6,>=2.0.1 in /usr/local/lib/python3.6/dist-packages (from matplotlib->japanize_matplotlib) (2.4.7)\n",
            "Requirement already satisfied: python-dateutil>=2.1 in /usr/local/lib/python3.6/dist-packages (from matplotlib->japanize_matplotlib) (2.8.1)\n",
            "Requirement already satisfied: numpy>=1.11 in /usr/local/lib/python3.6/dist-packages (from matplotlib->japanize_matplotlib) (1.18.5)\n",
            "Requirement already satisfied: kiwisolver>=1.0.1 in /usr/local/lib/python3.6/dist-packages (from matplotlib->japanize_matplotlib) (1.2.0)\n",
            "Requirement already satisfied: six in /usr/local/lib/python3.6/dist-packages (from cycler>=0.10->matplotlib->japanize_matplotlib) (1.15.0)\n",
            "Building wheels for collected packages: japanize-matplotlib\n",
            "  Building wheel for japanize-matplotlib (setup.py) ... \u001b[?25l\u001b[?25hdone\n",
            "  Created wheel for japanize-matplotlib: filename=japanize_matplotlib-1.1.2-cp36-none-any.whl size=4120193 sha256=86e13f5bcd09b41a7d2a41ed8501ee908e9883007f0962f5ba95d22507fabb98\n",
            "  Stored in directory: /root/.cache/pip/wheels/9c/f9/fc/bc052ce743a03f94ccc7fda73d1d389ce98216c6ffaaf65afc\n",
            "Successfully built japanize-matplotlib\n",
            "Installing collected packages: japanize-matplotlib\n",
            "Successfully installed japanize-matplotlib-1.1.2\n"
          ],
          "name": "stdout"
        }
      ]
    },
    {
      "cell_type": "code",
      "metadata": {
        "id": "karJUx0orsgt",
        "outputId": "0cc2b1c8-c6af-4ad6-fc75-62a055a10ffe",
        "colab": {
          "base_uri": "https://localhost:8080/",
          "height": 88
        }
      },
      "source": [
        "import japanize_matplotlib"
      ],
      "execution_count": 3,
      "outputs": [
        {
          "output_type": "stream",
          "text": [
            "/usr/local/lib/python3.6/dist-packages/japanize_matplotlib/japanize_matplotlib.py:15: MatplotlibDeprecationWarning: \n",
            "The createFontList function was deprecated in Matplotlib 3.2 and will be removed two minor releases later. Use FontManager.addfont instead.\n",
            "  font_list = font_manager.createFontList(font_files)\n"
          ],
          "name": "stderr"
        }
      ]
    },
    {
      "cell_type": "code",
      "metadata": {
        "id": "GQVaBJLwrwGO"
      },
      "source": [
        "np.random.seed(71)\n",
        "n_data = 1000\n",
        "height_men = np.random.normal(loc=171.4, scale=5.8, size=n_data)\n",
        "height_women = np.random.normal(loc=157.5, scale=5.4, size=n_data)"
      ],
      "execution_count": 4,
      "outputs": []
    },
    {
      "cell_type": "markdown",
      "metadata": {
        "id": "uC6RiV_csXfZ"
      },
      "source": [
        "* 図1 身長データのヒストグラム"
      ]
    },
    {
      "cell_type": "code",
      "metadata": {
        "id": "_-o3yLJAsNPK",
        "outputId": "bf43bd83-64a7-4aad-b3bc-b55130dda1f1",
        "colab": {
          "base_uri": "https://localhost:8080/",
          "height": 284
        }
      },
      "source": [
        "# コード1: pythonでヒストグラム描画\n",
        "plt.figure(figsize=(8,4))\n",
        "plt.hist(height_men, bins=np.arange(150, 195, 2.5),)\n",
        "plt.xlim(150, 195)\n",
        "plt.ylabel(\"度数\")\n",
        "plt.xlabel(\"身長\")\n",
        "plt.show()"
      ],
      "execution_count": 5,
      "outputs": [
        {
          "output_type": "display_data",
          "data": {
            "image/png": "[encoded data removed]",
            "text/plain": [
              "<Figure size 576x288 with 1 Axes>"
            ]
          },
          "metadata": {
            "tags": [],
            "needs_background": "light"
          }
        }
      ]
    },
    {
      "cell_type": "code",
      "metadata": {
        "id": "h8iK7lU-tBi_",
        "outputId": "e239bb7f-ec43-4482-9f13-ef4f5fe20fe0",
        "colab": {
          "base_uri": "https://localhost:8080/",
          "height": 284
        }
      },
      "source": [
        "plt.figure(figsize=(8,4))\n",
        "plt.hist(height_women, bins=np.arange(135, 185, 2.5),)\n",
        "plt.xlim(135, 185)\n",
        "plt.ylabel(\"度数\")\n",
        "plt.xlabel(\"身長\")\n",
        "plt.show()"
      ],
      "execution_count": 6,
      "outputs": [
        {
          "output_type": "display_data",
          "data": {
            "image/png": "[encoded data removed]",
            "text/plain": [
              "<Figure size 576x288 with 1 Axes>"
            ]
          },
          "metadata": {
            "tags": [],
            "needs_background": "light"
          }
        }
      ]
    },
    {
      "cell_type": "markdown",
      "metadata": {
        "id": "duii-KPtxCco"
      },
      "source": [
        "* 図2 2つのデータセットのヒストグラム"
      ]
    },
    {
      "cell_type": "code",
      "metadata": {
        "id": "ZTEub0-ZwVvg",
        "outputId": "ecb16dd0-c639-42e5-8e30-d99e435b67e8",
        "colab": {
          "base_uri": "https://localhost:8080/",
          "height": 284
        }
      },
      "source": [
        "# コード2: pythonでヒストグラム描画\n",
        "plt.figure(figsize=(8,4))\n",
        "plt.hist(height_men, bins=np.arange(140, 200, 2.5), alpha=0.7, label=\"男性\")\n",
        "plt.hist(height_women, bins=np.arange(135, 180, 2.5), alpha=0.7, label=\"女性\")\n",
        "plt.xlim(135, 195)\n",
        "plt.ylabel(\"度数\")\n",
        "plt.xlabel(\"身長\")\n",
        "plt.show()"
      ],
      "execution_count": 7,
      "outputs": [
        {
          "output_type": "display_data",
          "data": {
            "image/png": "[encoded data removed]",
            "text/plain": [
              "<Figure size 576x288 with 1 Axes>"
            ]
          },
          "metadata": {
            "tags": [],
            "needs_background": "light"
          }
        }
      ]
    },
    {
      "cell_type": "markdown",
      "metadata": {
        "id": "K6-tgzDWQym_"
      },
      "source": [
        "* 図３ 総和記号への書き換え\n",
        "\n",
        "1000人分の合計\n",
        "$$\n",
        "\\begin{align}\n",
        " &= x_1 + x_2 + x_3 + \\dotsc + x_{999} + x_{1000} \\\\\n",
        " &= \\sum_{i=1}^{1000} x_i\n",
        " \\end{align}\n",
        "$$\n",
        "\n",
        "\n"
      ]
    },
    {
      "cell_type": "code",
      "metadata": {
        "id": "_9DLYfZvPp0p",
        "outputId": "fabb2d0a-f150-414d-d129-2209c65c0d4c",
        "colab": {
          "base_uri": "https://localhost:8080/",
          "height": 34
        }
      },
      "source": [
        "# コード3: 総和記号がやっていることをpythonコードで表す\n",
        "height_sum = 0\n",
        "for i in range(len(height_men)):\n",
        "  height_sum += height_men[i]\n",
        "print(height_sum)"
      ],
      "execution_count": 8,
      "outputs": [
        {
          "output_type": "stream",
          "text": [
            "171409.2829305438\n"
          ],
          "name": "stdout"
        }
      ]
    },
    {
      "cell_type": "code",
      "metadata": {
        "id": "znft-JjcRRZH",
        "outputId": "b46e8164-0528-4612-d322-f310f04b675d",
        "colab": {
          "base_uri": "https://localhost:8080/",
          "height": 34
        }
      },
      "source": [
        "# exp関数\n",
        "print(np.e)"
      ],
      "execution_count": 9,
      "outputs": [
        {
          "output_type": "stream",
          "text": [
            "2.718281828459045\n"
          ],
          "name": "stdout"
        }
      ]
    },
    {
      "cell_type": "markdown",
      "metadata": {
        "id": "wGcsnh7neQhq"
      },
      "source": [
        "### exp関数"
      ]
    },
    {
      "cell_type": "code",
      "metadata": {
        "id": "QmStBiG8c43J",
        "outputId": "f943a93e-2554-427c-d6e7-22e164d9b0cd",
        "colab": {
          "base_uri": "https://localhost:8080/",
          "height": 284
        }
      },
      "source": [
        "# コード4: exp(x)のグラフ描画\n",
        "x = np.linspace(-2, 2, 301)\n",
        "plt.plot(x, np.exp(x))\n",
        "plt.ylabel(\"exp(x)\")\n",
        "plt.xlabel(\"x\")\n",
        "plt.show()"
      ],
      "execution_count": 11,
      "outputs": [
        {
          "output_type": "display_data",
          "data": {
            "image/png": "[encoded data removed]",
            "text/plain": [
              "<Figure size 432x288 with 1 Axes>"
            ]
          },
          "metadata": {
            "tags": [],
            "needs_background": "light"
          }
        }
      ]
    },
    {
      "cell_type": "markdown",
      "metadata": {
        "id": "1UiUsZB1ewDQ"
      },
      "source": [
        "### 平均"
      ]
    },
    {
      "cell_type": "code",
      "metadata": {
        "id": "s94-aJhfe-Di",
        "outputId": "4b1bc6fd-6f8b-4d47-c001-858de4e0fafb",
        "colab": {
          "base_uri": "https://localhost:8080/",
          "height": 34
        }
      },
      "source": [
        "# コード5: 平均の計算のpython コード\n",
        "sum_val = 0\n",
        "n = len(x)\n",
        "for i in range(n):\n",
        "  sum_val += x[i]\n",
        "mean_val = sum_val / n\n",
        "print(mean_val)"
      ],
      "execution_count": 12,
      "outputs": [
        {
          "output_type": "stream",
          "text": [
            "1.0327656043024712e-17\n"
          ],
          "name": "stdout"
        }
      ]
    },
    {
      "cell_type": "markdown",
      "metadata": {
        "id": "109jJKQxfl62"
      },
      "source": [
        "### 平均値の特性"
      ]
    },
    {
      "cell_type": "code",
      "metadata": {
        "id": "0TWNgMu4fq4n"
      },
      "source": [
        "def plot_mean(x, xlim):\n",
        "  m = np.mean(x)\n",
        "  plt.figure(figsize=(13,2))\n",
        "  plt.scatter(x, np.zeros_like(x), s=50, zorder=100)\n",
        "  plt.scatter(m, [0], s=100, c=\"r\", zorder=100)\n",
        "\n",
        "  for i in range((len(x))):\n",
        "    plt.text(x[i], -0.3, f\"x{i+1}\", size=12)\n",
        "    plt.text(x[i], -0.5, f\"={x[i]}\", size=12)\n",
        "  \n",
        "  plt.text(m, -0.3, \"average\", size=12)\n",
        "  plt.text(m, -0.6, f\"={m:.1f}\", size=12)\n",
        "  plt.plot([0,100], [0,0], c=\"K\", zorder=10)\n",
        "\n",
        "  plt.yticks([])\n",
        "  plt.xlim(xlim)\n",
        "  plt.ylim(-1,1)\n",
        "  plt.xlabel(\"test score\")\n",
        "  plt.show()"
      ],
      "execution_count": 15,
      "outputs": []
    },
    {
      "cell_type": "code",
      "metadata": {
        "id": "sFtMeorkjfK2",
        "outputId": "b34a23f2-9103-4f4f-bb19-5f4dbe24e5c9",
        "colab": {
          "base_uri": "https://localhost:8080/",
          "height": 229
        }
      },
      "source": [
        "x = [96, 63, 85, 66, 91, 89, 77]\n",
        "plot_mean(x, xlim=(60, 100))"
      ],
      "execution_count": 16,
      "outputs": [
        {
          "output_type": "stream",
          "text": [
            "/usr/local/lib/python3.6/dist-packages/IPython/core/pylabtools.py:125: MatplotlibDeprecationWarning: Support for uppercase single-letter colors is deprecated since Matplotlib 3.1 and will be removed in 3.3; please use lowercase instead.\n",
            "  fig.canvas.print_figure(bytes_io, **kw)\n"
          ],
          "name": "stderr"
        },
        {
          "output_type": "display_data",
          "data": {
            "image/png": "[encoded data removed]",
            "text/plain": [
              "<Figure size 936x144 with 1 Axes>"
            ]
          },
          "metadata": {
            "tags": [],
            "needs_background": "light"
          }
        }
      ]
    }
  ]
}
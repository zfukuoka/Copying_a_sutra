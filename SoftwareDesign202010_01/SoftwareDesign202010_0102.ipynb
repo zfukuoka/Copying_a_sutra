{
  "nbformat": 4,
  "nbformat_minor": 0,
  "metadata": {
    "colab": {
      "name": "SoftwareDesign202010_0102.ipynb",
      "provenance": [],
      "authorship_tag": "ABX9TyMZDDCsn2gqNXIieKXJX4jn",
      "include_colab_link": true
    },
    "kernelspec": {
      "name": "python3",
      "display_name": "Python 3"
    }
  },
  "cells": [
    {
      "cell_type": "markdown",
      "metadata": {
        "id": "view-in-github",
        "colab_type": "text"
      },
      "source": [
        "<a href=\"https://colab.research.google.com/github/zfukuoka/Copying_a_sutra/blob/master/SoftwareDesign202010_01/SoftwareDesign202010_0102.ipynb\" target=\"_parent\"><img src=\"https://colab.research.google.com/assets/colab-badge.svg\" alt=\"Open In Colab\"/></a>"
      ]
    },
    {
      "cell_type": "markdown",
      "metadata": {
        "id": "KOxfU2buhIT1"
      },
      "source": [
        "# SoftwareDesign 2020年10月号第一特集 Pythonではじめる統計学\n",
        "\n",
        "公式のサンプルコードの写経\n",
        "\n",
        "## 第2章 平均から始める記述統計"
      ]
    },
    {
      "cell_type": "code",
      "metadata": {
        "id": "sSVt1Qr6gcjF"
      },
      "source": [
        "# 基本ライブラリ\n",
        "import pandas as pd\n",
        "import numpy as np\n",
        "import numpy.random as rd\n",
        "import scipy.stats as st\n",
        "from tqdm import tqdm\n",
        "from IPython.display import display\n",
        "\n",
        "# グラフ描画系\n",
        "import matplotlib\n",
        "import matplotlib.pyplot as plt\n",
        "from matplotlib import animation as ani\n",
        "import seaborn as sns\n",
        "\n",
        "# plot setting\n",
        "plt.rcParams[\"patch.force_edgecolor\"] = True\n",
        "sns.set(style=\"whitegrid\", palette=\"muted\", color_codes=True)\n",
        "sns.set_style(\"whitegrid\", {'grid.linestyle':'--'})\n"
      ],
      "execution_count": 1,
      "outputs": []
    },
    {
      "cell_type": "code",
      "metadata": {
        "id": "CmzF8hfoojMd",
        "outputId": "69a70fdc-6ad4-4ea9-d416-cc5a07dc1c97",
        "colab": {
          "base_uri": "https://localhost:8080/",
          "height": 306
        }
      },
      "source": [
        "!pip install japanize_matplotlib"
      ],
      "execution_count": 2,
      "outputs": [
        {
          "output_type": "stream",
          "text": [
            "Collecting japanize_matplotlib\n",
            "\u001b[?25l  Downloading https://files.pythonhosted.org/packages/2c/aa/3b24d54bd02e25d63c8f23bb316694e1aad7ffdc07ba296e7c9be2f6837d/japanize-matplotlib-1.1.2.tar.gz (4.1MB)\n",
            "\u001b[K     |████████████████████████████████| 4.1MB 2.3MB/s \n",
            "\u001b[?25hRequirement already satisfied: matplotlib in /usr/local/lib/python3.6/dist-packages (from japanize_matplotlib) (3.2.2)\n",
            "Requirement already satisfied: numpy>=1.11 in /usr/local/lib/python3.6/dist-packages (from matplotlib->japanize_matplotlib) (1.18.5)\n",
            "Requirement already satisfied: kiwisolver>=1.0.1 in /usr/local/lib/python3.6/dist-packages (from matplotlib->japanize_matplotlib) (1.2.0)\n",
            "Requirement already satisfied: pyparsing!=2.0.4,!=2.1.2,!=2.1.6,>=2.0.1 in /usr/local/lib/python3.6/dist-packages (from matplotlib->japanize_matplotlib) (2.4.7)\n",
            "Requirement already satisfied: cycler>=0.10 in /usr/local/lib/python3.6/dist-packages (from matplotlib->japanize_matplotlib) (0.10.0)\n",
            "Requirement already satisfied: python-dateutil>=2.1 in /usr/local/lib/python3.6/dist-packages (from matplotlib->japanize_matplotlib) (2.8.1)\n",
            "Requirement already satisfied: six in /usr/local/lib/python3.6/dist-packages (from cycler>=0.10->matplotlib->japanize_matplotlib) (1.15.0)\n",
            "Building wheels for collected packages: japanize-matplotlib\n",
            "  Building wheel for japanize-matplotlib (setup.py) ... \u001b[?25l\u001b[?25hdone\n",
            "  Created wheel for japanize-matplotlib: filename=japanize_matplotlib-1.1.2-cp36-none-any.whl size=4120193 sha256=621d55b7bacfb992f2ffbbc17650f797ad7df4825383a940097c3112f3ecfe31\n",
            "  Stored in directory: /root/.cache/pip/wheels/9c/f9/fc/bc052ce743a03f94ccc7fda73d1d389ce98216c6ffaaf65afc\n",
            "Successfully built japanize-matplotlib\n",
            "Installing collected packages: japanize-matplotlib\n",
            "Successfully installed japanize-matplotlib-1.1.2\n"
          ],
          "name": "stdout"
        }
      ]
    },
    {
      "cell_type": "code",
      "metadata": {
        "id": "karJUx0orsgt",
        "outputId": "eaba5393-8bfc-4dc6-d748-7f7c9e4a9fb3",
        "colab": {
          "base_uri": "https://localhost:8080/",
          "height": 68
        }
      },
      "source": [
        "import japanize_matplotlib"
      ],
      "execution_count": 3,
      "outputs": [
        {
          "output_type": "stream",
          "text": [
            "/usr/local/lib/python3.6/dist-packages/japanize_matplotlib/japanize_matplotlib.py:15: MatplotlibDeprecationWarning: \n",
            "The createFontList function was deprecated in Matplotlib 3.2 and will be removed two minor releases later. Use FontManager.addfont instead.\n",
            "  font_list = font_manager.createFontList(font_files)\n"
          ],
          "name": "stderr"
        }
      ]
    },
    {
      "cell_type": "code",
      "metadata": {
        "id": "GQVaBJLwrwGO"
      },
      "source": [
        "np.random.seed(71)\n",
        "n_data = 1000\n",
        "height_men = np.random.normal(loc=171.4, scale=5.8, size=n_data)\n",
        "height_women = np.random.normal(loc=157.5, scale=5.4, size=n_data)"
      ],
      "execution_count": 4,
      "outputs": []
    },
    {
      "cell_type": "markdown",
      "metadata": {
        "id": "uC6RiV_csXfZ"
      },
      "source": [
        "* 図1 身長データのヒストグラム"
      ]
    },
    {
      "cell_type": "code",
      "metadata": {
        "id": "_-o3yLJAsNPK",
        "outputId": "3872f174-7dd5-40c9-9791-14632a5bf638",
        "colab": {
          "base_uri": "https://localhost:8080/",
          "height": 284
        }
      },
      "source": [
        "# コード1: pythonでヒストグラム描画\n",
        "plt.figure(figsize=(8,4))\n",
        "plt.hist(height_men, bins=np.arange(150, 195, 2.5),)\n",
        "plt.xlim(150, 195)\n",
        "plt.ylabel(\"度数\")\n",
        "plt.xlabel(\"身長\")\n",
        "plt.show()"
      ],
      "execution_count": 5,
      "outputs": [
        {
          "output_type": "display_data",
          "data": {
            "image/png": "[encoded data removed]",
            "text/plain": [
              "<Figure size 576x288 with 1 Axes>"
            ]
          },
          "metadata": {
            "tags": [],
            "needs_background": "light"
          }
        }
      ]
    },
    {
      "cell_type": "code",
      "metadata": {
        "id": "h8iK7lU-tBi_",
        "outputId": "579ab7fd-e40e-4c90-ead5-b0e1284a7b41",
        "colab": {
          "base_uri": "https://localhost:8080/",
          "height": 284
        }
      },
      "source": [
        "plt.figure(figsize=(8,4))\n",
        "plt.hist(height_women, bins=np.arange(135, 185, 2.5),)\n",
        "plt.xlim(135, 185)\n",
        "plt.ylabel(\"度数\")\n",
        "plt.xlabel(\"身長\")\n",
        "plt.show()"
      ],
      "execution_count": 6,
      "outputs": [
        {
          "output_type": "display_data",
          "data": {
            "image/png": "[encoded data removed]",
            "text/plain": [
              "<Figure size 576x288 with 1 Axes>"
            ]
          },
          "metadata": {
            "tags": [],
            "needs_background": "light"
          }
        }
      ]
    },
    {
      "cell_type": "markdown",
      "metadata": {
        "id": "duii-KPtxCco"
      },
      "source": [
        "* 図2 2つのデータセットのヒストグラム"
      ]
    },
    {
      "cell_type": "code",
      "metadata": {
        "id": "ZTEub0-ZwVvg",
        "outputId": "ac5fb5d4-a226-40cf-c3d9-3bc081704f0d",
        "colab": {
          "base_uri": "https://localhost:8080/",
          "height": 284
        }
      },
      "source": [
        "# コード2: pythonでヒストグラム描画\n",
        "plt.figure(figsize=(8,4))\n",
        "plt.hist(height_men, bins=np.arange(140, 200, 2.5), alpha=0.7, label=\"男性\")\n",
        "plt.hist(height_women, bins=np.arange(135, 180, 2.5), alpha=0.7, label=\"女性\")\n",
        "plt.xlim(135, 195)\n",
        "plt.ylabel(\"度数\")\n",
        "plt.xlabel(\"身長\")\n",
        "plt.show()"
      ],
      "execution_count": 7,
      "outputs": [
        {
          "output_type": "display_data",
          "data": {
            "image/png": "[encoded data removed]",
            "text/plain": [
              "<Figure size 576x288 with 1 Axes>"
            ]
          },
          "metadata": {
            "tags": [],
            "needs_background": "light"
          }
        }
      ]
    },
    {
      "cell_type": "markdown",
      "metadata": {
        "id": "K6-tgzDWQym_"
      },
      "source": [
        "* 図３ 総和記号への書き換え\n",
        "\n",
        "1000人分の合計\n",
        "$$\n",
        "\\begin{align}\n",
        " &= x_1 + x_2 + x_3 + \\dotsc + x_{999} + x_{1000} \\\\\n",
        " &= \\sum_{i=1}^{1000} x_i\n",
        " \\end{align}\n",
        "$$\n",
        "\n",
        "\n"
      ]
    },
    {
      "cell_type": "code",
      "metadata": {
        "id": "_9DLYfZvPp0p",
        "outputId": "c90cf9bd-ec26-4ba9-edd2-c4297f37d961",
        "colab": {
          "base_uri": "https://localhost:8080/",
          "height": 34
        }
      },
      "source": [
        "# コード3: 総和記号がやっていることをpythonコードで表す\n",
        "height_sum = 0\n",
        "for i in range(len(height_men)):\n",
        "  height_sum += height_men[i]\n",
        "print(height_sum)"
      ],
      "execution_count": 8,
      "outputs": [
        {
          "output_type": "stream",
          "text": [
            "171409.2829305438\n"
          ],
          "name": "stdout"
        }
      ]
    },
    {
      "cell_type": "code",
      "metadata": {
        "id": "znft-JjcRRZH",
        "outputId": "6d6de4ff-0e6f-47d4-ea97-002e06aebd45",
        "colab": {
          "base_uri": "https://localhost:8080/",
          "height": 34
        }
      },
      "source": [
        "# exp関数\n",
        "print(np.e)"
      ],
      "execution_count": 9,
      "outputs": [
        {
          "output_type": "stream",
          "text": [
            "2.718281828459045\n"
          ],
          "name": "stdout"
        }
      ]
    },
    {
      "cell_type": "markdown",
      "metadata": {
        "id": "wGcsnh7neQhq"
      },
      "source": [
        "### exp関数\n",
        "\n",
        "* 図５ exp関数の描画コードおよびグラフ"
      ]
    },
    {
      "cell_type": "code",
      "metadata": {
        "id": "QmStBiG8c43J",
        "outputId": "ea752905-2fc0-47b0-cf7a-d9f0e96e8d64",
        "colab": {
          "base_uri": "https://localhost:8080/",
          "height": 284
        }
      },
      "source": [
        "# コード4: exp(x)のグラフ描画\n",
        "x = np.linspace(-2, 2, 301)\n",
        "plt.plot(x, np.exp(x))\n",
        "plt.ylabel(\"exp(x)\")\n",
        "plt.xlabel(\"x\")\n",
        "plt.show()"
      ],
      "execution_count": 10,
      "outputs": [
        {
          "output_type": "display_data",
          "data": {
            "image/png": "[encoded data removed]",
            "text/plain": [
              "<Figure size 432x288 with 1 Axes>"
            ]
          },
          "metadata": {
            "tags": [],
            "needs_background": "light"
          }
        }
      ]
    },
    {
      "cell_type": "markdown",
      "metadata": {
        "id": "1UiUsZB1ewDQ"
      },
      "source": [
        "### 平均\n",
        "\n",
        "$ \n",
        "\\begin{align}\n",
        "  \\bar{x}\n",
        "  &= \\frac{x_1 + x_2 + \\dotsc + x_n}{n} \\\\\n",
        "  &= \\frac{1}{n} \\sum_{i=1}^{n} x_i \n",
        "\\end{align}\n",
        "$"
      ]
    },
    {
      "cell_type": "code",
      "metadata": {
        "id": "s94-aJhfe-Di",
        "outputId": "03bd794d-f81d-4d73-8399-15806dedf170",
        "colab": {
          "base_uri": "https://localhost:8080/",
          "height": 0
        }
      },
      "source": [
        "# コード5: 平均の計算のpython コード\n",
        "sum_val = 0\n",
        "n = len(x)\n",
        "for i in range(n):\n",
        "  sum_val += x[i]\n",
        "mean_val = sum_val / n\n",
        "print(mean_val)"
      ],
      "execution_count": 11,
      "outputs": [
        {
          "output_type": "stream",
          "text": [
            "1.0327656043024712e-17\n"
          ],
          "name": "stdout"
        }
      ]
    },
    {
      "cell_type": "markdown",
      "metadata": {
        "id": "109jJKQxfl62"
      },
      "source": [
        "### 平均値の特性"
      ]
    },
    {
      "cell_type": "code",
      "metadata": {
        "id": "0TWNgMu4fq4n"
      },
      "source": [
        "def plot_mean(x, xlim):\n",
        "  m = np.mean(x)\n",
        "  plt.figure(figsize=(13,2))\n",
        "  plt.scatter(x, np.zeros_like(x), s=50, zorder=100)\n",
        "  plt.scatter(m, [0], s=100, c=\"r\", zorder=100)\n",
        "\n",
        "  for i in range((len(x))):\n",
        "    plt.text(x[i], -0.3, f\"x{i+1}\", size=12)\n",
        "    plt.text(x[i], -0.5, f\"={x[i]}\", size=12)\n",
        "  \n",
        "  plt.text(m, -0.3, \"average\", size=12)\n",
        "  plt.text(m, -0.6, f\"={m:.1f}\", size=12)\n",
        "  plt.plot([0,100], [0,0], c=\"K\", zorder=10)\n",
        "\n",
        "  plt.yticks([])\n",
        "  plt.xlim(xlim)\n",
        "  plt.ylim(-1,1)\n",
        "  plt.xlabel(\"test score\")\n",
        "  plt.show()"
      ],
      "execution_count": 12,
      "outputs": []
    },
    {
      "cell_type": "markdown",
      "metadata": {
        "id": "rdd40zsOlHlr"
      },
      "source": [
        "* 図６ 平均値の特性"
      ]
    },
    {
      "cell_type": "code",
      "metadata": {
        "id": "sFtMeorkjfK2",
        "outputId": "cc6450ef-6ca0-4121-abd9-f87d03d2314c",
        "colab": {
          "base_uri": "https://localhost:8080/",
          "height": 0
        }
      },
      "source": [
        "x = [96, 63, 85, 66, 91, 89, 77]\n",
        "plot_mean(x, xlim=(60, 100))"
      ],
      "execution_count": 13,
      "outputs": [
        {
          "output_type": "stream",
          "text": [
            "/usr/local/lib/python3.6/dist-packages/IPython/core/pylabtools.py:125: MatplotlibDeprecationWarning: Support for uppercase single-letter colors is deprecated since Matplotlib 3.1 and will be removed in 3.3; please use lowercase instead.\n",
            "  fig.canvas.print_figure(bytes_io, **kw)\n"
          ],
          "name": "stderr"
        },
        {
          "output_type": "display_data",
          "data": {
            "image/png": "[encoded data removed]",
            "text/plain": [
              "<Figure size 936x144 with 1 Axes>"
            ]
          },
          "metadata": {
            "tags": [],
            "needs_background": "light"
          }
        }
      ]
    },
    {
      "cell_type": "markdown",
      "metadata": {
        "id": "RfGbUUNqlX-u"
      },
      "source": [
        "### 中央値\n",
        "\n",
        "* 図７ 平均値の位置（外れ値がある場合）"
      ]
    },
    {
      "cell_type": "code",
      "metadata": {
        "id": "8L0Hddl1grpE",
        "outputId": "76307a88-ba1a-41b0-ae74-ccc6cbf28c0c",
        "colab": {
          "base_uri": "https://localhost:8080/",
          "height": 0
        }
      },
      "source": [
        "x = [98, 23, 14, 26, 20, 11, 17, ]\n",
        "plot_mean(x, xlim=(10, 100))"
      ],
      "execution_count": 14,
      "outputs": [
        {
          "output_type": "display_data",
          "data": {
            "image/png": "[encoded data removed]",
            "text/plain": [
              "<Figure size 936x144 with 1 Axes>"
            ]
          },
          "metadata": {
            "tags": [],
            "needs_background": "light"
          }
        }
      ]
    },
    {
      "cell_type": "markdown",
      "metadata": {
        "id": "rHuCjwnRlsEz"
      },
      "source": [
        "* 図８ 中央値の位置"
      ]
    },
    {
      "cell_type": "code",
      "metadata": {
        "id": "9FNITpZ-g328",
        "outputId": "bc0a9a79-7e33-4f5a-e569-1a3674917d5c",
        "colab": {
          "base_uri": "https://localhost:8080/",
          "height": 0
        }
      },
      "source": [
        "x = [98, 23, 14, 26, 20, 11, 17, ]\n",
        "xlim = (10, 100)\n",
        "\n",
        "m = np.median(x)\n",
        "plt.figure(figsize=(13,2))\n",
        "plt.scatter(x, np.zeros_like(x), s=50, zorder=100)\n",
        "plt.scatter(m, [0], s=100, c=\"r\", zorder=100)\n",
        "\n",
        "for i in range(len(x)):\n",
        "  plt.text(x[i], -0.3, f\"x{i+1}\", size=12)\n",
        "  plt.text(x[i], -0.5, f\"={x[i]}\", size=12)\n",
        "\n",
        "plt.text(m, -0.7, \"median\", size=12)\n",
        "plt.text(m, -0.9, f\"={m:.1f}\", size=12)\n",
        "plt.plot([0, 100], [0, 0], c=\"k\", zorder=10)\n",
        "\n",
        "plt.yticks([])\n",
        "plt.xlim(xlim)\n",
        "plt.ylim(-1, 1)\n",
        "plt.xlabel(\"test score\")\n",
        "plt.show()"
      ],
      "execution_count": 15,
      "outputs": [
        {
          "output_type": "display_data",
          "data": {
            "image/png": "[encoded data removed]",
            "text/plain": [
              "<Figure size 936x144 with 1 Axes>"
            ]
          },
          "metadata": {
            "tags": [],
            "needs_background": "light"
          }
        }
      ]
    },
    {
      "cell_type": "markdown",
      "metadata": {
        "id": "ua6qIIbjl845"
      },
      "source": [
        "### 最頻値"
      ]
    },
    {
      "cell_type": "code",
      "metadata": {
        "id": "ecDROS-Pg3wW"
      },
      "source": [
        "# 収入を模した疑似データの生成\n",
        "np.random.seed(71)\n",
        "n_data = 6000\n",
        "income = np.random.lognormal(\n",
        "    mean=np.log(427), sigma=0.85, size=n_data)"
      ],
      "execution_count": 16,
      "outputs": []
    },
    {
      "cell_type": "markdown",
      "metadata": {
        "id": "u_nUofEloybW"
      },
      "source": [
        "* 図９ 収入データのヒストグラム"
      ]
    },
    {
      "cell_type": "code",
      "metadata": {
        "id": "bm1SSTWBmdop",
        "outputId": "6d92653e-a774-4d21-da2c-e04d31ae2e16",
        "colab": {
          "base_uri": "https://localhost:8080/",
          "height": 464
        }
      },
      "source": [
        "# 階級の幅の単位\n",
        "class_interval_unit = 100\n",
        "\n",
        "plt.figure(figsize=(20,7))\n",
        "# bins = np.arange(0, 3000, class_interval_unit).tolist() + [4000, 5000]\n",
        "bins = np.arange(0, 5000, class_interval_unit)\n",
        "class_freq, class_interval, _ = plt.hist(income, bins=bins, density=False)\n",
        "\n",
        "# for i in range(len(class_freq)):\n",
        "#   if class_freq[i] != 0:\n",
        "#     plt.text(class_interval[i+1]-100, class_freq[i], f\"{class_freq[i]/n_data*100: .1f}%\")\n",
        "\n",
        "# 代表値の計算\n",
        "mean_val = np.mean(income)\n",
        "median_val = np.median(income)\n",
        "mode_class_idx = np.argmax(class_freq)\n",
        "mode_val = class_interval[mode_class_idx] + class_interval_unit/2\n",
        "\n",
        "# 代表値の描画\n",
        "max_freq_round = np.round(np.max(class_freq), -3)\n",
        "plt.vlines(mean_val, 0, max_freq_round, color=\"r\")\n",
        "plt.text(mean_val-50, max_freq_round, \"平均\")\n",
        "plt.vlines(median_val, 0, max_freq_round, color=\"r\")\n",
        "plt.text(median_val-100, max_freq_round, \"中央値\")\n",
        "plt.vlines(mode_val, 0, max_freq_round, color=\"r\")\n",
        "plt.text(mode_val-100, max_freq_round, \"最頻値\")\n",
        "\n",
        "plt.xlabel(\"収入\")\n",
        "plt.ylabel(\"度数\")\n",
        "print(max(income))\n"
      ],
      "execution_count": 17,
      "outputs": [
        {
          "output_type": "stream",
          "text": [
            "10483.010998835816\n"
          ],
          "name": "stdout"
        },
        {
          "output_type": "display_data",
          "data": {
            "image/png": "[encoded data removed]",
            "text/plain": [
              "<Figure size 1440x504 with 1 Axes>"
            ]
          },
          "metadata": {
            "tags": [],
            "needs_background": "light"
          }
        }
      ]
    },
    {
      "cell_type": "code",
      "metadata": {
        "id": "2xCM9Wla2oXt",
        "outputId": "3a2b4eb2-28a6-4d27-ed8b-5696d97027ba",
        "colab": {
          "base_uri": "https://localhost:8080/",
          "height": 34
        }
      },
      "source": [
        "n_over_mean_val = np.sum([income > mean_val])\n",
        "n_income = len(income)\n",
        "n_over_mean_val, n_income, n_over_mean_val / n_income"
      ],
      "execution_count": 18,
      "outputs": [
        {
          "output_type": "execute_result",
          "data": {
            "text/plain": [
              "(1949, 6000, 0.3248333333333333)"
            ]
          },
          "metadata": {
            "tags": []
          },
          "execution_count": 18
        }
      ]
    },
    {
      "cell_type": "markdown",
      "metadata": {
        "id": "V5KtyMbf-js3"
      },
      "source": [
        "### 分位点\n",
        "\n",
        "* 図１０ 四分位を計算するpythonコード"
      ]
    },
    {
      "cell_type": "code",
      "metadata": {
        "id": "Porem1CE230t",
        "outputId": "0d0e43fc-11e8-46b9-a14f-7edea951c758",
        "colab": {
          "base_uri": "https://localhost:8080/",
          "height": 34
        }
      },
      "source": [
        "height_men_25 = np.percentile(height_men, 25)\n",
        "height_men_75 = np.percentile(height_men, 75)\n",
        "print(f\"男性の身長の第1四分位点： {height_men_25:.3f}, 第3四分位点： {height_men_75:.3f}\")"
      ],
      "execution_count": 19,
      "outputs": [
        {
          "output_type": "stream",
          "text": [
            "男性の身長の第1四分位点： 167.632, 第3四分位点： 175.085\n"
          ],
          "name": "stdout"
        }
      ]
    },
    {
      "cell_type": "markdown",
      "metadata": {
        "id": "hTE--D-i3yvx"
      },
      "source": [
        "♯平均偏差\n",
        "\n",
        "* 図１１ ２つのグループの身長の分布"
      ]
    },
    {
      "cell_type": "code",
      "metadata": {
        "id": "_3NXLexf308_",
        "outputId": "329ec95a-57b6-4e14-c13c-69835cd97229",
        "colab": {
          "base_uri": "https://localhost:8080/",
          "height": 302
        }
      },
      "source": [
        "np.random.seed(71)\n",
        "n_data = 1000\n",
        "x1 = np.random.normal(loc=171.4, scale=3.8, size=n_data)\n",
        "x2 = np.random.normal(loc=171.4, scale=7.8, size=n_data)\n",
        "\n",
        "x1_mean = np.mean(x1)\n",
        "x2_mean = np.mean(x2)\n",
        "\n",
        "plt.figure(figsize=(8,4))\n",
        "plt.hist(x1, bins=np.arange(140, 200, 2.5), alpha=0.7, label=\"グループ1\")\n",
        "plt.hist(x2, bins=np.arange(140, 200, 2.5), alpha=0.7, label=\"グループ2\")\n",
        "\n",
        "plt.vlines(x1_mean, 0, 290, \"b\")\n",
        "plt.vlines(x2_mean, 0, 290, \"orange\")\n",
        "plt.xlim(145, 200)\n",
        "plt.ylabel(\"度数\")\n",
        "plt.xlabel(\"身長\")\n",
        "plt.legend(loc=\"best\")\n",
        "plt.show()\n",
        "\n",
        "print(x1_mean, x2_mean)\n"
      ],
      "execution_count": 20,
      "outputs": [
        {
          "output_type": "display_data",
          "data": {
            "image/png": "[encoded data removed]",
            "text/plain": [
              "<Figure size 576x288 with 1 Axes>"
            ]
          },
          "metadata": {
            "tags": [],
            "needs_background": "light"
          }
        },
        {
          "output_type": "stream",
          "text": [
            "171.40608192001145 171.26935513517634\n"
          ],
          "name": "stdout"
        }
      ]
    },
    {
      "cell_type": "markdown",
      "metadata": {
        "id": "V36RvXyv_Jue"
      },
      "source": [
        "### 平均偏差"
      ]
    },
    {
      "cell_type": "code",
      "metadata": {
        "id": "vbaB3QQr4_AL",
        "outputId": "c56276e8-973c-409d-a3a0-4950c55b4124",
        "colab": {
          "base_uri": "https://localhost:8080/",
          "height": 0
        }
      },
      "source": [
        "# テストの点数データ\n",
        "x = [96, 63, 85, 66, 91, 89, 77]\n",
        "m = np.mean(x)\n",
        "deviation_x = np.array(x) - m\n",
        "deviation_x"
      ],
      "execution_count": 21,
      "outputs": [
        {
          "output_type": "execute_result",
          "data": {
            "text/plain": [
              "array([ 15., -18.,   4., -15.,  10.,   8.,  -4.])"
            ]
          },
          "metadata": {
            "tags": []
          },
          "execution_count": 21
        }
      ]
    },
    {
      "cell_type": "markdown",
      "metadata": {
        "id": "VuoRxdEO_AH1"
      },
      "source": [
        "* 図１２ 偏差を可視化して理解する"
      ]
    },
    {
      "cell_type": "code",
      "metadata": {
        "id": "Ks8UVt2g5jEi",
        "outputId": "4c01e018-cc32-4871-a933-8c340106832b",
        "colab": {
          "base_uri": "https://localhost:8080/",
          "height": 0
        }
      },
      "source": [
        "m = np.mean(x)\n",
        "plt.figure(figsize=(11,4))\n",
        "plt.scatter(x, np.zeros_like(x), s=50, zorder=100)\n",
        "plt.scatter(m, [0], s=100, c=\"r\", zorder=100)\n",
        "\n",
        "for i in range(len(x)):\n",
        "  plt.text(x[i]+0.2, -0.8, f\"x{i+1}\\n={x[i]}\", size=12)\n",
        "\n",
        "plt.text(m+0.1, -0.8, f\"average\\n{m}\", size=12)\n",
        "plt.plot([m, m], [-5,10], \"k--\", zorder=10)\n",
        "for i, p, sd in zip(range(len(x)), [1.5, 4.5, 3, 4, 2, 2.5, 3.5], deviation_x):\n",
        "  plt.plot([x[i], x[i]], [-5, 10], \"k--\", zorder=10)\n",
        "  plt.plot([x[i], m], [p, p], \"r\", zorder=10)\n",
        "  plt.text(x[i]+0.1, p-0.3, f\"{sd}\", size=12)\n",
        "\n",
        "plt.yticks([])\n",
        "plt.xlim(60, 100)\n",
        "plt.ylim(-1, 5)\n",
        "plt.xlabel(\"test score\")\n",
        "plt.show()\n",
        "\n"
      ],
      "execution_count": 22,
      "outputs": [
        {
          "output_type": "display_data",
          "data": {
            "image/png": "[encoded data removed]",
            "text/plain": [
              "<Figure size 792x288 with 1 Axes>"
            ]
          },
          "metadata": {
            "tags": [],
            "needs_background": "light"
          }
        }
      ]
    },
    {
      "cell_type": "code",
      "metadata": {
        "id": "iHJ4PWBzDdVC",
        "outputId": "dcaaf528-badd-4009-a28d-be7452aa8fdf",
        "colab": {
          "base_uri": "https://localhost:8080/",
          "height": 0
        }
      },
      "source": [
        "deviation_x_abs = np.abs(deviation_x)\n",
        "deviation_x_abs, np.mean(deviation_x)"
      ],
      "execution_count": 23,
      "outputs": [
        {
          "output_type": "execute_result",
          "data": {
            "text/plain": [
              "(array([15., 18.,  4., 15., 10.,  8.,  4.]), 0.0)"
            ]
          },
          "metadata": {
            "tags": []
          },
          "execution_count": 23
        }
      ]
    },
    {
      "cell_type": "markdown",
      "metadata": {
        "id": "_evVcmqKFHNF"
      },
      "source": [
        "* 図１３ 偏差の絶対値をとった値を可視化"
      ]
    },
    {
      "cell_type": "code",
      "metadata": {
        "id": "HDBx5HFEDuua",
        "outputId": "40a35b6b-1007-4a23-b3e0-230dfd2a23dc",
        "colab": {
          "base_uri": "https://localhost:8080/",
          "height": 0
        }
      },
      "source": [
        "m = np.mean(x)\n",
        "plt.figure(figsize=(11,4))\n",
        "\n",
        "plt.plot([m, m], [-5, 10], \"k--\", zorder=10)\n",
        "for i, p, sd in zip(range(len(x)), [1.5, 4.5, 3, 4, 2, 2.5, 3.5], deviation_x_abs):\n",
        "  plt.plot([x[i], x[i]], [-5, 10], \"k--\", zorder=10)\n",
        "  plt.plot([m+sd, m], [p, p], \"r\", zorder=10)\n",
        "  plt.text(m+sd+0.1, p-0.1, f\"{sd:.0f}\", size=12)\n",
        "\n",
        "plt.yticks([])\n",
        "plt.xlim(60, 100)\n",
        "plt.ylim(1, 5)\n",
        "plt.xlabel(\"test score\")\n",
        "plt.show()"
      ],
      "execution_count": 24,
      "outputs": [
        {
          "output_type": "display_data",
          "data": {
            "image/png": "[encoded data removed]",
            "text/plain": [
              "<Figure size 792x288 with 1 Axes>"
            ]
          },
          "metadata": {
            "tags": [],
            "needs_background": "light"
          }
        }
      ]
    },
    {
      "cell_type": "markdown",
      "metadata": {
        "id": "L_u-W8nvKqlf"
      },
      "source": [
        "* 図１４ 平均偏差を計算するPythonコードと、実際の計算式\n",
        "\n",
        "平均偏差 $ = \\frac{1}{n} \\sum_{i=1}^{n} | x_i - \\bar{x} | $"
      ]
    },
    {
      "cell_type": "code",
      "metadata": {
        "id": "nK5nHaHVFOf6"
      },
      "source": [
        "# コード5:平均偏差を計算するpythonコード\n",
        "def average_deviation(x):\n",
        "  mean_val = np.mean(x)\n",
        "  n_data = len(x)\n",
        "  sum_val = 0\n",
        "  for i in range(len(x)):\n",
        "    sum_val += np.abs(x[i] - mean_val)\n",
        "  return sum_val / n_data"
      ],
      "execution_count": 25,
      "outputs": []
    },
    {
      "cell_type": "code",
      "metadata": {
        "id": "KCzgS6VqFnwl",
        "outputId": "af3a323a-d3c9-4715-d0e1-43aeae667f6f",
        "colab": {
          "base_uri": "https://localhost:8080/",
          "height": 0
        }
      },
      "source": [
        "average_deviation(x1)"
      ],
      "execution_count": 26,
      "outputs": [
        {
          "output_type": "execute_result",
          "data": {
            "text/plain": [
              "2.9132362036922173"
            ]
          },
          "metadata": {
            "tags": []
          },
          "execution_count": 26
        }
      ]
    },
    {
      "cell_type": "code",
      "metadata": {
        "id": "Ll_2tSVvFs7i",
        "outputId": "600f6ab1-6be3-4f2f-ede9-347acfd3d8eb",
        "colab": {
          "base_uri": "https://localhost:8080/",
          "height": 0
        }
      },
      "source": [
        "average_deviation(x2)"
      ],
      "execution_count": 27,
      "outputs": [
        {
          "output_type": "execute_result",
          "data": {
            "text/plain": [
              "6.310475113543013"
            ]
          },
          "metadata": {
            "tags": []
          },
          "execution_count": 27
        }
      ]
    },
    {
      "cell_type": "markdown",
      "metadata": {
        "id": "N0JNpkPPFwUp"
      },
      "source": [
        "# 分散"
      ]
    },
    {
      "cell_type": "code",
      "metadata": {
        "id": "b9QQotiRGZTR"
      },
      "source": [
        "from matplotlib.patches import Rectangle"
      ],
      "execution_count": 28,
      "outputs": []
    },
    {
      "cell_type": "code",
      "metadata": {
        "id": "OjvX33krGekJ",
        "outputId": "87f58426-0041-4f67-f37e-84720541732f",
        "colab": {
          "base_uri": "https://localhost:8080/",
          "height": 34
        }
      },
      "source": [
        "deviation_x"
      ],
      "execution_count": 29,
      "outputs": [
        {
          "output_type": "execute_result",
          "data": {
            "text/plain": [
              "array([ 15., -18.,   4., -15.,  10.,   8.,  -4.])"
            ]
          },
          "metadata": {
            "tags": []
          },
          "execution_count": 29
        }
      ]
    },
    {
      "cell_type": "markdown",
      "metadata": {
        "id": "YG04nEFgJsCS"
      },
      "source": [
        "* 図１６ 偏差の２乗を可視化"
      ]
    },
    {
      "cell_type": "code",
      "metadata": {
        "id": "7HUUO3NwGgxA",
        "outputId": "23d74bf2-e5e3-419a-d530-8e7d6c985f59",
        "colab": {
          "base_uri": "https://localhost:8080/",
          "height": 701
        }
      },
      "source": [
        "y_max_for_plot = 90\n",
        "\n",
        "m = np.mean(x)\n",
        "plt.figure(figsize=(11,11))\n",
        "ax = plt.subplot(111)\n",
        "plt.scatter(x, np.zeros_like(x), s=50, zorder=100)\n",
        "plt.scatter(m, [0], s=100, c=\"r\", zorder=100)\n",
        "\n",
        "for i in range(len(x)):\n",
        "  plt.text(x[i]+0.2, -5, f\"x{i+1}\\n={x[i]}\", size=12)\n",
        "\n",
        "plt.text(m+0.1, -5, f\"average\\n{m}\", size=12, zorder=300)\n",
        "plt.plot([0, 130], [0, 0], c=\"k\", zorder=10)\n",
        "\n",
        "plt.plot(\n",
        "    [m, m], [-10, y_max_for_plot], \"gray\", linewidth=1,\n",
        "    linestyle=\"--\", lw=0.5, zorder=-10\n",
        ")\n",
        "for i, p, sd in zip(range(len(x)), [5, 66, 41, 50, 21, 32, 45], deviation_x):\n",
        "  abs_sd = np.abs(sd)\n",
        "  plt.plot([x[i], x[i]], [-10, y_max_for_plot], \"gray\", linewidth=1, linestyle=\"--\", zorder=-10)\n",
        "  plt.plot([x[i], m], [p, p], \"r\", linewidth=2, zorder=200)\n",
        "  plt.text(x[i]+0.1, p-0.3, f\"{sd}\", size=12, zorder=300)\n",
        "  r = Rectangle(xy=(x[i], p), width=-sd, height=abs_sd, fill=True, color=\"red\", alpha=0.3)\n",
        "  ax.add_patch(r)\n",
        "\n",
        "plt.yticks([])\n",
        "plt.xlim(30,130)\n",
        "plt.ylim(-10, y_max_for_plot)\n",
        "plt.xlabel(\"test score\")\n",
        "plt.show()"
      ],
      "execution_count": 30,
      "outputs": [
        {
          "output_type": "stream",
          "text": [
            "/usr/local/lib/python3.6/dist-packages/ipykernel_launcher.py:17: MatplotlibDeprecationWarning: Saw kwargs ['lw', 'linewidth'] which are all aliases for 'linewidth'.  Kept value from 'linewidth'.  Passing multiple aliases for the same property will raise a TypeError in 3.3.\n"
          ],
          "name": "stderr"
        },
        {
          "output_type": "display_data",
          "data": {
            "image/png": "[encoded data removed]",
            "text/plain": [
              "<Figure size 792x792 with 1 Axes>"
            ]
          },
          "metadata": {
            "tags": [],
            "needs_background": "light"
          }
        }
      ]
    },
    {
      "cell_type": "code",
      "metadata": {
        "id": "6mcngA9INUBa",
        "outputId": "13921b6e-5fc0-467a-bf47-29fb1f45aa09",
        "colab": {
          "base_uri": "https://localhost:8080/",
          "height": 34
        }
      },
      "source": [
        "np.mean(deviation_x ** 2)"
      ],
      "execution_count": 31,
      "outputs": [
        {
          "output_type": "execute_result",
          "data": {
            "text/plain": [
              "138.57142857142858"
            ]
          },
          "metadata": {
            "tags": []
          },
          "execution_count": 31
        }
      ]
    },
    {
      "cell_type": "markdown",
      "metadata": {
        "id": "2e7R9IxVNeC0"
      },
      "source": [
        "* 図１５ 分散を計算するPythonコードと、実際の計算式\n",
        "\n",
        "分散 $ = \\frac{1}{n} \\sum_{i=1}^{n} ( x_i - \\bar{x} )^2 $"
      ]
    },
    {
      "cell_type": "code",
      "metadata": {
        "id": "LNVJg_YJNXnA"
      },
      "source": [
        "# コード６：分散を計算するpythonコード\n",
        "def variance(x):\n",
        "  mean_val = np.mean(x)\n",
        "  n_data = len(x)\n",
        "  sum_val = 0\n",
        "  for i in range(len(x)):\n",
        "    sum_val += (x[i] - mean_val) ** 2\n",
        "  return sum_val / n_data"
      ],
      "execution_count": 32,
      "outputs": []
    },
    {
      "cell_type": "code",
      "metadata": {
        "id": "4XGNistKObRG"
      },
      "source": [
        "def standard_deviation(x):\n",
        "  return np.sqrt(variance(x))"
      ],
      "execution_count": 33,
      "outputs": []
    },
    {
      "cell_type": "code",
      "metadata": {
        "id": "7KhBthjyOkbT",
        "outputId": "8d29282a-9d8e-45f7-c414-4b575eaac4b7",
        "colab": {
          "base_uri": "https://localhost:8080/",
          "height": 34
        }
      },
      "source": [
        "variance(x1), variance(x2)"
      ],
      "execution_count": 34,
      "outputs": [
        {
          "output_type": "execute_result",
          "data": {
            "text/plain": [
              "(13.369184608430686, 62.79554529772076)"
            ]
          },
          "metadata": {
            "tags": []
          },
          "execution_count": 34
        }
      ]
    },
    {
      "cell_type": "code",
      "metadata": {
        "id": "cZzYQBdWOsGH",
        "outputId": "cb67ea8a-3956-43fd-d32e-a5588b0822b9",
        "colab": {
          "base_uri": "https://localhost:8080/",
          "height": 34
        }
      },
      "source": [
        "standard_deviation(x1), standard_deviation(x2)"
      ],
      "execution_count": 35,
      "outputs": [
        {
          "output_type": "execute_result",
          "data": {
            "text/plain": [
              "(3.656389559173186, 7.924364031120779)"
            ]
          },
          "metadata": {
            "tags": []
          },
          "execution_count": 35
        }
      ]
    }
  ]
}
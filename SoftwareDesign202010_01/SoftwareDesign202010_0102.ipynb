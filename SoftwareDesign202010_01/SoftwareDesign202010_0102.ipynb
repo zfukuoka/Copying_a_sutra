{
  "nbformat": 4,
  "nbformat_minor": 0,
  "metadata": {
    "colab": {
      "name": "SoftwareDesign202010_0102.ipynb",
      "provenance": [],
      "authorship_tag": "ABX9TyOJ1LoxgLEj5h1GOmDiV8VY",
      "include_colab_link": true
    },
    "kernelspec": {
      "name": "python3",
      "display_name": "Python 3"
    }
  },
  "cells": [
    {
      "cell_type": "markdown",
      "metadata": {
        "id": "view-in-github",
        "colab_type": "text"
      },
      "source": [
        "<a href=\"https://colab.research.google.com/github/zfukuoka/Copying_a_sutra/blob/master/SoftwareDesign202010_01/SoftwareDesign202010_0102.ipynb\" target=\"_parent\"><img src=\"https://colab.research.google.com/assets/colab-badge.svg\" alt=\"Open In Colab\"/></a>"
      ]
    },
    {
      "cell_type": "markdown",
      "metadata": {
        "id": "KOxfU2buhIT1"
      },
      "source": [
        "# SoftwareDesign 2020年10月号第一特集 Pythonではじめる統計学\n",
        "\n",
        "公式のサンプルコードの写経\n",
        "\n",
        "## 第2章 平均から始める記述統計"
      ]
    },
    {
      "cell_type": "code",
      "metadata": {
        "id": "sSVt1Qr6gcjF"
      },
      "source": [
        "# 基本ライブラリ\n",
        "import pandas as pd\n",
        "import numpy as np\n",
        "import numpy.random as rd\n",
        "import scipy.stats as st\n",
        "from tqdm import tqdm\n",
        "from IPython.display import display\n",
        "\n",
        "# グラフ描画系\n",
        "import matplotlib\n",
        "import matplotlib.pyplot as plt\n",
        "from matplotlib import animation as ani\n",
        "import seaborn as sns\n",
        "\n",
        "# plot setting\n",
        "plt.rcParams[\"patch.force_edgecolor\"] = True\n",
        "sns.set(style=\"whitegrid\", palette=\"muted\", color_codes=True)\n",
        "sns.set_style(\"whitegrid\", {'grid.linestyle':'--'})\n"
      ],
      "execution_count": 1,
      "outputs": []
    },
    {
      "cell_type": "code",
      "metadata": {
        "id": "CmzF8hfoojMd",
        "outputId": "c38992da-78cc-42df-f8ef-6b27f334c68a",
        "colab": {
          "base_uri": "https://localhost:8080/",
          "height": 326
        }
      },
      "source": [
        "!pip install japanize_matplotlib"
      ],
      "execution_count": 3,
      "outputs": [
        {
          "output_type": "stream",
          "text": [
            "Collecting japanize_matplotlib\n",
            "\u001b[?25l  Downloading https://files.pythonhosted.org/packages/2c/aa/3b24d54bd02e25d63c8f23bb316694e1aad7ffdc07ba296e7c9be2f6837d/japanize-matplotlib-1.1.2.tar.gz (4.1MB)\n",
            "\u001b[K     |████████████████████████████████| 4.1MB 3.4MB/s \n",
            "\u001b[?25hRequirement already satisfied: matplotlib in /usr/local/lib/python3.6/dist-packages (from japanize_matplotlib) (3.2.2)\n",
            "Requirement already satisfied: pyparsing!=2.0.4,!=2.1.2,!=2.1.6,>=2.0.1 in /usr/local/lib/python3.6/dist-packages (from matplotlib->japanize_matplotlib) (2.4.7)\n",
            "Requirement already satisfied: cycler>=0.10 in /usr/local/lib/python3.6/dist-packages (from matplotlib->japanize_matplotlib) (0.10.0)\n",
            "Requirement already satisfied: python-dateutil>=2.1 in /usr/local/lib/python3.6/dist-packages (from matplotlib->japanize_matplotlib) (2.8.1)\n",
            "Requirement already satisfied: kiwisolver>=1.0.1 in /usr/local/lib/python3.6/dist-packages (from matplotlib->japanize_matplotlib) (1.2.0)\n",
            "Requirement already satisfied: numpy>=1.11 in /usr/local/lib/python3.6/dist-packages (from matplotlib->japanize_matplotlib) (1.18.5)\n",
            "Requirement already satisfied: six in /usr/local/lib/python3.6/dist-packages (from cycler>=0.10->matplotlib->japanize_matplotlib) (1.15.0)\n",
            "Building wheels for collected packages: japanize-matplotlib\n",
            "  Building wheel for japanize-matplotlib (setup.py) ... \u001b[?25l\u001b[?25hdone\n",
            "  Created wheel for japanize-matplotlib: filename=japanize_matplotlib-1.1.2-cp36-none-any.whl size=4120193 sha256=0b5226e7a3d83346e0a674fe6d43b807db3d794c8971e7f42d40a5a9aa1d41e9\n",
            "  Stored in directory: /root/.cache/pip/wheels/9c/f9/fc/bc052ce743a03f94ccc7fda73d1d389ce98216c6ffaaf65afc\n",
            "Successfully built japanize-matplotlib\n",
            "Installing collected packages: japanize-matplotlib\n",
            "Successfully installed japanize-matplotlib-1.1.2\n"
          ],
          "name": "stdout"
        }
      ]
    },
    {
      "cell_type": "code",
      "metadata": {
        "id": "karJUx0orsgt",
        "outputId": "63dca47d-6af8-4a55-8539-30f9700425ab",
        "colab": {
          "base_uri": "https://localhost:8080/",
          "height": 88
        }
      },
      "source": [
        "import japanize_matplotlib"
      ],
      "execution_count": 4,
      "outputs": [
        {
          "output_type": "stream",
          "text": [
            "/usr/local/lib/python3.6/dist-packages/japanize_matplotlib/japanize_matplotlib.py:15: MatplotlibDeprecationWarning: \n",
            "The createFontList function was deprecated in Matplotlib 3.2 and will be removed two minor releases later. Use FontManager.addfont instead.\n",
            "  font_list = font_manager.createFontList(font_files)\n"
          ],
          "name": "stderr"
        }
      ]
    },
    {
      "cell_type": "code",
      "metadata": {
        "id": "GQVaBJLwrwGO"
      },
      "source": [
        "np.random.seed(71)\n",
        "n_data = 1000\n",
        "height_men = np.random.normal(loc=171.4, scale=5.8, size=n_data)\n",
        "height_women = np.random.normal(loc=157.5, scale=5.4, size=n_data)"
      ],
      "execution_count": 6,
      "outputs": []
    },
    {
      "cell_type": "markdown",
      "metadata": {
        "id": "uC6RiV_csXfZ"
      },
      "source": [
        "* 図1 身長データのヒストグラム"
      ]
    },
    {
      "cell_type": "code",
      "metadata": {
        "id": "_-o3yLJAsNPK",
        "outputId": "01e08eb0-b7cc-4457-b949-fc3ba72b5401",
        "colab": {
          "base_uri": "https://localhost:8080/",
          "height": 284
        }
      },
      "source": [
        "# コード1: pythonでヒストグラム描画\n",
        "plt.figure(figsize=(8,4))\n",
        "plt.hist(height_men, bins=np.arange(150, 195, 2.5),)\n",
        "plt.xlim(150, 195)\n",
        "plt.ylabel(\"度数\")\n",
        "plt.xlabel(\"身長\")\n",
        "plt.show()"
      ],
      "execution_count": 7,
      "outputs": [
        {
          "output_type": "display_data",
          "data": {
            "image/png": "[encoded data removed]",
            "text/plain": [
              "<Figure size 576x288 with 1 Axes>"
            ]
          },
          "metadata": {
            "tags": [],
            "needs_background": "light"
          }
        }
      ]
    },
    {
      "cell_type": "code",
      "metadata": {
        "id": "h8iK7lU-tBi_",
        "outputId": "9151b09d-a118-49ac-bd4a-4f074bcc97fe",
        "colab": {
          "base_uri": "https://localhost:8080/",
          "height": 284
        }
      },
      "source": [
        "plt.figure(figsize=(8,4))\n",
        "plt.hist(height_women, bins=np.arange(135, 185, 2.5),)\n",
        "plt.xlim(135, 185)\n",
        "plt.ylabel(\"度数\")\n",
        "plt.xlabel(\"身長\")\n",
        "plt.show()"
      ],
      "execution_count": 8,
      "outputs": [
        {
          "output_type": "display_data",
          "data": {
            "image/png": "[encoded data removed]",
            "text/plain": [
              "<Figure size 576x288 with 1 Axes>"
            ]
          },
          "metadata": {
            "tags": [],
            "needs_background": "light"
          }
        }
      ]
    },
    {
      "cell_type": "markdown",
      "metadata": {
        "id": "duii-KPtxCco"
      },
      "source": [
        "* 図2 2つのデータセットのヒストグラム"
      ]
    },
    {
      "cell_type": "code",
      "metadata": {
        "id": "ZTEub0-ZwVvg",
        "outputId": "46f8e40b-812b-4c0b-9f9d-c6d7cc96b929",
        "colab": {
          "base_uri": "https://localhost:8080/",
          "height": 284
        }
      },
      "source": [
        "# コード2: pythonでヒストグラム描画\n",
        "plt.figure(figsize=(8,4))\n",
        "plt.hist(height_men, bins=np.arange(140, 200, 2.5), alpha=0.7, label=\"男性\")\n",
        "plt.hist(height_women, bins=np.arange(135, 180, 2.5), alpha=0.7, label=\"女性\")\n",
        "plt.xlim(135, 195)\n",
        "plt.ylabel(\"度数\")\n",
        "plt.xlabel(\"身長\")\n",
        "plt.show()"
      ],
      "execution_count": 10,
      "outputs": [
        {
          "output_type": "display_data",
          "data": {
            "image/png": "[encoded data removed]",
            "text/plain": [
              "<Figure size 576x288 with 1 Axes>"
            ]
          },
          "metadata": {
            "tags": [],
            "needs_background": "light"
          }
        }
      ]
    }
  ]
}
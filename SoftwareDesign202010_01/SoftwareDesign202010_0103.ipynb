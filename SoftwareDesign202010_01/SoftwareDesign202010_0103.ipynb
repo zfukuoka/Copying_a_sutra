{
  "nbformat": 4,
  "nbformat_minor": 0,
  "metadata": {
    "colab": {
      "name": "SoftwareDesign202010_0103.ipynb",
      "provenance": [],
      "authorship_tag": "ABX9TyMGgHbQhqKplMy1KWcMNuCn",
      "include_colab_link": true
    },
    "kernelspec": {
      "name": "python3",
      "display_name": "Python 3"
    }
  },
  "cells": [
    {
      "cell_type": "markdown",
      "metadata": {
        "id": "view-in-github",
        "colab_type": "text"
      },
      "source": [
        "<a href=\"https://colab.research.google.com/github/zfukuoka/Copying_a_sutra/blob/master/SoftwareDesign202010_01/SoftwareDesign202010_0103.ipynb\" target=\"_parent\"><img src=\"https://colab.research.google.com/assets/colab-badge.svg\" alt=\"Open In Colab\"/></a>"
      ]
    },
    {
      "cell_type": "markdown",
      "metadata": {
        "id": "W8qar4SWxBpU"
      },
      "source": [
        "# SoftwareDesign 2020年10月号第一特集 Pythonではじめる統計学\n",
        "\n",
        "公式のサンプルコードの写経\n",
        "\n",
        "## 第3章 シミュレーションで学ぶ確率分布\n"
      ]
    },
    {
      "cell_type": "code",
      "metadata": {
        "id": "qbFlKr8duCcI"
      },
      "source": [
        "# 基本ライブラリ\n",
        "import pandas as pd\n",
        "import numpy as np\n",
        "import numpy.random as rd\n",
        "import scipy.stats as st\n",
        "from tqdm import tqdm\n",
        "from IPython.display import display\n",
        "\n",
        "# グラフ描画系\n",
        "import matplotlib\n",
        "import matplotlib.pyplot as plt\n",
        "from matplotlib import animation as ani\n",
        "import seaborn as sns\n",
        "\n",
        "# plot settings\n",
        "plt.rcParams[\"patch.force_edgecolor\"] = True\n",
        "sns.set(style=\"whitegrid\", palette=\"muted\", color_codes=True)\n",
        "sns.set_style(\"whitegrid\", {'grid.linestyle': '--'})\n",
        "\n",
        "%config InlineBackend.figure_format='retina'"
      ],
      "execution_count": 1,
      "outputs": []
    },
    {
      "cell_type": "code",
      "metadata": {
        "id": "-SeHpBFixdnH",
        "outputId": "7bb41d2b-99db-402c-e5bb-e59586c20d17",
        "colab": {
          "base_uri": "https://localhost:8080/",
          "height": 326
        }
      },
      "source": [
        "!pip install japanize_matplotlib"
      ],
      "execution_count": 2,
      "outputs": [
        {
          "output_type": "stream",
          "text": [
            "Collecting japanize_matplotlib\n",
            "\u001b[?25l  Downloading https://files.pythonhosted.org/packages/2c/aa/3b24d54bd02e25d63c8f23bb316694e1aad7ffdc07ba296e7c9be2f6837d/japanize-matplotlib-1.1.2.tar.gz (4.1MB)\n",
            "\u001b[K     |████████████████████████████████| 4.1MB 2.7MB/s \n",
            "\u001b[?25hRequirement already satisfied: matplotlib in /usr/local/lib/python3.6/dist-packages (from japanize_matplotlib) (3.2.2)\n",
            "Requirement already satisfied: kiwisolver>=1.0.1 in /usr/local/lib/python3.6/dist-packages (from matplotlib->japanize_matplotlib) (1.2.0)\n",
            "Requirement already satisfied: pyparsing!=2.0.4,!=2.1.2,!=2.1.6,>=2.0.1 in /usr/local/lib/python3.6/dist-packages (from matplotlib->japanize_matplotlib) (2.4.7)\n",
            "Requirement already satisfied: python-dateutil>=2.1 in /usr/local/lib/python3.6/dist-packages (from matplotlib->japanize_matplotlib) (2.8.1)\n",
            "Requirement already satisfied: cycler>=0.10 in /usr/local/lib/python3.6/dist-packages (from matplotlib->japanize_matplotlib) (0.10.0)\n",
            "Requirement already satisfied: numpy>=1.11 in /usr/local/lib/python3.6/dist-packages (from matplotlib->japanize_matplotlib) (1.18.5)\n",
            "Requirement already satisfied: six>=1.5 in /usr/local/lib/python3.6/dist-packages (from python-dateutil>=2.1->matplotlib->japanize_matplotlib) (1.15.0)\n",
            "Building wheels for collected packages: japanize-matplotlib\n",
            "  Building wheel for japanize-matplotlib (setup.py) ... \u001b[?25l\u001b[?25hdone\n",
            "  Created wheel for japanize-matplotlib: filename=japanize_matplotlib-1.1.2-cp36-none-any.whl size=4120193 sha256=a3f8423a55a36173a6c3f9a6eb6bd1c8cf59a64288ec747a8bd08eeac5e6ef68\n",
            "  Stored in directory: /root/.cache/pip/wheels/9c/f9/fc/bc052ce743a03f94ccc7fda73d1d389ce98216c6ffaaf65afc\n",
            "Successfully built japanize-matplotlib\n",
            "Installing collected packages: japanize-matplotlib\n",
            "Successfully installed japanize-matplotlib-1.1.2\n"
          ],
          "name": "stdout"
        }
      ]
    },
    {
      "cell_type": "code",
      "metadata": {
        "id": "mzd6OSmaxnWG",
        "outputId": "3c63bf5b-66ad-4e3f-da9e-85bbdf321acc",
        "colab": {
          "base_uri": "https://localhost:8080/",
          "height": 88
        }
      },
      "source": [
        "import japanize_matplotlib"
      ],
      "execution_count": 3,
      "outputs": [
        {
          "output_type": "stream",
          "text": [
            "/usr/local/lib/python3.6/dist-packages/japanize_matplotlib/japanize_matplotlib.py:15: MatplotlibDeprecationWarning: \n",
            "The createFontList function was deprecated in Matplotlib 3.2 and will be removed two minor releases later. Use FontManager.addfont instead.\n",
            "  font_list = font_manager.createFontList(font_files)\n"
          ],
          "name": "stderr"
        }
      ]
    },
    {
      "cell_type": "markdown",
      "metadata": {
        "id": "wN2SB_1X04Qp"
      },
      "source": [
        "### ベルヌーイ分布\n",
        "\n",
        "* 図２ ベルヌーイ分布のシミュレーション例"
      ]
    },
    {
      "cell_type": "code",
      "metadata": {
        "id": "FN9S5xUsxrdm",
        "outputId": "440ec093-5703-481f-932d-8ce1dd2e0e92",
        "colab": {
          "base_uri": "https://localhost:8080/",
          "height": 51
        }
      },
      "source": [
        "# コード7: ベルヌーイ分布に従う試行のシミュレーション\n",
        "import scipy\n",
        "from collections import Counter\n",
        "\n",
        "np.random.seed(71)\n",
        "n_trial = 10\n",
        "x = scipy.stats.bernoulli.rvs(p=0.5, size=n_trial)\n",
        "print(f\"10回のベルヌーイ試行の結果：{x}\")\n",
        "\n",
        "cnt = Counter(x)\n",
        "print(f\"表が出た回数{cnt[1]}、裏が出た回数{cnt[0]}\")"
      ],
      "execution_count": 4,
      "outputs": [
        {
          "output_type": "stream",
          "text": [
            "10回のベルヌーイ試行の結果：[0 0 1 0 1 1 1 1 1 0]\n",
            "表が出た回数6、裏が出た回数4\n"
          ],
          "name": "stdout"
        }
      ]
    },
    {
      "cell_type": "code",
      "metadata": {
        "id": "Tz-0vvq-1yix",
        "outputId": "30b31295-a265-45db-98d2-34c63543750f",
        "colab": {
          "base_uri": "https://localhost:8080/",
          "height": 68
        }
      },
      "source": [
        "# コード7の実刑回数10000回\n",
        "np.random.seed(71)\n",
        "n_trial = 10000\n",
        "x = scipy.stats.bernoulli.rvs(p=0.5, size=n_trial)\n",
        "print(f\"10000回のベルヌーイ試行の結果：{x}\")\n",
        "\n",
        "cnt = Counter(x)\n",
        "print(f\"表が出た回数{cnt[1]}、裏が出た回数{cnt[0]}\")\n",
        "print(f\"表が出た確率{cnt[1]/n_trial:.3f}\")"
      ],
      "execution_count": 5,
      "outputs": [
        {
          "output_type": "stream",
          "text": [
            "10000回のベルヌーイ試行の結果：[0 0 1 ... 0 1 0]\n",
            "表が出た回数4991、裏が出た回数5009\n",
            "表が出た確率0.499\n"
          ],
          "name": "stdout"
        }
      ]
    },
    {
      "cell_type": "markdown",
      "metadata": {
        "id": "8jkNFsmi3y9Y"
      },
      "source": [
        "### 二項分布\n",
        "\n",
        "* 図３ 二項分布の式\n",
        "\n",
        "$ P(x, p, n) = \\frac{n!}{x! (n-x)} p^x (1-p)^{n-x} $"
      ]
    },
    {
      "cell_type": "code",
      "metadata": {
        "id": "ujWQ7p0b32Nr"
      },
      "source": [
        "import math"
      ],
      "execution_count": 6,
      "outputs": []
    },
    {
      "cell_type": "code",
      "metadata": {
        "id": "zs3KIF0U36Mu",
        "outputId": "d088350e-5597-4dc5-ff2c-155155ed3f2d",
        "colab": {
          "base_uri": "https://localhost:8080/",
          "height": 204
        }
      },
      "source": [
        "# コード8: 二項分布を使って各値がでる確率を算出\n",
        "def binomial(x, n, p):\n",
        "  return (math.factorial(n) / (math.factorial(x) * math.factorial(n - x))) * (p ** x) * (1 - p) ** (n - x) \n",
        "\n",
        "np.random.seed(71)\n",
        "n = 10\n",
        "p = 0.2\n",
        "binomial_prob = {}\n",
        "for x in range(n+1):\n",
        "  binomial_prob[x] = binomial(x, n, p)\n",
        "\n",
        "for x in range(n+1):\n",
        "  print(f\"x:{x}, {binomial_prob[x]*100:.1f}%\")"
      ],
      "execution_count": 7,
      "outputs": [
        {
          "output_type": "stream",
          "text": [
            "x:0, 10.7%\n",
            "x:1, 26.8%\n",
            "x:2, 30.2%\n",
            "x:3, 20.1%\n",
            "x:4, 8.8%\n",
            "x:5, 2.6%\n",
            "x:6, 0.6%\n",
            "x:7, 0.1%\n",
            "x:8, 0.0%\n",
            "x:9, 0.0%\n",
            "x:10, 0.0%\n"
          ],
          "name": "stdout"
        }
      ]
    },
    {
      "cell_type": "markdown",
      "metadata": {
        "id": "8Q8Lhgz5nXlW"
      },
      "source": [
        "* 図５ p=0.1、n=10の二項分布"
      ]
    },
    {
      "cell_type": "code",
      "metadata": {
        "id": "lL9KSY8DnC3I",
        "outputId": "e701a78f-e54b-48a1-94e5-6329c20ef5ea",
        "colab": {
          "base_uri": "https://localhost:8080/",
          "height": 284
        }
      },
      "source": [
        "plt.bar(binomial_prob.keys(), binomial_prob.values())\n",
        "plt.xticks(range(11))\n",
        "plt.xlabel(\"成功回数\")\n",
        "plt.ylabel(\"確率\")\n",
        "plt.show()"
      ],
      "execution_count": 8,
      "outputs": [
        {
          "output_type": "display_data",
          "data": {
            "image/png": "[encoded data removed]",
            "text/plain": [
              "<Figure size 432x288 with 1 Axes>"
            ]
          },
          "metadata": {
            "tags": [],
            "image/png": {
              "width": 398,
              "height": 267
            },
            "needs_background": "light"
          }
        }
      ]
    },
    {
      "cell_type": "code",
      "metadata": {
        "id": "x6rQ5W6YnfEZ",
        "outputId": "bd1f18f2-88f8-4d61-92fd-dd921e6ad50c",
        "colab": {
          "base_uri": "https://localhost:8080/",
          "height": 284
        }
      },
      "source": [
        "# コード9: 二項分布のシミュレーション\n",
        "from scipy.stats import bernoulli\n",
        "np.random.seed(71)\n",
        "# ベルヌーイ分布に従う乱数を生成\n",
        "def gen_bern_var(n, p):\n",
        "  return np.sum(bernoulli.rvs(p, size=n))\n",
        "\n",
        "n_trial = 10000\n",
        "n = 10\n",
        "p = 0.2\n",
        "result = []\n",
        "for i in range(n_trial):\n",
        "  result += [gen_bern_var(n=n, p=p)]\n",
        "plt.hist(result, bins=range(n+1),density=True)\n",
        "plt.xticks(range(n+1))\n",
        "plt.xlabel(\"成功回数\")\n",
        "plt.ylabel(\"頻度\")\n",
        "plt.show()"
      ],
      "execution_count": 9,
      "outputs": [
        {
          "output_type": "display_data",
          "data": {
            "image/png": "[encoded data removed]",
            "text/plain": [
              "<Figure size 432x288 with 1 Axes>"
            ]
          },
          "metadata": {
            "tags": [],
            "image/png": {
              "width": 398,
              "height": 267
            },
            "needs_background": "light"
          }
        }
      ]
    }
  ]
}
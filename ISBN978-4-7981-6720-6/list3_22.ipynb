{
  "nbformat": 4,
  "nbformat_minor": 0,
  "metadata": {
    "colab": {
      "provenance": [],
      "authorship_tag": "ABX9TyMTzsI1U5NkZxHQmTXG5hrW",
      "include_colab_link": true
    },
    "kernelspec": {
      "name": "python3",
      "display_name": "Python 3"
    },
    "language_info": {
      "name": "python"
    }
  },
  "cells": [
    {
      "cell_type": "markdown",
      "metadata": {
        "id": "view-in-github",
        "colab_type": "text"
      },
      "source": [
        "<a href=\"https://colab.research.google.com/github/zfukuoka/Copying_a_sutra/blob/master/ISBN978-4-7981-6720-6/list3_22.ipynb\" target=\"_parent\"><img src=\"https://colab.research.google.com/assets/colab-badge.svg\" alt=\"Open In Colab\"/></a>"
      ]
    },
    {
      "cell_type": "markdown",
      "source": [
        "## list 3.22 クラスの定義"
      ],
      "metadata": {
        "id": "FIAie7vOKASg"
      }
    },
    {
      "cell_type": "code",
      "execution_count": null,
      "metadata": {
        "id": "_i57o0rsDpbR"
      },
      "outputs": [],
      "source": [
        "class Calc:\n",
        "  def __init__(self, a):\n",
        "    self.a = a\n",
        "  \n",
        "  def add(self, b):\n",
        "    print(self.a + b)\n",
        "  \n",
        "  def multiple(self, b):\n",
        "    print(self.a * b)\n"
      ]
    },
    {
      "cell_type": "markdown",
      "source": [
        "## list.3.23 インスタンスの生成"
      ],
      "metadata": {
        "id": "9FwvXgFVJ9Zd"
      }
    },
    {
      "cell_type": "code",
      "source": [
        "calc = Calc(4)\n",
        "calc.add(5)\n",
        "calc.multiple(4)"
      ],
      "metadata": {
        "colab": {
          "base_uri": "https://localhost:8080/"
        },
        "id": "5Mb5_r3-IxCC",
        "outputId": "b91d5b5a-a883-48a2-89cf-42bf81fa1570"
      },
      "execution_count": null,
      "outputs": [
        {
          "output_type": "stream",
          "name": "stdout",
          "text": [
            "9\n",
            "16\n"
          ]
        }
      ]
    },
    {
      "cell_type": "markdown",
      "source": [
        "## list 3.24 クラスの継承"
      ],
      "metadata": {
        "id": "ugssNMmlJ5PE"
      }
    },
    {
      "cell_type": "code",
      "source": [
        "class CalcNext(Calc):\n",
        "  def subtract(self, b):\n",
        "    print(self.a - b)\n",
        "  \n",
        "  def divide(self, b):\n",
        "    print(self.a / b)\n"
      ],
      "metadata": {
        "id": "P-zokN2GI9yd"
      },
      "execution_count": null,
      "outputs": []
    },
    {
      "cell_type": "markdown",
      "source": [
        "## list 3.25 継承したクラスからインスタンスを生成"
      ],
      "metadata": {
        "id": "_KD511t6JycW"
      }
    },
    {
      "cell_type": "code",
      "source": [
        "calc_next = CalcNext(4)\n",
        "calc_next.add(5)\n",
        "calc_next.multiple(5)\n",
        "calc_next.subtract(5)\n",
        "calc_next.divide(5)"
      ],
      "metadata": {
        "colab": {
          "base_uri": "https://localhost:8080/"
        },
        "id": "SBDfXiG9JMsd",
        "outputId": "a786765c-06c3-4e55-9a7c-2f720185e145"
      },
      "execution_count": null,
      "outputs": [
        {
          "output_type": "stream",
          "name": "stdout",
          "text": [
            "9\n",
            "20\n",
            "-1\n",
            "0.8\n"
          ]
        }
      ]
    }
  ]
}
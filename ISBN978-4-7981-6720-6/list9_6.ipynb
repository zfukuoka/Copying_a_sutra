{
  "nbformat": 4,
  "nbformat_minor": 0,
  "metadata": {
    "colab": {
      "name": "list9_6.ipynb",
      "provenance": [],
      "authorship_tag": "ABX9TyMQOGzbPDUY0IrExjyjxE+B",
      "include_colab_link": true
    },
    "kernelspec": {
      "name": "python3",
      "display_name": "Python 3"
    },
    "language_info": {
      "name": "python"
    }
  },
  "cells": [
    {
      "cell_type": "markdown",
      "metadata": {
        "id": "view-in-github",
        "colab_type": "text"
      },
      "source": [
        "<a href=\"https://colab.research.google.com/github/zfukuoka/Copying_a_sutra/blob/master/ISBN978-4-7981-6720-6/list9_6.ipynb\" target=\"_parent\"><img src=\"https://colab.research.google.com/assets/colab-badge.svg\" alt=\"Open In Colab\"/></a>"
      ]
    },
    {
      "cell_type": "markdown",
      "source": [
        "# Chapter 9 変分オートエンコーダ（VAE）\n",
        "\n",
        "* 9.4 VAEの実装"
      ],
      "metadata": {
        "id": "Cwg_qb76RoCi"
      }
    },
    {
      "cell_type": "markdown",
      "source": [
        "### リスト 9.6 訓練用データの用意"
      ],
      "metadata": {
        "id": "Y9ffUv5eRnzz"
      }
    },
    {
      "cell_type": "code",
      "execution_count": 1,
      "metadata": {
        "colab": {
          "base_uri": "https://localhost:8080/",
          "height": 368
        },
        "id": "zGSgu8LhRbSB",
        "outputId": "0b318116-3aa6-4d06-f552-ecb15f1d403e"
      },
      "outputs": [
        {
          "output_type": "stream",
          "name": "stdout",
          "text": [
            "Downloading data from https://storage.googleapis.com/tensorflow/tf-keras-datasets/mnist.npz\n",
            "11493376/11490434 [==============================] - 0s 0us/step\n",
            "11501568/11490434 [==============================] - 0s 0us/step\n",
            "(60000, 28, 28) (10000, 28, 28)\n"
          ]
        },
        {
          "output_type": "display_data",
          "data": {
            "image/png": "[encoded data removed]",
            "text/plain": [
              "<Figure size 432x288 with 1 Axes>"
            ]
          },
          "metadata": {
            "needs_background": "light"
          }
        },
        {
          "output_type": "stream",
          "name": "stdout",
          "text": [
            "訓練用データの形状: (60000, 784) テスト用データの形状: (10000, 784)\n"
          ]
        }
      ],
      "source": [
        "import numpy as np\n",
        "import matplotlib.pyplot as plt\n",
        "import tensorflow as tf\n",
        "from tensorflow.keras.datasets import mnist\n",
        "\n",
        "(x_train, t_train), (x_test, t_test) = mnist.load_data()\n",
        "print(x_train.shape, x_test.shape)\n",
        "\n",
        "# 書くピクセルの値を0-1の範囲に収める\n",
        "x_train = x_train / 255\n",
        "x_test = x_test / 255\n",
        "\n",
        "# 手書き文字画像を1つ表示\n",
        "plt.imshow(x_train[0].reshape(28, 28), cmap=\"gray\")\n",
        "plt.title(t_train[0])\n",
        "plt.show()\n",
        "\n",
        "# 1次元に変換する\n",
        "x_train = x_train.reshape(x_train.shape[0], -1)\n",
        "x_test = x_test.reshape(x_test.shape[0], -1)\n",
        "print(\"訓練用データの形状:\", x_train.shape, \"テスト用データの形状:\", x_test.shape)"
      ]
    },
    {
      "cell_type": "markdown",
      "source": [
        "#### リスト 9.7 VAEの各設定"
      ],
      "metadata": {
        "id": "pGECkAGa4Y3i"
      }
    },
    {
      "cell_type": "code",
      "source": [
        "epochs = 10\n",
        "batch_size = 128\n",
        "n_in_out = 784\n",
        "n_z = 2\n",
        "n_mid = 256"
      ],
      "metadata": {
        "id": "z8v8ZPqQ4e3E"
      },
      "execution_count": 2,
      "outputs": []
    },
    {
      "cell_type": "markdown",
      "source": [
        "### リスト 9.8 VAEのモデル構築"
      ],
      "metadata": {
        "id": "O-c66l6m4o7e"
      }
    },
    {
      "cell_type": "code",
      "source": [
        "from tensorflow.keras.models import Model\n",
        "from tensorflow.keras import metrics\n",
        "from tensorflow.keras.layers import Input, Dense, Lambda\n",
        "from tensorflow.keras import backend as K\n",
        "\n",
        "# 潜在変数をサンプリングするための関数\n",
        "def z_sample(args):\n",
        "  mu, log_var = args\n",
        "  epsilon = K.random_normal(shape=K.shape(log_var), mean=0, stddev=1)\n",
        "  return mu + epsilon * K.exp(log_var / 2)\n",
        "\n",
        "# Encoder\n",
        "x = Input(shape=(n_in_out,))\n",
        "h_encoder = Dense(n_mid, activation=\"relu\")(x)\n",
        "mu = Dense(n_z)(h_encoder)\n",
        "log_var = Dense(n_z)(h_encoder)\n",
        "z = Lambda(z_sample, output_shape=(n_z,))([mu, log_var])\n",
        "\n",
        "# Decoder\n",
        "mid_decoder = Dense(n_mid, activation=\"relu\")\n",
        "h_decoder = mid_decoder(z)\n",
        "out_decoder = Dense(n_in_out, activation=\"sigmoid\")\n",
        "y = out_decoder(h_decoder)\n",
        "\n",
        "# VAEのモデルを生成\n",
        "model_vae = Model(x, y)\n",
        "\n",
        "# 損失関数\n",
        "eps = 1e-7\n",
        "rec_loss = K.sum(-x * K.log(y + eps) - (1 - x) * K.log(1 - y + eps)) / batch_size\n",
        "reg_loss = -0.5 * K.sum(1 + log_var - K.square(mu) - K.exp(log_var)) / batch_size\n",
        "vae_loss = rec_loss + reg_loss\n",
        "\n",
        "model_vae.add_loss(vae_loss)\n",
        "model_vae.compile(optimizer=\"adam\")\n",
        "model_vae.summary()"
      ],
      "metadata": {
        "id": "oRwgIPtm4xDI",
        "outputId": "5ebf7e17-56ec-4a99-d9fc-a995b1b24fad",
        "colab": {
          "base_uri": "https://localhost:8080/"
        }
      },
      "execution_count": 3,
      "outputs": [
        {
          "output_type": "stream",
          "name": "stdout",
          "text": [
            "Model: \"model\"\n",
            "__________________________________________________________________________________________________\n",
            " Layer (type)                   Output Shape         Param #     Connected to                     \n",
            "==================================================================================================\n",
            " input_1 (InputLayer)           [(None, 784)]        0           []                               \n",
            "                                                                                                  \n",
            " dense (Dense)                  (None, 256)          200960      ['input_1[0][0]']                \n",
            "                                                                                                  \n",
            " dense_1 (Dense)                (None, 2)            514         ['dense[0][0]']                  \n",
            "                                                                                                  \n",
            " dense_2 (Dense)                (None, 2)            514         ['dense[0][0]']                  \n",
            "                                                                                                  \n",
            " lambda (Lambda)                (None, 2)            0           ['dense_1[0][0]',                \n",
            "                                                                  'dense_2[0][0]']                \n",
            "                                                                                                  \n",
            " dense_3 (Dense)                (None, 256)          768         ['lambda[0][0]']                 \n",
            "                                                                                                  \n",
            " dense_4 (Dense)                (None, 784)          201488      ['dense_3[0][0]']                \n",
            "                                                                                                  \n",
            " tf.math.subtract_1 (TFOpLambda  (None, 784)         0           ['dense_4[0][0]']                \n",
            " )                                                                                                \n",
            "                                                                                                  \n",
            " tf.__operators__.add (TFOpLamb  (None, 784)         0           ['dense_4[0][0]']                \n",
            " da)                                                                                              \n",
            "                                                                                                  \n",
            " tf.__operators__.add_1 (TFOpLa  (None, 784)         0           ['tf.math.subtract_1[0][0]']     \n",
            " mbda)                                                                                            \n",
            "                                                                                                  \n",
            " tf.__operators__.add_2 (TFOpLa  (None, 2)           0           ['dense_2[0][0]']                \n",
            " mbda)                                                                                            \n",
            "                                                                                                  \n",
            " tf.math.square (TFOpLambda)    (None, 2)            0           ['dense_1[0][0]']                \n",
            "                                                                                                  \n",
            " tf.math.negative (TFOpLambda)  (None, 784)          0           ['input_1[0][0]']                \n",
            "                                                                                                  \n",
            " tf.math.log (TFOpLambda)       (None, 784)          0           ['tf.__operators__.add[0][0]']   \n",
            "                                                                                                  \n",
            " tf.math.subtract (TFOpLambda)  (None, 784)          0           ['input_1[0][0]']                \n",
            "                                                                                                  \n",
            " tf.math.log_1 (TFOpLambda)     (None, 784)          0           ['tf.__operators__.add_1[0][0]'] \n",
            "                                                                                                  \n",
            " tf.math.subtract_3 (TFOpLambda  (None, 2)           0           ['tf.__operators__.add_2[0][0]', \n",
            " )                                                                'tf.math.square[0][0]']         \n",
            "                                                                                                  \n",
            " tf.math.exp (TFOpLambda)       (None, 2)            0           ['dense_2[0][0]']                \n",
            "                                                                                                  \n",
            " tf.math.multiply (TFOpLambda)  (None, 784)          0           ['tf.math.negative[0][0]',       \n",
            "                                                                  'tf.math.log[0][0]']            \n",
            "                                                                                                  \n",
            " tf.math.multiply_1 (TFOpLambda  (None, 784)         0           ['tf.math.subtract[0][0]',       \n",
            " )                                                                'tf.math.log_1[0][0]']          \n",
            "                                                                                                  \n",
            " tf.math.subtract_4 (TFOpLambda  (None, 2)           0           ['tf.math.subtract_3[0][0]',     \n",
            " )                                                                'tf.math.exp[0][0]']            \n",
            "                                                                                                  \n",
            " tf.math.subtract_2 (TFOpLambda  (None, 784)         0           ['tf.math.multiply[0][0]',       \n",
            " )                                                                'tf.math.multiply_1[0][0]']     \n",
            "                                                                                                  \n",
            " tf.math.reduce_sum_1 (TFOpLamb  ()                  0           ['tf.math.subtract_4[0][0]']     \n",
            " da)                                                                                              \n",
            "                                                                                                  \n",
            " tf.math.reduce_sum (TFOpLambda  ()                  0           ['tf.math.subtract_2[0][0]']     \n",
            " )                                                                                                \n",
            "                                                                                                  \n",
            " tf.math.multiply_2 (TFOpLambda  ()                  0           ['tf.math.reduce_sum_1[0][0]']   \n",
            " )                                                                                                \n",
            "                                                                                                  \n",
            " tf.math.truediv (TFOpLambda)   ()                   0           ['tf.math.reduce_sum[0][0]']     \n",
            "                                                                                                  \n",
            " tf.math.truediv_1 (TFOpLambda)  ()                  0           ['tf.math.multiply_2[0][0]']     \n",
            "                                                                                                  \n",
            " tf.__operators__.add_3 (TFOpLa  ()                  0           ['tf.math.truediv[0][0]',        \n",
            " mbda)                                                            'tf.math.truediv_1[0][0]']      \n",
            "                                                                                                  \n",
            " add_loss (AddLoss)             ()                   0           ['tf.__operators__.add_3[0][0]'] \n",
            "                                                                                                  \n",
            "==================================================================================================\n",
            "Total params: 404,244\n",
            "Trainable params: 404,244\n",
            "Non-trainable params: 0\n",
            "__________________________________________________________________________________________________\n"
          ]
        }
      ]
    },
    {
      "cell_type": "markdown",
      "source": [
        "### リスト 9.9 VAEの学習"
      ],
      "metadata": {
        "id": "ttdrcUedC4W-"
      }
    },
    {
      "cell_type": "code",
      "source": [
        "model_vae.fit(\n",
        "    x_train, x_train, shuffle=True, epochs=epochs,\n",
        "    batch_size=batch_size, validation_data=(x_test, None))"
      ],
      "metadata": {
        "id": "3T_L87-LC9AQ",
        "outputId": "49fbb64a-f059-4c10-9290-f3140eca9de5",
        "colab": {
          "base_uri": "https://localhost:8080/"
        }
      },
      "execution_count": 4,
      "outputs": [
        {
          "output_type": "stream",
          "name": "stdout",
          "text": [
            "Epoch 1/10\n",
            "469/469 [==============================] - 11s 21ms/step - loss: 204.0578 - val_loss: 174.9678\n",
            "Epoch 2/10\n",
            "469/469 [==============================] - 10s 21ms/step - loss: 173.2596 - val_loss: 167.6692\n",
            "Epoch 3/10\n",
            "469/469 [==============================] - 9s 19ms/step - loss: 168.8146 - val_loss: 164.7344\n",
            "Epoch 4/10\n",
            "469/469 [==============================] - 9s 18ms/step - loss: 165.9658 - val_loss: 162.3846\n",
            "Epoch 5/10\n",
            "469/469 [==============================] - 9s 19ms/step - loss: 163.6723 - val_loss: 160.7265\n",
            "Epoch 6/10\n",
            "469/469 [==============================] - 10s 20ms/step - loss: 162.0300 - val_loss: 159.5000\n",
            "Epoch 7/10\n",
            "469/469 [==============================] - 10s 21ms/step - loss: 160.7360 - val_loss: 158.5326\n",
            "Epoch 8/10\n",
            "469/469 [==============================] - 10s 22ms/step - loss: 159.7008 - val_loss: 157.6150\n",
            "Epoch 9/10\n",
            "469/469 [==============================] - 9s 20ms/step - loss: 158.8174 - val_loss: 156.9128\n",
            "Epoch 10/10\n",
            "469/469 [==============================] - 9s 19ms/step - loss: 157.9824 - val_loss: 156.2028\n"
          ]
        },
        {
          "output_type": "execute_result",
          "data": {
            "text/plain": [
              "<keras.callbacks.History at 0x7f29b337b750>"
            ]
          },
          "metadata": {},
          "execution_count": 4
        }
      ]
    }
  ]
}
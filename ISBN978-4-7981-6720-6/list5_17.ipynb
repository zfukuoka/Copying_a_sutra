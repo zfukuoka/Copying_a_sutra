{
  "nbformat": 4,
  "nbformat_minor": 0,
  "metadata": {
    "colab": {
      "name": "list5_17.ipynb",
      "provenance": [],
      "authorship_tag": "ABX9TyM32JOhcbZeX+kXC5NbGNEo",
      "include_colab_link": true
    },
    "kernelspec": {
      "name": "python3",
      "display_name": "Python 3"
    },
    "language_info": {
      "name": "python"
    }
  },
  "cells": [
    {
      "cell_type": "markdown",
      "metadata": {
        "id": "view-in-github",
        "colab_type": "text"
      },
      "source": [
        "<a href=\"https://colab.research.google.com/github/zfukuoka/Copying_a_sutra/blob/master/ISBN978-4-7981-6720-6/list5_17.ipynb\" target=\"_parent\"><img src=\"https://colab.research.google.com/assets/colab-badge.svg\" alt=\"Open In Colab\"/></a>"
      ]
    },
    {
      "cell_type": "markdown",
      "source": [
        "# Chapter 5 ディープラーニングの理論\n",
        "\n",
        "* 5.6 層間の計算\n",
        "* 5.7 微分の基礎\n",
        "* 5.8 損失関数"
      ],
      "metadata": {
        "id": "JIuEo_mXDcFO"
      }
    },
    {
      "cell_type": "markdown",
      "source": [
        "### リスト 5.17 二乗和誤差を計算する関数"
      ],
      "metadata": {
        "id": "GSG8TaUMD4HI"
      }
    },
    {
      "cell_type": "code",
      "execution_count": 1,
      "metadata": {
        "id": "9zxeu4v3DbDz"
      },
      "outputs": [],
      "source": [
        "import numpy as np\n",
        "\n",
        "def square_sum(y, t):\n",
        "  return 1.0 / 2.0 * np.sum(np.square(y - t))"
      ]
    },
    {
      "cell_type": "markdown",
      "source": [
        "### リスト 5.18 二乗和誤差を計算する"
      ],
      "metadata": {
        "id": "bndTgDG0EUoA"
      }
    },
    {
      "cell_type": "code",
      "source": [
        "y = np.array([3, 3, 3, 3, 3])\n",
        "t = np.array([2, 2, 2, 2, 2])\n",
        "\n",
        "print(square_sum(y, t))"
      ],
      "metadata": {
        "colab": {
          "base_uri": "https://localhost:8080/"
        },
        "id": "Uax_bd4lEnu_",
        "outputId": "3181f8d0-fed2-4f98-e885-7cfc1f6cb5ee"
      },
      "execution_count": 2,
      "outputs": [
        {
          "output_type": "stream",
          "name": "stdout",
          "text": [
            "2.5\n"
          ]
        }
      ]
    }
  ]
}
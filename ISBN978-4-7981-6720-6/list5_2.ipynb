{
  "nbformat": 4,
  "nbformat_minor": 0,
  "metadata": {
    "colab": {
      "name": "list5_2.ipynb",
      "provenance": [],
      "authorship_tag": "ABX9TyMBY1beHDj/yPlbAeNkoD3e",
      "include_colab_link": true
    },
    "kernelspec": {
      "name": "python3",
      "display_name": "Python 3"
    },
    "language_info": {
      "name": "python"
    }
  },
  "cells": [
    {
      "cell_type": "markdown",
      "metadata": {
        "id": "view-in-github",
        "colab_type": "text"
      },
      "source": [
        "<a href=\"https://colab.research.google.com/github/zfukuoka/Copying_a_sutra/blob/master/ISBN978-4-7981-6720-6/list5_2.ipynb\" target=\"_parent\"><img src=\"https://colab.research.google.com/assets/colab-badge.svg\" alt=\"Open In Colab\"/></a>"
      ]
    },
    {
      "cell_type": "markdown",
      "source": [
        "# Chapter 5 ディープラーニングの理論\n",
        "\n",
        "* 5.1 数学の基礎\n"
      ],
      "metadata": {
        "id": "Zvxg-XF67DQ5"
      }
    },
    {
      "cell_type": "markdown",
      "source": [
        "### リスト 5.2 NumPyでネイピア数を得る"
      ],
      "metadata": {
        "id": "0Bsp0RE57F97"
      }
    },
    {
      "cell_type": "code",
      "execution_count": 1,
      "metadata": {
        "colab": {
          "base_uri": "https://localhost:8080/"
        },
        "id": "Xum8QbWg7Ate",
        "outputId": "73ff32d2-a41f-4234-f985-7ac171fc315a"
      },
      "outputs": [
        {
          "output_type": "stream",
          "name": "stdout",
          "text": [
            "2.718281828459045\n",
            "2.718281828459045\n"
          ]
        }
      ],
      "source": [
        "import numpy as np\n",
        "\n",
        "print(np.e)\n",
        "print(np.exp(1))"
      ]
    }
  ]
}
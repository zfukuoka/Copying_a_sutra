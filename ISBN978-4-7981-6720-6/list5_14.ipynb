{
  "nbformat": 4,
  "nbformat_minor": 0,
  "metadata": {
    "colab": {
      "name": "list5_14.ipynb",
      "provenance": [],
      "authorship_tag": "ABX9TyMRDV2HQo/BRBx0yWwfqiDj",
      "include_colab_link": true
    },
    "kernelspec": {
      "name": "python3",
      "display_name": "Python 3"
    },
    "language_info": {
      "name": "python"
    }
  },
  "cells": [
    {
      "cell_type": "markdown",
      "metadata": {
        "id": "view-in-github",
        "colab_type": "text"
      },
      "source": [
        "<a href=\"https://colab.research.google.com/github/zfukuoka/Copying_a_sutra/blob/master/ISBN978-4-7981-6720-6/list5_14.ipynb\" target=\"_parent\"><img src=\"https://colab.research.google.com/assets/colab-badge.svg\" alt=\"Open In Colab\"/></a>"
      ]
    },
    {
      "cell_type": "markdown",
      "source": [
        "# Chapter 5 ディープラーニングの理論\n",
        "\n",
        "* 5.5 行列と行列積"
      ],
      "metadata": {
        "id": "nzclub2XX91Q"
      }
    },
    {
      "cell_type": "markdown",
      "source": [
        "### リスト 5.14 NumPyを使った行列の積"
      ],
      "metadata": {
        "id": "kxCIVQkbYCcl"
      }
    },
    {
      "cell_type": "code",
      "execution_count": 1,
      "metadata": {
        "colab": {
          "base_uri": "https://localhost:8080/"
        },
        "id": "w6NPRnJwX9WY",
        "outputId": "c88acad7-8a4e-4747-8c1b-98cd6165e80c"
      },
      "outputs": [
        {
          "output_type": "stream",
          "name": "stdout",
          "text": [
            "[[3 6]\n",
            " [3 6]]\n"
          ]
        }
      ],
      "source": [
        "import numpy as np\n",
        "a = np.array([[0, 1, 2],\n",
        "              [2, 1, 0]])\n",
        "b = np.array([[1, 2],\n",
        "              [1, 2],\n",
        "              [1, 2]])\n",
        "print(np.dot(a, b))"
      ]
    }
  ]
}
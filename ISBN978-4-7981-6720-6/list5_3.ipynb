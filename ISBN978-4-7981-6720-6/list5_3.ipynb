{
  "nbformat": 4,
  "nbformat_minor": 0,
  "metadata": {
    "colab": {
      "name": "list5_3.ipynb",
      "provenance": [],
      "authorship_tag": "ABX9TyPxw44ynkT3sjsKtiOL38ZJ",
      "include_colab_link": true
    },
    "kernelspec": {
      "name": "python3",
      "display_name": "Python 3"
    },
    "language_info": {
      "name": "python"
    }
  },
  "cells": [
    {
      "cell_type": "markdown",
      "metadata": {
        "id": "view-in-github",
        "colab_type": "text"
      },
      "source": [
        "<a href=\"https://colab.research.google.com/github/zfukuoka/Copying_a_sutra/blob/master/ISBN978-4-7981-6720-6/list5_3.ipynb\" target=\"_parent\"><img src=\"https://colab.research.google.com/assets/colab-badge.svg\" alt=\"Open In Colab\"/></a>"
      ]
    },
    {
      "cell_type": "markdown",
      "source": [
        "# Chapter 5 ディープラーニングの理論\n",
        "\n",
        "* 5.1 数学の基礎\n"
      ],
      "metadata": {
        "id": "ZZS_MSRz7zVe"
      }
    },
    {
      "cell_type": "markdown",
      "source": [
        "### リスト 5.3 NupPyで自然対数を計算する"
      ],
      "metadata": {
        "id": "GmVF8WGK7zGQ"
      }
    },
    {
      "cell_type": "code",
      "execution_count": 1,
      "metadata": {
        "colab": {
          "base_uri": "https://localhost:8080/"
        },
        "id": "-FLcA56T7vxW",
        "outputId": "3b021145-f019-4a14-96fa-bf1e3c1646c1"
      },
      "outputs": [
        {
          "output_type": "stream",
          "name": "stdout",
          "text": [
            "1.0\n",
            "2.0\n",
            "12.0\n"
          ]
        }
      ],
      "source": [
        "import numpy as np\n",
        "\n",
        "print(np.log(np.e))\n",
        "print(np.log(np.exp(2)))\n",
        "print(np.log(np.exp(12)))"
      ]
    }
  ]
}
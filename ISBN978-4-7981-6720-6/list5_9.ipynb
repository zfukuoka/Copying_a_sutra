{
  "nbformat": 4,
  "nbformat_minor": 0,
  "metadata": {
    "colab": {
      "name": "list5_9.ipynb",
      "provenance": [],
      "authorship_tag": "ABX9TyMG6Z9SdXzRpg+I9X6NecgG",
      "include_colab_link": true
    },
    "kernelspec": {
      "name": "python3",
      "display_name": "Python 3"
    },
    "language_info": {
      "name": "python"
    }
  },
  "cells": [
    {
      "cell_type": "markdown",
      "metadata": {
        "id": "view-in-github",
        "colab_type": "text"
      },
      "source": [
        "<a href=\"https://colab.research.google.com/github/zfukuoka/Copying_a_sutra/blob/master/ISBN978-4-7981-6720-6/list5_9.ipynb\" target=\"_parent\"><img src=\"https://colab.research.google.com/assets/colab-badge.svg\" alt=\"Open In Colab\"/></a>"
      ]
    },
    {
      "cell_type": "markdown",
      "source": [
        "# Chapter 5 ディープラーニングの理論\n",
        "\n",
        "* 5.3 活性化関数"
      ],
      "metadata": {
        "id": "R23aFt5KZ4EI"
      }
    },
    {
      "cell_type": "markdown",
      "source": [
        "### リスト 5.9 ソフトマックス関数"
      ],
      "metadata": {
        "id": "_J9MJ17kZ3zu"
      }
    },
    {
      "cell_type": "code",
      "execution_count": 1,
      "metadata": {
        "id": "noQPIt8gZ0lZ"
      },
      "outputs": [],
      "source": [
        "import numpy as np\n",
        "\n",
        "def softmax_function(x):\n",
        "  return np.exp(x)/np.sum(np.exp(x))"
      ]
    },
    {
      "cell_type": "markdown",
      "source": [
        "### リスト 5.10 softmax_function()関数を実行"
      ],
      "metadata": {
        "id": "s557T08fbbMU"
      }
    },
    {
      "cell_type": "code",
      "source": [
        "y = softmax_function(np.array([1, 2, 3]))\n",
        "print(y)"
      ],
      "metadata": {
        "colab": {
          "base_uri": "https://localhost:8080/"
        },
        "id": "vkod5K0DaLRs",
        "outputId": "805daef0-3f30-4d56-bac1-0807b96f4780"
      },
      "execution_count": 2,
      "outputs": [
        {
          "output_type": "stream",
          "name": "stdout",
          "text": [
            "[0.09003057 0.24472847 0.66524096]\n"
          ]
        }
      ]
    }
  ]
}
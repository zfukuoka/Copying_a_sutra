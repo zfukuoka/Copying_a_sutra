{
  "nbformat": 4,
  "nbformat_minor": 0,
  "metadata": {
    "colab": {
      "name": "list5_12.ipynb",
      "provenance": [],
      "authorship_tag": "ABX9TyNSHPK2tRFPYa6JqKCYFtdL",
      "include_colab_link": true
    },
    "kernelspec": {
      "name": "python3",
      "display_name": "Python 3"
    },
    "language_info": {
      "name": "python"
    }
  },
  "cells": [
    {
      "cell_type": "markdown",
      "metadata": {
        "id": "view-in-github",
        "colab_type": "text"
      },
      "source": [
        "<a href=\"https://colab.research.google.com/github/zfukuoka/Copying_a_sutra/blob/master/ISBN978-4-7981-6720-6/list5_12.ipynb\" target=\"_parent\"><img src=\"https://colab.research.google.com/assets/colab-badge.svg\" alt=\"Open In Colab\"/></a>"
      ]
    },
    {
      "cell_type": "markdown",
      "source": [
        "# Chapter 5 ディープラーニングの理論\n",
        "\n",
        "* 5.4 順伝播と逆伝播\n",
        "* 5.5 行列と行列積"
      ],
      "metadata": {
        "id": "8_arZGj_dV-w"
      }
    },
    {
      "cell_type": "markdown",
      "source": [
        "### リスト 5.12 NumPyを使ってベクトルを表す"
      ],
      "metadata": {
        "id": "TpY_CRA4dVva"
      }
    },
    {
      "cell_type": "code",
      "execution_count": 1,
      "metadata": {
        "colab": {
          "base_uri": "https://localhost:8080/"
        },
        "id": "ApcfmrC5dU0K",
        "outputId": "4c987a6f-6dde-467e-d616-96a97292af6a"
      },
      "outputs": [
        {
          "output_type": "stream",
          "name": "stdout",
          "text": [
            "[3 2 1]\n",
            "[-2.3   0.25 -1.2   1.8   0.41]\n"
          ]
        }
      ],
      "source": [
        "import numpy as np\n",
        "\n",
        "a = np.array([3, 2, 1])\n",
        "print(a)\n",
        "\n",
        "b = np.array([-2.3, 0.25, -1.2, 1.8, 0.41])\n",
        "print(b)"
      ]
    }
  ]
}
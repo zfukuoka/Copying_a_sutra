{
  "nbformat": 4,
  "nbformat_minor": 0,
  "metadata": {
    "colab": {
      "name": "list5_6.ipynb",
      "provenance": [],
      "authorship_tag": "ABX9TyMvF0xvyaE3ih8rRSDJ0Wpa",
      "include_colab_link": true
    },
    "kernelspec": {
      "name": "python3",
      "display_name": "Python 3"
    },
    "language_info": {
      "name": "python"
    }
  },
  "cells": [
    {
      "cell_type": "markdown",
      "metadata": {
        "id": "view-in-github",
        "colab_type": "text"
      },
      "source": [
        "<a href=\"https://colab.research.google.com/github/zfukuoka/Copying_a_sutra/blob/master/ISBN978-4-7981-6720-6/list5_6.ipynb\" target=\"_parent\"><img src=\"https://colab.research.google.com/assets/colab-badge.svg\" alt=\"Open In Colab\"/></a>"
      ]
    },
    {
      "cell_type": "markdown",
      "source": [
        "# Chapter 5 ディープラーニングの理論\n",
        "\n",
        "* 5.3 活性化関数"
      ],
      "metadata": {
        "id": "S_SvqVLEFGZH"
      }
    },
    {
      "cell_type": "markdown",
      "source": [
        "### リスト 5.6 tanh()関数"
      ],
      "metadata": {
        "id": "qkxaue4VFQHB"
      }
    },
    {
      "cell_type": "code",
      "execution_count": 1,
      "metadata": {
        "colab": {
          "base_uri": "https://localhost:8080/",
          "height": 265
        },
        "id": "5dfa7uwaE_L6",
        "outputId": "0df5abc5-2667-4e43-8e14-94eb5cd284d8"
      },
      "outputs": [
        {
          "output_type": "display_data",
          "data": {
            "image/png": "[encoded data removed]",
            "text/plain": [
              "<Figure size 432x288 with 1 Axes>"
            ]
          },
          "metadata": {
            "needs_background": "light"
          }
        }
      ],
      "source": [
        "import numpy as np\n",
        "import matplotlib.pylab as plt\n",
        "\n",
        "def tanh_function(x):\n",
        "  return np.tanh(x)\n",
        "\n",
        "x = np.linspace(-5, 5)\n",
        "y = tanh_function(x)\n",
        "\n",
        "plt.plot(x, y)\n",
        "plt.show()"
      ]
    }
  ]
}
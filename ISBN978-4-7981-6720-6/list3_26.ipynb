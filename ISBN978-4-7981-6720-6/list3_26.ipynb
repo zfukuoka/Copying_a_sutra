{
  "nbformat": 4,
  "nbformat_minor": 0,
  "metadata": {
    "colab": {
      "provenance": [],
      "authorship_tag": "ABX9TyNOjUQcA1bXNMKsUsJnjfXZ",
      "include_colab_link": true
    },
    "kernelspec": {
      "name": "python3",
      "display_name": "Python 3"
    },
    "language_info": {
      "name": "python"
    }
  },
  "cells": [
    {
      "cell_type": "markdown",
      "metadata": {
        "id": "view-in-github",
        "colab_type": "text"
      },
      "source": [
        "<a href=\"https://colab.research.google.com/github/zfukuoka/Copying_a_sutra/blob/master/ISBN978-4-7981-6720-6/list3_26.ipynb\" target=\"_parent\"><img src=\"https://colab.research.google.com/assets/colab-badge.svg\" alt=\"Open In Colab\"/></a>"
      ]
    },
    {
      "cell_type": "markdown",
      "source": [
        "## list 3.26 __call__() メソッドの例"
      ],
      "metadata": {
        "id": "v4SPybB0MFW2"
      }
    },
    {
      "cell_type": "code",
      "execution_count": null,
      "metadata": {
        "id": "gq6XWm_VKR2p"
      },
      "outputs": [],
      "source": [
        "class Calc:\n",
        "  def __init__(self, a):\n",
        "    self.a = a\n",
        "  \n",
        "  def __call__(self, c):\n",
        "    print(self.a * c + c)\n",
        "  \n",
        "  def add(self, b):\n",
        "    print(self.a + b)\n",
        "  \n",
        "  def multiply(self, b):\n",
        "    print(self.a * b)\n"
      ]
    },
    {
      "cell_type": "markdown",
      "source": [
        "## list 3.27 インスタンス名 cl を使ったメソッド呼び出し"
      ],
      "metadata": {
        "id": "GxKu4osNL-GS"
      }
    },
    {
      "cell_type": "code",
      "source": [
        "cl = Calc(3)\n",
        "cl(5)"
      ],
      "metadata": {
        "colab": {
          "base_uri": "https://localhost:8080/"
        },
        "id": "5eDabWPOLr0C",
        "outputId": "547e2a29-2307-4ca2-a6c8-94a692c35afb"
      },
      "execution_count": null,
      "outputs": [
        {
          "output_type": "stream",
          "name": "stdout",
          "text": [
            "20\n"
          ]
        }
      ]
    }
  ]
}
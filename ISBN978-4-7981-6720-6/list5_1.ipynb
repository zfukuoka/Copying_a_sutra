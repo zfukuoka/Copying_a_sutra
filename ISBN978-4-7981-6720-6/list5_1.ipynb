{
  "nbformat": 4,
  "nbformat_minor": 0,
  "metadata": {
    "colab": {
      "name": "list5_1.ipynb",
      "provenance": [],
      "authorship_tag": "ABX9TyOE3aph2wVFDVYc3MzhSBnP",
      "include_colab_link": true
    },
    "kernelspec": {
      "name": "python3",
      "display_name": "Python 3"
    },
    "language_info": {
      "name": "python"
    }
  },
  "cells": [
    {
      "cell_type": "markdown",
      "metadata": {
        "id": "view-in-github",
        "colab_type": "text"
      },
      "source": [
        "<a href=\"https://colab.research.google.com/github/zfukuoka/Copying_a_sutra/blob/master/ISBN978-4-7981-6720-6/list5_1.ipynb\" target=\"_parent\"><img src=\"https://colab.research.google.com/assets/colab-badge.svg\" alt=\"Open In Colab\"/></a>"
      ]
    },
    {
      "cell_type": "markdown",
      "source": [
        "# Chapter 5 ディープラーニングの理論\n",
        "\n",
        "* 5.1 数学の基礎\n"
      ],
      "metadata": {
        "id": "kKabrAE46prs"
      }
    },
    {
      "cell_type": "markdown",
      "source": [
        "### リスト 5.1 Numpyのsum()関数で総和を求める"
      ],
      "metadata": {
        "id": "tVzSNWJy52QW"
      }
    },
    {
      "cell_type": "code",
      "source": [
        "import numpy as np\n",
        "\n",
        "a = np.array([1, 2, 3, 4, 5])\n",
        "y = np.sum(a)\n",
        "print(y)"
      ],
      "metadata": {
        "colab": {
          "base_uri": "https://localhost:8080/"
        },
        "id": "5fngPZ0c5ig-",
        "outputId": "96b6c294-a27e-4f10-e8ee-1a65afe95f8a"
      },
      "execution_count": null,
      "outputs": [
        {
          "output_type": "stream",
          "name": "stdout",
          "text": [
            "15\n"
          ]
        }
      ]
    }
  ]
}
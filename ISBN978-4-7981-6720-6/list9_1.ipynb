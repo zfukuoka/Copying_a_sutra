{
  "nbformat": 4,
  "nbformat_minor": 0,
  "metadata": {
    "colab": {
      "name": "list9_1.ipynb",
      "provenance": [],
      "authorship_tag": "ABX9TyNmmkcl5yHy4Z0RDtFLLkGg",
      "include_colab_link": true
    },
    "kernelspec": {
      "name": "python3",
      "display_name": "Python 3"
    },
    "language_info": {
      "name": "python"
    }
  },
  "cells": [
    {
      "cell_type": "markdown",
      "metadata": {
        "id": "view-in-github",
        "colab_type": "text"
      },
      "source": [
        "<a href=\"https://colab.research.google.com/github/zfukuoka/Copying_a_sutra/blob/master/ISBN978-4-7981-6720-6/list9_1.ipynb\" target=\"_parent\"><img src=\"https://colab.research.google.com/assets/colab-badge.svg\" alt=\"Open In Colab\"/></a>"
      ]
    },
    {
      "cell_type": "markdown",
      "source": [
        "# Chapter 9 変分オートエンコーダ（VAE）\n",
        "\n",
        "* 9.1 VAEの概要\n",
        "* 9.2 VAEの仕組み\n",
        "* 9.3 オートエンコーダの実装"
      ],
      "metadata": {
        "id": "JPi2-1gJNr7d"
      }
    },
    {
      "cell_type": "markdown",
      "source": [
        "### リスト 9.1 訓練用データを用意する"
      ],
      "metadata": {
        "id": "NQltYfFQPEm1"
      }
    },
    {
      "cell_type": "code",
      "execution_count": 1,
      "metadata": {
        "colab": {
          "base_uri": "https://localhost:8080/",
          "height": 368
        },
        "id": "IKozvuVeNqE_",
        "outputId": "78a35158-b503-4b42-cb40-98b9ba1f6689"
      },
      "outputs": [
        {
          "output_type": "stream",
          "name": "stdout",
          "text": [
            "Downloading data from https://storage.googleapis.com/tensorflow/tf-keras-datasets/mnist.npz\n",
            "11493376/11490434 [==============================] - 0s 0us/step\n",
            "11501568/11490434 [==============================] - 0s 0us/step\n",
            "(60000, 28, 28) (10000, 28, 28)\n"
          ]
        },
        {
          "output_type": "display_data",
          "data": {
            "image/png": "[encoded data removed]",
            "text/plain": [
              "<Figure size 432x288 with 1 Axes>"
            ]
          },
          "metadata": {
            "needs_background": "light"
          }
        },
        {
          "output_type": "stream",
          "name": "stdout",
          "text": [
            "訓練用データの形状: (60000, 784) テスト用データの形状: (10000, 784)\n"
          ]
        }
      ],
      "source": [
        "import numpy as np\n",
        "import matplotlib.pyplot as plt\n",
        "import tensorflow as tf\n",
        "from tensorflow.keras.datasets import mnist\n",
        "\n",
        "(x_train, t_train), (x_test, t_test) = mnist.load_data()\n",
        "print(x_train.shape, x_test.shape)\n",
        "\n",
        "# 各ピクセルの値を0-1の範囲に収める\n",
        "x_train = x_train / 255\n",
        "x_test = x_test / 255\n",
        "\n",
        "# 手書き文字画像を1つ表示\n",
        "plt.imshow(x_train[0].reshape(28, 28), cmap=\"gray\")\n",
        "plt.title(t_train[0])\n",
        "plt.show()\n",
        "\n",
        "# 1次元に変換する\n",
        "x_train = x_train.reshape(x_train.shape[0], -1)\n",
        "x_test = x_test.reshape(x_test.shape[0], -1)\n",
        "print(\"訓練用データの形状:\", x_train.shape, \"テスト用データの形状:\", x_test.shape)"
      ]
    },
    {
      "cell_type": "markdown",
      "source": [
        "### リスト 9.2 オートエンコーダの各設定"
      ],
      "metadata": {
        "id": "SxVqDK4VRlCx"
      }
    },
    {
      "cell_type": "code",
      "source": [
        "epochs = 20\n",
        "batch_size = 128\n",
        "n_in_out = 784\n",
        "n_mid = 64"
      ],
      "metadata": {
        "id": "HXGsViDrRl1d"
      },
      "execution_count": 2,
      "outputs": []
    },
    {
      "cell_type": "markdown",
      "source": [
        "### リスト 9.3 オートエンコーダのモデルの構築"
      ],
      "metadata": {
        "id": "czdKm_MySME-"
      }
    },
    {
      "cell_type": "code",
      "source": [
        "from tensorflow.keras.models import Model\n",
        "from tensorflow.keras.layers import Input, Dense\n",
        "\n",
        "# 各層\n",
        "x = Input(shape=(n_in_out,))\n",
        "encoder = Dense(n_mid, activation=\"relu\")\n",
        "decoder = Dense(n_in_out, activation=\"sigmoid\")\n",
        "\n",
        "# ネットワーク\n",
        "h = encoder(x)\n",
        "y = decoder(h)\n",
        "\n",
        "# オートエンコーダのモデル\n",
        "model_autoencoder = Model(x, y)\n",
        "model_autoencoder.compile(optimizer=\"adam\", loss=\"binary_crossentropy\")\n",
        "model_autoencoder.summary()\n",
        "print()\n",
        "\n",
        "# Decoderのみのモデル\n",
        "input_decoder = Input(shape=(n_mid,))\n",
        "model_decoder = Model(input_decoder, decoder(input_decoder))\n",
        "model_decoder.summary()"
      ],
      "metadata": {
        "id": "r6Sv7JPVSRem",
        "outputId": "3f32fa63-76dc-43cb-c3b7-500892107c39",
        "colab": {
          "base_uri": "https://localhost:8080/"
        }
      },
      "execution_count": 3,
      "outputs": [
        {
          "output_type": "stream",
          "name": "stdout",
          "text": [
            "Model: \"model\"\n",
            "_________________________________________________________________\n",
            " Layer (type)                Output Shape              Param #   \n",
            "=================================================================\n",
            " input_1 (InputLayer)        [(None, 784)]             0         \n",
            "                                                                 \n",
            " dense (Dense)               (None, 64)                50240     \n",
            "                                                                 \n",
            " dense_1 (Dense)             (None, 784)               50960     \n",
            "                                                                 \n",
            "=================================================================\n",
            "Total params: 101,200\n",
            "Trainable params: 101,200\n",
            "Non-trainable params: 0\n",
            "_________________________________________________________________\n",
            "\n",
            "Model: \"model_1\"\n",
            "_________________________________________________________________\n",
            " Layer (type)                Output Shape              Param #   \n",
            "=================================================================\n",
            " input_2 (InputLayer)        [(None, 64)]              0         \n",
            "                                                                 \n",
            " dense_1 (Dense)             (None, 784)               50960     \n",
            "                                                                 \n",
            "=================================================================\n",
            "Total params: 50,960\n",
            "Trainable params: 50,960\n",
            "Non-trainable params: 0\n",
            "_________________________________________________________________\n"
          ]
        }
      ]
    }
  ]
}
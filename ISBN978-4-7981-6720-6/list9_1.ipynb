{
  "nbformat": 4,
  "nbformat_minor": 0,
  "metadata": {
    "colab": {
      "name": "list9_1.ipynb",
      "provenance": [],
      "authorship_tag": "ABX9TyNsW3qq8jHZiVs/gzM+AwaW",
      "include_colab_link": true
    },
    "kernelspec": {
      "name": "python3",
      "display_name": "Python 3"
    },
    "language_info": {
      "name": "python"
    }
  },
  "cells": [
    {
      "cell_type": "markdown",
      "metadata": {
        "id": "view-in-github",
        "colab_type": "text"
      },
      "source": [
        "<a href=\"https://colab.research.google.com/github/zfukuoka/Copying_a_sutra/blob/master/ISBN978-4-7981-6720-6/list9_1.ipynb\" target=\"_parent\"><img src=\"https://colab.research.google.com/assets/colab-badge.svg\" alt=\"Open In Colab\"/></a>"
      ]
    },
    {
      "cell_type": "markdown",
      "source": [
        "# Chapter 9 変分オートエンコーダ（VAE）\n",
        "\n",
        "* 9.1 VAEの概要\n",
        "* 9.2 VAEの仕組み\n",
        "* 9.3 オートエンコーダの実装"
      ],
      "metadata": {
        "id": "JPi2-1gJNr7d"
      }
    },
    {
      "cell_type": "markdown",
      "source": [
        "### リスト 9.1 訓練用データを用意する"
      ],
      "metadata": {
        "id": "NQltYfFQPEm1"
      }
    },
    {
      "cell_type": "code",
      "execution_count": 1,
      "metadata": {
        "colab": {
          "base_uri": "https://localhost:8080/",
          "height": 316
        },
        "id": "IKozvuVeNqE_",
        "outputId": "392c0cb0-0a3d-45a4-da4d-526a812a2462"
      },
      "outputs": [
        {
          "output_type": "stream",
          "name": "stdout",
          "text": [
            "(60000, 28, 28) (10000, 28, 28)\n"
          ]
        },
        {
          "output_type": "display_data",
          "data": {
            "image/png": "[encoded data removed]",
            "text/plain": [
              "<Figure size 432x288 with 1 Axes>"
            ]
          },
          "metadata": {
            "needs_background": "light"
          }
        },
        {
          "output_type": "stream",
          "name": "stdout",
          "text": [
            "訓練用データの形状: (60000, 784) テスト用データの形状: (10000, 784)\n"
          ]
        }
      ],
      "source": [
        "import numpy as np\n",
        "import matplotlib.pyplot as plt\n",
        "import tensorflow as tf\n",
        "from tensorflow.keras.datasets import mnist\n",
        "\n",
        "(x_train, t_train), (x_test, t_test) = mnist.load_data()\n",
        "print(x_train.shape, x_test.shape)\n",
        "\n",
        "# 各ピクセルの値を0-1の範囲に収める\n",
        "x_train = x_train / 255\n",
        "x_test = x_test / 255\n",
        "\n",
        "# 手書き文字画像を1つ表示\n",
        "plt.imshow(x_train[0].reshape(28, 28), cmap=\"gray\")\n",
        "plt.title(t_train[0])\n",
        "plt.show()\n",
        "\n",
        "# 1次元に変換する\n",
        "x_train = x_train.reshape(x_train.shape[0], -1)\n",
        "x_test = x_test.reshape(x_test.shape[0], -1)\n",
        "print(\"訓練用データの形状:\", x_train.shape, \"テスト用データの形状:\", x_test.shape)"
      ]
    },
    {
      "cell_type": "markdown",
      "source": [
        "### リスト 9.2 オートエンコーダの各設定"
      ],
      "metadata": {
        "id": "SxVqDK4VRlCx"
      }
    },
    {
      "cell_type": "code",
      "source": [
        "epochs = 20\n",
        "batch_size = 128\n",
        "n_in_out = 784\n",
        "n_mid = 64"
      ],
      "metadata": {
        "id": "HXGsViDrRl1d"
      },
      "execution_count": 2,
      "outputs": []
    },
    {
      "cell_type": "markdown",
      "source": [
        "### リスト 9.3 オートエンコーダのモデルの構築"
      ],
      "metadata": {
        "id": "czdKm_MySME-"
      }
    },
    {
      "cell_type": "code",
      "source": [
        "from tensorflow.keras.models import Model\n",
        "from tensorflow.keras.layers import Input, Dense\n",
        "\n",
        "# 各層\n",
        "x = Input(shape=(n_in_out,))\n",
        "encoder = Dense(n_mid, activation=\"relu\")\n",
        "decoder = Dense(n_in_out, activation=\"sigmoid\")\n",
        "\n",
        "# ネットワーク\n",
        "h = encoder(x)\n",
        "y = decoder(h)\n",
        "\n",
        "# オートエンコーダのモデル\n",
        "model_autoencoder = Model(x, y)\n",
        "model_autoencoder.compile(optimizer=\"adam\", loss=\"binary_crossentropy\")\n",
        "model_autoencoder.summary()\n",
        "print()\n",
        "\n",
        "# Encoderのみのモデル\n",
        "model_encoder = Model(x, h)\n",
        "model_encoder.summary()\n",
        "print\n",
        "\n",
        "# Decoderのみのモデル\n",
        "input_decoder = Input(shape=(n_mid,))\n",
        "model_decoder = Model(input_decoder, decoder(input_decoder))\n",
        "model_decoder.summary()"
      ],
      "metadata": {
        "id": "r6Sv7JPVSRem",
        "outputId": "dd2174ec-1cba-4ef7-8918-5694b72d7c9c",
        "colab": {
          "base_uri": "https://localhost:8080/"
        }
      },
      "execution_count": 3,
      "outputs": [
        {
          "output_type": "stream",
          "name": "stdout",
          "text": [
            "Model: \"model\"\n",
            "_________________________________________________________________\n",
            " Layer (type)                Output Shape              Param #   \n",
            "=================================================================\n",
            " input_1 (InputLayer)        [(None, 784)]             0         \n",
            "                                                                 \n",
            " dense (Dense)               (None, 64)                50240     \n",
            "                                                                 \n",
            " dense_1 (Dense)             (None, 784)               50960     \n",
            "                                                                 \n",
            "=================================================================\n",
            "Total params: 101,200\n",
            "Trainable params: 101,200\n",
            "Non-trainable params: 0\n",
            "_________________________________________________________________\n",
            "\n",
            "Model: \"model_1\"\n",
            "_________________________________________________________________\n",
            " Layer (type)                Output Shape              Param #   \n",
            "=================================================================\n",
            " input_1 (InputLayer)        [(None, 784)]             0         \n",
            "                                                                 \n",
            " dense (Dense)               (None, 64)                50240     \n",
            "                                                                 \n",
            "=================================================================\n",
            "Total params: 50,240\n",
            "Trainable params: 50,240\n",
            "Non-trainable params: 0\n",
            "_________________________________________________________________\n",
            "Model: \"model_2\"\n",
            "_________________________________________________________________\n",
            " Layer (type)                Output Shape              Param #   \n",
            "=================================================================\n",
            " input_2 (InputLayer)        [(None, 64)]              0         \n",
            "                                                                 \n",
            " dense_1 (Dense)             (None, 784)               50960     \n",
            "                                                                 \n",
            "=================================================================\n",
            "Total params: 50,960\n",
            "Trainable params: 50,960\n",
            "Non-trainable params: 0\n",
            "_________________________________________________________________\n"
          ]
        }
      ]
    },
    {
      "cell_type": "markdown",
      "source": [
        "### リスト 9.4 オートエンコーダの学習"
      ],
      "metadata": {
        "id": "yAWuWa0NxBza"
      }
    },
    {
      "cell_type": "code",
      "source": [
        "model_autoencoder.fit(x_train, x_train,\n",
        "                      shuffle=True,\n",
        "                      epochs=epochs,\n",
        "                      batch_size=batch_size,\n",
        "                      validation_data=(x_test, x_test))"
      ],
      "metadata": {
        "id": "o7yEsd1nxGUp",
        "outputId": "06140cde-61c2-4fc4-af62-0f00ae10524e",
        "colab": {
          "base_uri": "https://localhost:8080/"
        }
      },
      "execution_count": 4,
      "outputs": [
        {
          "output_type": "stream",
          "name": "stdout",
          "text": [
            "Epoch 1/20\n",
            "469/469 [==============================] - 8s 14ms/step - loss: 0.1996 - val_loss: 0.1334\n",
            "Epoch 2/20\n",
            "469/469 [==============================] - 6s 14ms/step - loss: 0.1171 - val_loss: 0.1025\n",
            "Epoch 3/20\n",
            "469/469 [==============================] - 6s 14ms/step - loss: 0.0963 - val_loss: 0.0890\n",
            "Epoch 4/20\n",
            "469/469 [==============================] - 7s 15ms/step - loss: 0.0862 - val_loss: 0.0819\n",
            "Epoch 5/20\n",
            "469/469 [==============================] - 7s 15ms/step - loss: 0.0808 - val_loss: 0.0782\n",
            "Epoch 6/20\n",
            "469/469 [==============================] - 6s 13ms/step - loss: 0.0780 - val_loss: 0.0764\n",
            "Epoch 7/20\n",
            "469/469 [==============================] - 6s 14ms/step - loss: 0.0764 - val_loss: 0.0752\n",
            "Epoch 8/20\n",
            "469/469 [==============================] - 6s 14ms/step - loss: 0.0755 - val_loss: 0.0744\n",
            "Epoch 9/20\n",
            "469/469 [==============================] - 6s 13ms/step - loss: 0.0749 - val_loss: 0.0740\n",
            "Epoch 10/20\n",
            "469/469 [==============================] - 6s 13ms/step - loss: 0.0745 - val_loss: 0.0738\n",
            "Epoch 11/20\n",
            "469/469 [==============================] - 6s 13ms/step - loss: 0.0742 - val_loss: 0.0735\n",
            "Epoch 12/20\n",
            "469/469 [==============================] - 7s 14ms/step - loss: 0.0740 - val_loss: 0.0733\n",
            "Epoch 13/20\n",
            "469/469 [==============================] - 7s 15ms/step - loss: 0.0738 - val_loss: 0.0731\n",
            "Epoch 14/20\n",
            "469/469 [==============================] - 7s 14ms/step - loss: 0.0737 - val_loss: 0.0730\n",
            "Epoch 15/20\n",
            "469/469 [==============================] - 6s 14ms/step - loss: 0.0736 - val_loss: 0.0729\n",
            "Epoch 16/20\n",
            "469/469 [==============================] - 6s 14ms/step - loss: 0.0735 - val_loss: 0.0729\n",
            "Epoch 17/20\n",
            "469/469 [==============================] - 6s 13ms/step - loss: 0.0734 - val_loss: 0.0728\n",
            "Epoch 18/20\n",
            "469/469 [==============================] - 6s 13ms/step - loss: 0.0734 - val_loss: 0.0728\n",
            "Epoch 19/20\n",
            "469/469 [==============================] - 6s 14ms/step - loss: 0.0733 - val_loss: 0.0728\n",
            "Epoch 20/20\n",
            "469/469 [==============================] - 6s 13ms/step - loss: 0.0733 - val_loss: 0.0728\n"
          ]
        },
        {
          "output_type": "execute_result",
          "data": {
            "text/plain": [
              "<keras.callbacks.History at 0x7f4f0b706890>"
            ]
          },
          "metadata": {},
          "execution_count": 4
        }
      ]
    },
    {
      "cell_type": "markdown",
      "source": [
        "### リスト 9.5 オートエンコーダによる画像生成"
      ],
      "metadata": {
        "id": "zni3ALwYx8BG"
      }
    },
    {
      "cell_type": "code",
      "source": [
        "encoded = model_encoder.predict(x_test)\n",
        "decoded = model_decoder.predict(encoded)\n",
        "\n",
        "n = 8\n",
        "plt.figure(figsize=(16, 4))\n",
        "for i in range(n):\n",
        "  # 入力画像\n",
        "  ax = plt.subplot(3, n, i + 1)\n",
        "  plt.imshow(x_test[i].reshape(28, 28), cmap=\"Greys_r\")\n",
        "  ax.get_xaxis().set_visible(False)\n",
        "  ax.get_yaxis().set_visible(False)\n",
        "\n",
        "  # 中間層の出力\n",
        "  ax = plt.subplot(3, n, i + 1 + n)\n",
        "  plt.imshow(encoded[i].reshape(8, 8), cmap=\"Greys_r\")\n",
        "  ax.get_xaxis().set_visible(False)\n",
        "  ax.get_yaxis().set_visible(False)\n",
        "\n",
        "  # 出力画像\n",
        "  ax = plt.subplot(3, n, i + 1 + 2 * n)\n",
        "  plt.imshow(decoded[i].reshape(28, 28), cmap=\"Greys_r\")\n",
        "  ax.get_xaxis().set_visible(False)\n",
        "  ax.get_yaxis().set_visible(False)\n",
        "\n",
        "plt.show()"
      ],
      "metadata": {
        "id": "RlJfh24zyJ4i",
        "outputId": "dd7c02bf-a0be-4eb2-814c-ae6984acb58a",
        "colab": {
          "base_uri": "https://localhost:8080/",
          "height": 241
        }
      },
      "execution_count": 5,
      "outputs": [
        {
          "output_type": "display_data",
          "data": {
            "image/png": "[encoded data removed]",
            "text/plain": [
              "<Figure size 1152x288 with 24 Axes>"
            ]
          },
          "metadata": {
            "needs_background": "light"
          }
        }
      ]
    }
  ]
}
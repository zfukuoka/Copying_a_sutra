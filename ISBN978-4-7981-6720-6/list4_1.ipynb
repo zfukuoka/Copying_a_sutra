{
  "nbformat": 4,
  "nbformat_minor": 0,
  "metadata": {
    "colab": {
      "name": "list4_1.ipynb",
      "provenance": [],
      "authorship_tag": "ABX9TyM+K9e06ZPEGSMlvhOM0Xig",
      "include_colab_link": true
    },
    "kernelspec": {
      "name": "python3",
      "display_name": "Python 3"
    },
    "language_info": {
      "name": "python"
    }
  },
  "cells": [
    {
      "cell_type": "markdown",
      "metadata": {
        "id": "view-in-github",
        "colab_type": "text"
      },
      "source": [
        "<a href=\"https://colab.research.google.com/github/zfukuoka/Copying_a_sutra/blob/master/ISBN978-4-7981-6720-6/list4_1.ipynb\" target=\"_parent\"><img src=\"https://colab.research.google.com/assets/colab-badge.svg\" alt=\"Open In Colab\"/></a>"
      ]
    },
    {
      "cell_type": "markdown",
      "metadata": {
        "id": "g3LVzjXWCHG_"
      },
      "source": [
        "# リスト 4.1 Irisデータセットを読み込む"
      ]
    },
    {
      "cell_type": "code",
      "metadata": {
        "colab": {
          "base_uri": "https://localhost:8080/"
        },
        "id": "zJkCtdWw7p8P",
        "outputId": "92ef749c-8d4d-4826-f79b-ca5df862c58f"
      },
      "source": [
        "import numpy as np\n",
        "from sklearn import datasets\n",
        "\n",
        "iris = datasets.load_iris()\n",
        "print(iris.data[:10])\n",
        "print(iris.data.shape)\n",
        "print(iris.target)"
      ],
      "execution_count": null,
      "outputs": [
        {
          "output_type": "stream",
          "name": "stdout",
          "text": [
            "[[5.1 3.5 1.4 0.2]\n",
            " [4.9 3.  1.4 0.2]\n",
            " [4.7 3.2 1.3 0.2]\n",
            " [4.6 3.1 1.5 0.2]\n",
            " [5.  3.6 1.4 0.2]\n",
            " [5.4 3.9 1.7 0.4]\n",
            " [4.6 3.4 1.4 0.3]\n",
            " [5.  3.4 1.5 0.2]\n",
            " [4.4 2.9 1.4 0.2]\n",
            " [4.9 3.1 1.5 0.1]]\n",
            "(150, 4)\n",
            "[0 0 0 0 0 0 0 0 0 0 0 0 0 0 0 0 0 0 0 0 0 0 0 0 0 0 0 0 0 0 0 0 0 0 0 0 0\n",
            " 0 0 0 0 0 0 0 0 0 0 0 0 0 1 1 1 1 1 1 1 1 1 1 1 1 1 1 1 1 1 1 1 1 1 1 1 1\n",
            " 1 1 1 1 1 1 1 1 1 1 1 1 1 1 1 1 1 1 1 1 1 1 1 1 1 1 2 2 2 2 2 2 2 2 2 2 2\n",
            " 2 2 2 2 2 2 2 2 2 2 2 2 2 2 2 2 2 2 2 2 2 2 2 2 2 2 2 2 2 2 2 2 2 2 2 2 2\n",
            " 2 2]\n"
          ]
        }
      ]
    },
    {
      "cell_type": "markdown",
      "metadata": {
        "id": "D48NHIUGCOE5"
      },
      "source": [
        "# リスト 4.2 データを前処理する"
      ]
    },
    {
      "cell_type": "code",
      "metadata": {
        "id": "SyAbvuwm9LL5",
        "colab": {
          "base_uri": "https://localhost:8080/"
        },
        "outputId": "c7f4c873-3cf6-4c25-b639-da7e88f352a2"
      },
      "source": [
        "from sklearn import preprocessing\n",
        "from keras.utils import np_utils\n",
        "\n",
        "# ---- 入力データ ----\n",
        "scaler = preprocessing.StandardScaler()\n",
        "scaler.fit(iris.data)\n",
        "x = scaler.transform(iris.data)\n",
        "print(x[:10])\n",
        "\n",
        "# ---- 正解データ ----\n",
        "t = np_utils.to_categorical(iris.target)\n",
        "print(t[:10])"
      ],
      "execution_count": null,
      "outputs": [
        {
          "output_type": "stream",
          "name": "stdout",
          "text": [
            "[[-0.90068117  1.01900435 -1.34022653 -1.3154443 ]\n",
            " [-1.14301691 -0.13197948 -1.34022653 -1.3154443 ]\n",
            " [-1.38535265  0.32841405 -1.39706395 -1.3154443 ]\n",
            " [-1.50652052  0.09821729 -1.2833891  -1.3154443 ]\n",
            " [-1.02184904  1.24920112 -1.34022653 -1.3154443 ]\n",
            " [-0.53717756  1.93979142 -1.16971425 -1.05217993]\n",
            " [-1.50652052  0.78880759 -1.34022653 -1.18381211]\n",
            " [-1.02184904  0.78880759 -1.2833891  -1.3154443 ]\n",
            " [-1.74885626 -0.36217625 -1.34022653 -1.3154443 ]\n",
            " [-1.14301691  0.09821729 -1.2833891  -1.44707648]]\n",
            "[[1. 0. 0.]\n",
            " [1. 0. 0.]\n",
            " [1. 0. 0.]\n",
            " [1. 0. 0.]\n",
            " [1. 0. 0.]\n",
            " [1. 0. 0.]\n",
            " [1. 0. 0.]\n",
            " [1. 0. 0.]\n",
            " [1. 0. 0.]\n",
            " [1. 0. 0.]]\n"
          ]
        }
      ]
    },
    {
      "cell_type": "markdown",
      "metadata": {
        "id": "GKWQw7B8Dl3k"
      },
      "source": [
        "# リスト 4.3 データを訓練用データとテスト用データに分割する"
      ]
    },
    {
      "cell_type": "code",
      "metadata": {
        "id": "zq2CMYX4_JYS"
      },
      "source": [
        "from sklearn.model_selection import train_test_split\n",
        "\n",
        "x_train, x_test, t_train, t_test = train_test_split(x, t, train_size=0.75)"
      ],
      "execution_count": null,
      "outputs": []
    },
    {
      "cell_type": "markdown",
      "metadata": {
        "id": "lCaQXgzaN5-Q"
      },
      "source": [
        "# リスト 4.4 Kerasでモデルを構築する"
      ]
    },
    {
      "cell_type": "code",
      "metadata": {
        "id": "ER6x48JbOApj",
        "outputId": "8084e679-e6d4-42da-8d25-ee9239e9a979",
        "colab": {
          "base_uri": "https://localhost:8080/"
        }
      },
      "source": [
        "from tensorflow.keras.models import Sequential\n",
        "from tensorflow.keras.layers import Dense, Activation\n",
        "\n",
        "model = Sequential()\n",
        "model.add(Dense(32, input_dim=4))\n",
        "model.add(Activation('relu'))\n",
        "model.add(Dense(3))\n",
        "model.add(Activation('softmax'))\n",
        "model.compile(optimizer='sgd', loss='categorical_crossentropy', metrics=['accuracy'])\n",
        "\n",
        "print(model.summary())"
      ],
      "execution_count": 7,
      "outputs": [
        {
          "output_type": "stream",
          "name": "stdout",
          "text": [
            "Model: \"sequential_2\"\n",
            "_________________________________________________________________\n",
            " Layer (type)                Output Shape              Param #   \n",
            "=================================================================\n",
            " dense_6 (Dense)             (None, 32)                160       \n",
            "                                                                 \n",
            " activation_6 (Activation)   (None, 32)                0         \n",
            "                                                                 \n",
            " dense_7 (Dense)             (None, 3)                 99        \n",
            "                                                                 \n",
            " activation_7 (Activation)   (None, 3)                 0         \n",
            "                                                                 \n",
            "=================================================================\n",
            "Total params: 259\n",
            "Trainable params: 259\n",
            "Non-trainable params: 0\n",
            "_________________________________________________________________\n",
            "None\n"
          ]
        }
      ]
    },
    {
      "cell_type": "markdown",
      "metadata": {
        "id": "ybkXs4E7SBWo"
      },
      "source": [
        "# リスト 4.5 モデルを訓練する"
      ]
    },
    {
      "cell_type": "code",
      "metadata": {
        "id": "Z-xfboEISHVw",
        "outputId": "af7c2bbc-d1b5-4428-a4f5-b452bc0ee072",
        "colab": {
          "base_uri": "https://localhost:8080/"
        }
      },
      "source": [
        "history = model.fit(x_train, t_train, epochs=30, batch_size=8)"
      ],
      "execution_count": 8,
      "outputs": [
        {
          "output_type": "stream",
          "name": "stdout",
          "text": [
            "Epoch 1/30\n",
            "14/14 [==============================] - 1s 2ms/step - loss: 1.2687 - accuracy: 0.2946\n",
            "Epoch 2/30\n",
            "14/14 [==============================] - 0s 1ms/step - loss: 1.1234 - accuracy: 0.3393\n",
            "Epoch 3/30\n",
            "14/14 [==============================] - 0s 1ms/step - loss: 1.0092 - accuracy: 0.4196\n",
            "Epoch 4/30\n",
            "14/14 [==============================] - 0s 1ms/step - loss: 0.9180 - accuracy: 0.5714\n",
            "Epoch 5/30\n",
            "14/14 [==============================] - 0s 1ms/step - loss: 0.8430 - accuracy: 0.7589\n",
            "Epoch 6/30\n",
            "14/14 [==============================] - 0s 1ms/step - loss: 0.7805 - accuracy: 0.8214\n",
            "Epoch 7/30\n",
            "14/14 [==============================] - 0s 1ms/step - loss: 0.7267 - accuracy: 0.8482\n",
            "Epoch 8/30\n",
            "14/14 [==============================] - 0s 1ms/step - loss: 0.6802 - accuracy: 0.8750\n",
            "Epoch 9/30\n",
            "14/14 [==============================] - 0s 1ms/step - loss: 0.6409 - accuracy: 0.8661\n",
            "Epoch 10/30\n",
            "14/14 [==============================] - 0s 1ms/step - loss: 0.6064 - accuracy: 0.8661\n",
            "Epoch 11/30\n",
            "14/14 [==============================] - 0s 2ms/step - loss: 0.5765 - accuracy: 0.8661\n",
            "Epoch 12/30\n",
            "14/14 [==============================] - 0s 2ms/step - loss: 0.5507 - accuracy: 0.8571\n",
            "Epoch 13/30\n",
            "14/14 [==============================] - 0s 1ms/step - loss: 0.5270 - accuracy: 0.8750\n",
            "Epoch 14/30\n",
            "14/14 [==============================] - 0s 2ms/step - loss: 0.5065 - accuracy: 0.8661\n",
            "Epoch 15/30\n",
            "14/14 [==============================] - 0s 2ms/step - loss: 0.4877 - accuracy: 0.8750\n",
            "Epoch 16/30\n",
            "14/14 [==============================] - 0s 2ms/step - loss: 0.4708 - accuracy: 0.8839\n",
            "Epoch 17/30\n",
            "14/14 [==============================] - 0s 1ms/step - loss: 0.4551 - accuracy: 0.8839\n",
            "Epoch 18/30\n",
            "14/14 [==============================] - 0s 1ms/step - loss: 0.4407 - accuracy: 0.8839\n",
            "Epoch 19/30\n",
            "14/14 [==============================] - 0s 2ms/step - loss: 0.4274 - accuracy: 0.8839\n",
            "Epoch 20/30\n",
            "14/14 [==============================] - 0s 1ms/step - loss: 0.4154 - accuracy: 0.8839\n",
            "Epoch 21/30\n",
            "14/14 [==============================] - 0s 2ms/step - loss: 0.4040 - accuracy: 0.8929\n",
            "Epoch 22/30\n",
            "14/14 [==============================] - 0s 2ms/step - loss: 0.3933 - accuracy: 0.8929\n",
            "Epoch 23/30\n",
            "14/14 [==============================] - 0s 2ms/step - loss: 0.3838 - accuracy: 0.8929\n",
            "Epoch 24/30\n",
            "14/14 [==============================] - 0s 2ms/step - loss: 0.3742 - accuracy: 0.8929\n",
            "Epoch 25/30\n",
            "14/14 [==============================] - 0s 2ms/step - loss: 0.3655 - accuracy: 0.9018\n",
            "Epoch 26/30\n",
            "14/14 [==============================] - 0s 2ms/step - loss: 0.3572 - accuracy: 0.9107\n",
            "Epoch 27/30\n",
            "14/14 [==============================] - 0s 2ms/step - loss: 0.3501 - accuracy: 0.9107\n",
            "Epoch 28/30\n",
            "14/14 [==============================] - 0s 3ms/step - loss: 0.3426 - accuracy: 0.9107\n",
            "Epoch 29/30\n",
            "14/14 [==============================] - 0s 2ms/step - loss: 0.3357 - accuracy: 0.9107\n",
            "Epoch 30/30\n",
            "14/14 [==============================] - 0s 2ms/step - loss: 0.3291 - accuracy: 0.9107\n"
          ]
        }
      ]
    }
  ]
}
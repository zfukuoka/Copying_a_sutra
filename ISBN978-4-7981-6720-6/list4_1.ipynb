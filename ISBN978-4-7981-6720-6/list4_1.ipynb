{
  "nbformat": 4,
  "nbformat_minor": 0,
  "metadata": {
    "colab": {
      "name": "list4_1.ipynb",
      "provenance": [],
      "authorship_tag": "ABX9TyM764GJhUpM/RnfmWfx+j0G",
      "include_colab_link": true
    },
    "kernelspec": {
      "name": "python3",
      "display_name": "Python 3"
    },
    "language_info": {
      "name": "python"
    }
  },
  "cells": [
    {
      "cell_type": "markdown",
      "metadata": {
        "id": "view-in-github",
        "colab_type": "text"
      },
      "source": [
        "<a href=\"https://colab.research.google.com/github/zfukuoka/Copying_a_sutra/blob/master/ISBN978-4-7981-6720-6/list4_1.ipynb\" target=\"_parent\"><img src=\"https://colab.research.google.com/assets/colab-badge.svg\" alt=\"Open In Colab\"/></a>"
      ]
    },
    {
      "cell_type": "markdown",
      "metadata": {
        "id": "d_QNiPVI6ZIv"
      },
      "source": [
        "# Chapter 4 簡単なディープラーニング\n",
        "\n",
        "* 4.2 シンプルなディープラーニングの実装\n",
        "* 4.3 様々なニューラルネットワーク\n",
        "\n"
      ]
    },
    {
      "cell_type": "markdown",
      "metadata": {
        "id": "g3LVzjXWCHG_"
      },
      "source": [
        "### リスト 4.1 Irisデータセットを読み込む"
      ]
    },
    {
      "cell_type": "code",
      "metadata": {
        "colab": {
          "base_uri": "https://localhost:8080/"
        },
        "id": "zJkCtdWw7p8P",
        "outputId": "cc604a91-741b-41c3-c805-6fcb36e3d254"
      },
      "source": [
        "import numpy as np\n",
        "from sklearn import datasets\n",
        "\n",
        "iris = datasets.load_iris()\n",
        "print(iris.data[:10])\n",
        "print(iris.data.shape)\n",
        "print(iris.target)"
      ],
      "execution_count": 1,
      "outputs": [
        {
          "output_type": "stream",
          "name": "stdout",
          "text": [
            "[[5.1 3.5 1.4 0.2]\n",
            " [4.9 3.  1.4 0.2]\n",
            " [4.7 3.2 1.3 0.2]\n",
            " [4.6 3.1 1.5 0.2]\n",
            " [5.  3.6 1.4 0.2]\n",
            " [5.4 3.9 1.7 0.4]\n",
            " [4.6 3.4 1.4 0.3]\n",
            " [5.  3.4 1.5 0.2]\n",
            " [4.4 2.9 1.4 0.2]\n",
            " [4.9 3.1 1.5 0.1]]\n",
            "(150, 4)\n",
            "[0 0 0 0 0 0 0 0 0 0 0 0 0 0 0 0 0 0 0 0 0 0 0 0 0 0 0 0 0 0 0 0 0 0 0 0 0\n",
            " 0 0 0 0 0 0 0 0 0 0 0 0 0 1 1 1 1 1 1 1 1 1 1 1 1 1 1 1 1 1 1 1 1 1 1 1 1\n",
            " 1 1 1 1 1 1 1 1 1 1 1 1 1 1 1 1 1 1 1 1 1 1 1 1 1 1 2 2 2 2 2 2 2 2 2 2 2\n",
            " 2 2 2 2 2 2 2 2 2 2 2 2 2 2 2 2 2 2 2 2 2 2 2 2 2 2 2 2 2 2 2 2 2 2 2 2 2\n",
            " 2 2]\n"
          ]
        }
      ]
    },
    {
      "cell_type": "markdown",
      "metadata": {
        "id": "D48NHIUGCOE5"
      },
      "source": [
        "### リスト 4.2 データを前処理する"
      ]
    },
    {
      "cell_type": "code",
      "metadata": {
        "id": "SyAbvuwm9LL5",
        "colab": {
          "base_uri": "https://localhost:8080/"
        },
        "outputId": "bdfc05f7-09a5-489c-8215-1154146b16b9"
      },
      "source": [
        "from sklearn import preprocessing\n",
        "from keras.utils import np_utils\n",
        "\n",
        "# ---- 入力データ ----\n",
        "scaler = preprocessing.StandardScaler()\n",
        "scaler.fit(iris.data)\n",
        "x = scaler.transform(iris.data)\n",
        "print(x[:10])\n",
        "\n",
        "# ---- 正解データ ----\n",
        "t = np_utils.to_categorical(iris.target)\n",
        "print(t[:10])"
      ],
      "execution_count": 2,
      "outputs": [
        {
          "output_type": "stream",
          "name": "stdout",
          "text": [
            "[[-0.90068117  1.01900435 -1.34022653 -1.3154443 ]\n",
            " [-1.14301691 -0.13197948 -1.34022653 -1.3154443 ]\n",
            " [-1.38535265  0.32841405 -1.39706395 -1.3154443 ]\n",
            " [-1.50652052  0.09821729 -1.2833891  -1.3154443 ]\n",
            " [-1.02184904  1.24920112 -1.34022653 -1.3154443 ]\n",
            " [-0.53717756  1.93979142 -1.16971425 -1.05217993]\n",
            " [-1.50652052  0.78880759 -1.34022653 -1.18381211]\n",
            " [-1.02184904  0.78880759 -1.2833891  -1.3154443 ]\n",
            " [-1.74885626 -0.36217625 -1.34022653 -1.3154443 ]\n",
            " [-1.14301691  0.09821729 -1.2833891  -1.44707648]]\n",
            "[[1. 0. 0.]\n",
            " [1. 0. 0.]\n",
            " [1. 0. 0.]\n",
            " [1. 0. 0.]\n",
            " [1. 0. 0.]\n",
            " [1. 0. 0.]\n",
            " [1. 0. 0.]\n",
            " [1. 0. 0.]\n",
            " [1. 0. 0.]\n",
            " [1. 0. 0.]]\n"
          ]
        }
      ]
    },
    {
      "cell_type": "markdown",
      "metadata": {
        "id": "GKWQw7B8Dl3k"
      },
      "source": [
        "### リスト 4.3 データを訓練用データとテスト用データに分割する"
      ]
    },
    {
      "cell_type": "code",
      "metadata": {
        "id": "zq2CMYX4_JYS"
      },
      "source": [
        "from sklearn.model_selection import train_test_split\n",
        "\n",
        "x_train, x_test, t_train, t_test = train_test_split(x, t, train_size=0.75)"
      ],
      "execution_count": 3,
      "outputs": []
    },
    {
      "cell_type": "markdown",
      "metadata": {
        "id": "lCaQXgzaN5-Q"
      },
      "source": [
        "### リスト 4.4 Kerasでモデルを構築する"
      ]
    },
    {
      "cell_type": "code",
      "metadata": {
        "id": "ER6x48JbOApj",
        "colab": {
          "base_uri": "https://localhost:8080/"
        },
        "outputId": "db403511-b39f-4184-8947-2d98a211244d"
      },
      "source": [
        "from tensorflow.keras.models import Sequential\n",
        "from tensorflow.keras.layers import Dense, Activation\n",
        "\n",
        "model = Sequential()\n",
        "model.add(Dense(32, input_dim=4))\n",
        "model.add(Activation('relu'))\n",
        "model.add(Dense(3))\n",
        "model.add(Activation('softmax'))\n",
        "model.compile(optimizer='sgd', loss='categorical_crossentropy', metrics=['accuracy'])\n",
        "\n",
        "print(model.summary())"
      ],
      "execution_count": 4,
      "outputs": [
        {
          "output_type": "stream",
          "name": "stdout",
          "text": [
            "Model: \"sequential\"\n",
            "_________________________________________________________________\n",
            " Layer (type)                Output Shape              Param #   \n",
            "=================================================================\n",
            " dense (Dense)               (None, 32)                160       \n",
            "                                                                 \n",
            " activation (Activation)     (None, 32)                0         \n",
            "                                                                 \n",
            " dense_1 (Dense)             (None, 3)                 99        \n",
            "                                                                 \n",
            " activation_1 (Activation)   (None, 3)                 0         \n",
            "                                                                 \n",
            "=================================================================\n",
            "Total params: 259\n",
            "Trainable params: 259\n",
            "Non-trainable params: 0\n",
            "_________________________________________________________________\n",
            "None\n"
          ]
        }
      ]
    },
    {
      "cell_type": "markdown",
      "metadata": {
        "id": "ybkXs4E7SBWo"
      },
      "source": [
        "### リスト 4.5 モデルを訓練する"
      ]
    },
    {
      "cell_type": "code",
      "metadata": {
        "id": "Z-xfboEISHVw",
        "colab": {
          "base_uri": "https://localhost:8080/"
        },
        "outputId": "7443e247-810c-4d02-ccb2-f9eee1f1ff48"
      },
      "source": [
        "history = model.fit(x_train, t_train, epochs=30, batch_size=8)"
      ],
      "execution_count": 5,
      "outputs": [
        {
          "output_type": "stream",
          "name": "stdout",
          "text": [
            "Epoch 1/30\n",
            "14/14 [==============================] - 1s 2ms/step - loss: 1.2033 - accuracy: 0.2054\n",
            "Epoch 2/30\n",
            "14/14 [==============================] - 0s 2ms/step - loss: 1.0241 - accuracy: 0.4196\n",
            "Epoch 3/30\n",
            "14/14 [==============================] - 0s 2ms/step - loss: 0.8955 - accuracy: 0.5982\n",
            "Epoch 4/30\n",
            "14/14 [==============================] - 0s 2ms/step - loss: 0.8005 - accuracy: 0.6786\n",
            "Epoch 5/30\n",
            "14/14 [==============================] - 0s 2ms/step - loss: 0.7290 - accuracy: 0.7143\n",
            "Epoch 6/30\n",
            "14/14 [==============================] - 0s 2ms/step - loss: 0.6737 - accuracy: 0.7500\n",
            "Epoch 7/30\n",
            "14/14 [==============================] - 0s 2ms/step - loss: 0.6296 - accuracy: 0.7500\n",
            "Epoch 8/30\n",
            "14/14 [==============================] - 0s 2ms/step - loss: 0.5929 - accuracy: 0.7857\n",
            "Epoch 9/30\n",
            "14/14 [==============================] - 0s 2ms/step - loss: 0.5624 - accuracy: 0.8036\n",
            "Epoch 10/30\n",
            "14/14 [==============================] - 0s 2ms/step - loss: 0.5360 - accuracy: 0.8125\n",
            "Epoch 11/30\n",
            "14/14 [==============================] - 0s 2ms/step - loss: 0.5137 - accuracy: 0.8125\n",
            "Epoch 12/30\n",
            "14/14 [==============================] - 0s 2ms/step - loss: 0.4937 - accuracy: 0.8214\n",
            "Epoch 13/30\n",
            "14/14 [==============================] - 0s 2ms/step - loss: 0.4765 - accuracy: 0.8304\n",
            "Epoch 14/30\n",
            "14/14 [==============================] - 0s 2ms/step - loss: 0.4608 - accuracy: 0.8571\n",
            "Epoch 15/30\n",
            "14/14 [==============================] - 0s 2ms/step - loss: 0.4467 - accuracy: 0.8661\n",
            "Epoch 16/30\n",
            "14/14 [==============================] - 0s 2ms/step - loss: 0.4337 - accuracy: 0.8661\n",
            "Epoch 17/30\n",
            "14/14 [==============================] - 0s 2ms/step - loss: 0.4222 - accuracy: 0.8661\n",
            "Epoch 18/30\n",
            "14/14 [==============================] - 0s 2ms/step - loss: 0.4109 - accuracy: 0.8750\n",
            "Epoch 19/30\n",
            "14/14 [==============================] - 0s 2ms/step - loss: 0.4006 - accuracy: 0.8661\n",
            "Epoch 20/30\n",
            "14/14 [==============================] - 0s 3ms/step - loss: 0.3912 - accuracy: 0.8661\n",
            "Epoch 21/30\n",
            "14/14 [==============================] - 0s 2ms/step - loss: 0.3823 - accuracy: 0.8661\n",
            "Epoch 22/30\n",
            "14/14 [==============================] - 0s 2ms/step - loss: 0.3741 - accuracy: 0.8661\n",
            "Epoch 23/30\n",
            "14/14 [==============================] - 0s 2ms/step - loss: 0.3666 - accuracy: 0.8661\n",
            "Epoch 24/30\n",
            "14/14 [==============================] - 0s 2ms/step - loss: 0.3593 - accuracy: 0.8661\n",
            "Epoch 25/30\n",
            "14/14 [==============================] - 0s 2ms/step - loss: 0.3525 - accuracy: 0.8839\n",
            "Epoch 26/30\n",
            "14/14 [==============================] - 0s 2ms/step - loss: 0.3462 - accuracy: 0.8661\n",
            "Epoch 27/30\n",
            "14/14 [==============================] - 0s 2ms/step - loss: 0.3400 - accuracy: 0.8929\n",
            "Epoch 28/30\n",
            "14/14 [==============================] - 0s 2ms/step - loss: 0.3340 - accuracy: 0.8929\n",
            "Epoch 29/30\n",
            "14/14 [==============================] - 0s 2ms/step - loss: 0.3286 - accuracy: 0.8929\n",
            "Epoch 30/30\n",
            "14/14 [==============================] - 0s 2ms/step - loss: 0.3233 - accuracy: 0.8929\n"
          ]
        }
      ]
    },
    {
      "cell_type": "markdown",
      "metadata": {
        "id": "QKYfdVyoU9nv"
      },
      "source": [
        "### リスト 4.6 モデルの学習の推移を表示する"
      ]
    },
    {
      "cell_type": "code",
      "metadata": {
        "id": "qRyCpbgqVCZW",
        "colab": {
          "base_uri": "https://localhost:8080/",
          "height": 265
        },
        "outputId": "f1c70705-cabe-477e-abf7-edd6800e9855"
      },
      "source": [
        "import matplotlib.pyplot as plt\n",
        "hist_loss = history.history['loss']\n",
        "hist_acc = history.history['accuracy']\n",
        "plt.plot(np.arange(len(hist_loss)), hist_loss, label='loss')\n",
        "plt.plot(np.arange(len(hist_acc)), hist_acc, label='accuracy')\n",
        "plt.legend()\n",
        "plt.show()"
      ],
      "execution_count": 6,
      "outputs": [
        {
          "output_type": "display_data",
          "data": {
            "image/png": "[encoded data removed]",
            "text/plain": [
              "<Figure size 432x288 with 1 Axes>"
            ]
          },
          "metadata": {
            "needs_background": "light"
          }
        }
      ]
    },
    {
      "cell_type": "markdown",
      "metadata": {
        "id": "6KSL-W4gVUan"
      },
      "source": [
        "### リスト 4.7 モデルの評価をする"
      ]
    },
    {
      "cell_type": "code",
      "metadata": {
        "id": "ODqAlXacWrIy",
        "colab": {
          "base_uri": "https://localhost:8080/"
        },
        "outputId": "732a70e2-27c1-4e55-dad6-b4a6f542b27c"
      },
      "source": [
        "loss, accuracy = model.evaluate(x_test, t_test)\n",
        "print(\"誤差:\", loss, \"精度:\", accuracy)"
      ],
      "execution_count": 7,
      "outputs": [
        {
          "output_type": "stream",
          "name": "stdout",
          "text": [
            "2/2 [==============================] - 0s 5ms/step - loss: 0.3580 - accuracy: 0.9211\n",
            "誤差: 0.3580205738544464 精度: 0.9210526347160339\n"
          ]
        }
      ]
    },
    {
      "cell_type": "markdown",
      "metadata": {
        "id": "F44b6zk0XO5E"
      },
      "source": [
        "### リスト 4.8 学習済みのモデルで予測をする"
      ]
    },
    {
      "cell_type": "code",
      "metadata": {
        "id": "cZaNQHazXYB9",
        "colab": {
          "base_uri": "https://localhost:8080/"
        },
        "outputId": "f5d485de-1cb0-441c-f472-5289184b6975"
      },
      "source": [
        "y_test = model.predict(x_test)\n",
        "print(y_test[:10])"
      ],
      "execution_count": 8,
      "outputs": [
        {
          "output_type": "stream",
          "name": "stdout",
          "text": [
            "[[0.11030813 0.5821815  0.3075104 ]\n",
            " [0.9715882  0.01284349 0.01556821]\n",
            " [0.08510604 0.3980355  0.5168584 ]\n",
            " [0.03668529 0.20038317 0.7629316 ]\n",
            " [0.10139851 0.6761351  0.22246635]\n",
            " [0.9535713  0.02135593 0.02507274]\n",
            " [0.17146146 0.57522404 0.25331455]\n",
            " [0.06647123 0.47753945 0.4559893 ]\n",
            " [0.16445607 0.50809926 0.3274447 ]\n",
            " [0.01204246 0.19580339 0.79215413]]\n"
          ]
        }
      ]
    },
    {
      "cell_type": "markdown",
      "metadata": {
        "id": "Mc46ppci5Cmc"
      },
      "source": [
        "### リスト 4.9 モデルの保存と読み込み"
      ]
    },
    {
      "cell_type": "code",
      "metadata": {
        "id": "_mU5TT7A5SG4",
        "outputId": "47615071-7ff2-45af-edbc-d51704568706",
        "colab": {
          "base_uri": "https://localhost:8080/"
        }
      },
      "source": [
        "from tensorflow.keras.models import load_model\n",
        "\n",
        "model.save('model.h5')\n",
        "load_model('model.h5')"
      ],
      "execution_count": 9,
      "outputs": [
        {
          "output_type": "execute_result",
          "data": {
            "text/plain": [
              "<keras.engine.sequential.Sequential at 0x7f2143f64090>"
            ]
          },
          "metadata": {},
          "execution_count": 9
        }
      ]
    }
  ]
}
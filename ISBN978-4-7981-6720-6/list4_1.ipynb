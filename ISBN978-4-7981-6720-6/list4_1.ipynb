{
  "nbformat": 4,
  "nbformat_minor": 0,
  "metadata": {
    "colab": {
      "name": "list4_1.ipynb",
      "provenance": [],
      "authorship_tag": "ABX9TyOISd/tSxPtrbBCpiHN2CBQ",
      "include_colab_link": true
    },
    "kernelspec": {
      "name": "python3",
      "display_name": "Python 3"
    },
    "language_info": {
      "name": "python"
    }
  },
  "cells": [
    {
      "cell_type": "markdown",
      "metadata": {
        "id": "view-in-github",
        "colab_type": "text"
      },
      "source": [
        "<a href=\"https://colab.research.google.com/github/zfukuoka/Copying_a_sutra/blob/master/ISBN978-4-7981-6720-6/list4_1.ipynb\" target=\"_parent\"><img src=\"https://colab.research.google.com/assets/colab-badge.svg\" alt=\"Open In Colab\"/></a>"
      ]
    },
    {
      "cell_type": "markdown",
      "metadata": {
        "id": "g3LVzjXWCHG_"
      },
      "source": [
        "# リスト 4.1 Irisデータセットを読み込む"
      ]
    },
    {
      "cell_type": "code",
      "metadata": {
        "colab": {
          "base_uri": "https://localhost:8080/"
        },
        "id": "zJkCtdWw7p8P",
        "outputId": "92ef749c-8d4d-4826-f79b-ca5df862c58f"
      },
      "source": [
        "import numpy as np\n",
        "from sklearn import datasets\n",
        "\n",
        "iris = datasets.load_iris()\n",
        "print(iris.data[:10])\n",
        "print(iris.data.shape)\n",
        "print(iris.target)"
      ],
      "execution_count": 2,
      "outputs": [
        {
          "output_type": "stream",
          "name": "stdout",
          "text": [
            "[[5.1 3.5 1.4 0.2]\n",
            " [4.9 3.  1.4 0.2]\n",
            " [4.7 3.2 1.3 0.2]\n",
            " [4.6 3.1 1.5 0.2]\n",
            " [5.  3.6 1.4 0.2]\n",
            " [5.4 3.9 1.7 0.4]\n",
            " [4.6 3.4 1.4 0.3]\n",
            " [5.  3.4 1.5 0.2]\n",
            " [4.4 2.9 1.4 0.2]\n",
            " [4.9 3.1 1.5 0.1]]\n",
            "(150, 4)\n",
            "[0 0 0 0 0 0 0 0 0 0 0 0 0 0 0 0 0 0 0 0 0 0 0 0 0 0 0 0 0 0 0 0 0 0 0 0 0\n",
            " 0 0 0 0 0 0 0 0 0 0 0 0 0 1 1 1 1 1 1 1 1 1 1 1 1 1 1 1 1 1 1 1 1 1 1 1 1\n",
            " 1 1 1 1 1 1 1 1 1 1 1 1 1 1 1 1 1 1 1 1 1 1 1 1 1 1 2 2 2 2 2 2 2 2 2 2 2\n",
            " 2 2 2 2 2 2 2 2 2 2 2 2 2 2 2 2 2 2 2 2 2 2 2 2 2 2 2 2 2 2 2 2 2 2 2 2 2\n",
            " 2 2]\n"
          ]
        }
      ]
    },
    {
      "cell_type": "markdown",
      "metadata": {
        "id": "D48NHIUGCOE5"
      },
      "source": [
        "# リスト 4.2 データを前処理する"
      ]
    },
    {
      "cell_type": "code",
      "metadata": {
        "id": "SyAbvuwm9LL5",
        "outputId": "c7f4c873-3cf6-4c25-b639-da7e88f352a2",
        "colab": {
          "base_uri": "https://localhost:8080/"
        }
      },
      "source": [
        "from sklearn import preprocessing\n",
        "from keras.utils import np_utils\n",
        "\n",
        "# ---- 入力データ ----\n",
        "scaler = preprocessing.StandardScaler()\n",
        "scaler.fit(iris.data)\n",
        "x = scaler.transform(iris.data)\n",
        "print(x[:10])\n",
        "\n",
        "# ---- 正解データ ----\n",
        "t = np_utils.to_categorical(iris.target)\n",
        "print(t[:10])"
      ],
      "execution_count": 3,
      "outputs": [
        {
          "output_type": "stream",
          "name": "stdout",
          "text": [
            "[[-0.90068117  1.01900435 -1.34022653 -1.3154443 ]\n",
            " [-1.14301691 -0.13197948 -1.34022653 -1.3154443 ]\n",
            " [-1.38535265  0.32841405 -1.39706395 -1.3154443 ]\n",
            " [-1.50652052  0.09821729 -1.2833891  -1.3154443 ]\n",
            " [-1.02184904  1.24920112 -1.34022653 -1.3154443 ]\n",
            " [-0.53717756  1.93979142 -1.16971425 -1.05217993]\n",
            " [-1.50652052  0.78880759 -1.34022653 -1.18381211]\n",
            " [-1.02184904  0.78880759 -1.2833891  -1.3154443 ]\n",
            " [-1.74885626 -0.36217625 -1.34022653 -1.3154443 ]\n",
            " [-1.14301691  0.09821729 -1.2833891  -1.44707648]]\n",
            "[[1. 0. 0.]\n",
            " [1. 0. 0.]\n",
            " [1. 0. 0.]\n",
            " [1. 0. 0.]\n",
            " [1. 0. 0.]\n",
            " [1. 0. 0.]\n",
            " [1. 0. 0.]\n",
            " [1. 0. 0.]\n",
            " [1. 0. 0.]\n",
            " [1. 0. 0.]]\n"
          ]
        }
      ]
    },
    {
      "cell_type": "markdown",
      "metadata": {
        "id": "GKWQw7B8Dl3k"
      },
      "source": [
        "# リスト 4.3 データを訓練用データとテスト用データに分割する"
      ]
    },
    {
      "cell_type": "code",
      "metadata": {
        "id": "zq2CMYX4_JYS"
      },
      "source": [
        "from sklearn.model_selection import train_test_split\n",
        "\n",
        "x_train, x_test, t_train, t_test = train_test_split(x, t, train_size=0.75)"
      ],
      "execution_count": 4,
      "outputs": []
    }
  ]
}
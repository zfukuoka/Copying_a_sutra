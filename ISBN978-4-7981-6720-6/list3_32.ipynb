{
  "nbformat": 4,
  "nbformat_minor": 0,
  "metadata": {
    "colab": {
      "provenance": [],
      "authorship_tag": "ABX9TyN/jQOM45pYhL+JvC4ekcD+",
      "include_colab_link": true
    },
    "kernelspec": {
      "name": "python3",
      "display_name": "Python 3"
    },
    "language_info": {
      "name": "python"
    }
  },
  "cells": [
    {
      "cell_type": "markdown",
      "metadata": {
        "id": "view-in-github",
        "colab_type": "text"
      },
      "source": [
        "<a href=\"https://colab.research.google.com/github/zfukuoka/Copying_a_sutra/blob/master/ISBN978-4-7981-6720-6/list3_32.ipynb\" target=\"_parent\"><img src=\"https://colab.research.google.com/assets/colab-badge.svg\" alt=\"Open In Colab\"/></a>"
      ]
    },
    {
      "cell_type": "markdown",
      "source": [
        "## list 3.32 Google ドライブのマウント"
      ],
      "metadata": {
        "id": "Vs3YSybjh_ha"
      }
    },
    {
      "cell_type": "code",
      "execution_count": null,
      "metadata": {
        "colab": {
          "base_uri": "https://localhost:8080/"
        },
        "id": "QjuFe3biYuI4",
        "outputId": "7f7758b6-a9bd-4e18-9dd0-754d83a42e7a"
      },
      "outputs": [
        {
          "output_type": "stream",
          "name": "stdout",
          "text": [
            "Mounted at /content/drive\n"
          ]
        }
      ],
      "source": [
        "from google.colab import drive\n",
        "drive.mount('/content/drive')"
      ]
    },
    {
      "cell_type": "markdown",
      "source": [
        "## list 3.33 Google ドライブへのファイル保存"
      ],
      "metadata": {
        "id": "R1mKf8Efh6bl"
      }
    },
    {
      "cell_type": "code",
      "source": [
        "import os\n",
        "\n",
        "path = '/content/drive/My Drive/greetings/'\n",
        "\n",
        "if not os.path.exists(path):\n",
        "  os.makedirs(path)\n",
        "\n",
        "with open('/content/drive/My Drive/greetings/hello.txt', 'w') as f:\n",
        "  f.write(\"Hello!\")"
      ],
      "metadata": {
        "id": "qKOoMWSpgf2R"
      },
      "execution_count": null,
      "outputs": []
    }
  ]
}
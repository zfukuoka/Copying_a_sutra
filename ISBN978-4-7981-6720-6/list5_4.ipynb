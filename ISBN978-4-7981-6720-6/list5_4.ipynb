{
  "nbformat": 4,
  "nbformat_minor": 0,
  "metadata": {
    "colab": {
      "name": "list5_4.ipynb",
      "provenance": [],
      "authorship_tag": "ABX9TyMv5372L7MwPcujbSxqvwvm",
      "include_colab_link": true
    },
    "kernelspec": {
      "name": "python3",
      "display_name": "Python 3"
    },
    "language_info": {
      "name": "python"
    }
  },
  "cells": [
    {
      "cell_type": "markdown",
      "metadata": {
        "id": "view-in-github",
        "colab_type": "text"
      },
      "source": [
        "<a href=\"https://colab.research.google.com/github/zfukuoka/Copying_a_sutra/blob/master/ISBN978-4-7981-6720-6/list5_4.ipynb\" target=\"_parent\"><img src=\"https://colab.research.google.com/assets/colab-badge.svg\" alt=\"Open In Colab\"/></a>"
      ]
    },
    {
      "cell_type": "markdown",
      "source": [
        "# Chapter 5 ディープラーニングの理論\n",
        "\n",
        "* 5.2 単一ニューロンの計算\n",
        "* 5.3 活性化関数"
      ],
      "metadata": {
        "id": "Yo0iw5hZ8b-5"
      }
    },
    {
      "cell_type": "markdown",
      "source": [
        "### リスト 5.4 ステップ関数"
      ],
      "metadata": {
        "id": "OAS_bnjF8bqS"
      }
    },
    {
      "cell_type": "code",
      "execution_count": 1,
      "metadata": {
        "colab": {
          "base_uri": "https://localhost:8080/",
          "height": 265
        },
        "id": "Md0-pnaU8a76",
        "outputId": "4469c061-dfda-421a-8862-0ef0459fa582"
      },
      "outputs": [
        {
          "output_type": "display_data",
          "data": {
            "image/png": "[encoded data removed]",
            "text/plain": [
              "<Figure size 432x288 with 1 Axes>"
            ]
          },
          "metadata": {
            "needs_background": "light"
          }
        }
      ],
      "source": [
        "import numpy as np\n",
        "import matplotlib.pyplot as plt\n",
        "\n",
        "def step_function(x):\n",
        "  return np.where(x<=0, 0, 1)\n",
        "\n",
        "x = np.linspace(-5, 5)\n",
        "y = step_function(x)\n",
        "\n",
        "plt.plot(x, y)\n",
        "plt.show()"
      ]
    }
  ]
}
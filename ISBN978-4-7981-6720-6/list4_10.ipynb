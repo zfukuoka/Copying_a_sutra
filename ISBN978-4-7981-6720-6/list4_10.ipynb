{
  "nbformat": 4,
  "nbformat_minor": 0,
  "metadata": {
    "colab": {
      "name": "list4_10.ipynb",
      "provenance": [],
      "authorship_tag": "ABX9TyPpKyHF20mpxhs1Z6K9n56P",
      "include_colab_link": true
    },
    "kernelspec": {
      "name": "python3",
      "display_name": "Python 3"
    },
    "language_info": {
      "name": "python"
    }
  },
  "cells": [
    {
      "cell_type": "markdown",
      "metadata": {
        "id": "view-in-github",
        "colab_type": "text"
      },
      "source": [
        "<a href=\"https://colab.research.google.com/github/zfukuoka/Copying_a_sutra/blob/master/ISBN978-4-7981-6720-6/list4_10.ipynb\" target=\"_parent\"><img src=\"https://colab.research.google.com/assets/colab-badge.svg\" alt=\"Open In Colab\"/></a>"
      ]
    },
    {
      "cell_type": "markdown",
      "source": [
        "# Chapter 4 簡単なディープラーニング\n",
        "\n",
        "* 4.4 演習"
      ],
      "metadata": {
        "id": "xwY0VeeZPyfY"
      }
    },
    {
      "cell_type": "markdown",
      "metadata": {
        "id": "HYUiIEOxCySd"
      },
      "source": [
        "### リスト 4.10 データの準備"
      ]
    },
    {
      "cell_type": "code",
      "metadata": {
        "id": "0zv_Dzy6BcNR"
      },
      "source": [
        "import numpy as np\n",
        "from sklearn import datasets\n",
        "from sklearn import preprocessing\n",
        "from sklearn.model_selection import train_test_split\n",
        "from keras.utils import np_utils\n",
        "\n",
        "iris = datasets.load_iris()\n",
        "\n",
        "scaler = preprocessing.StandardScaler()\n",
        "scaler.fit(iris.data)\n",
        "\n",
        "x = scaler.transform(iris.data)\n",
        "t = np_utils.to_categorical(iris.target)\n",
        "\n",
        "x_train, x_test, t_train, t_test = train_test_split(x, t, train_size=0.75)"
      ],
      "execution_count": 1,
      "outputs": []
    },
    {
      "cell_type": "markdown",
      "metadata": {
        "id": "SSDyMoJgD-WG"
      },
      "source": [
        "### リスト 4.12 指定した個所にコードを追記"
      ]
    },
    {
      "cell_type": "code",
      "metadata": {
        "id": "zE9a8oolEEjF"
      },
      "source": [
        "from keras.models import Sequential\n",
        "from keras.layers import Dense, Activation\n",
        "\n",
        "model = Sequential()"
      ],
      "execution_count": 2,
      "outputs": []
    },
    {
      "cell_type": "code",
      "metadata": {
        "id": "e3eJDMxRCT6o"
      },
      "source": [
        "# --- ここからコードを書く ---\n",
        "model.add(Dense(16, input_dim=4))\n",
        "model.add(Activation('relu'))\n",
        "model.add(Dense(16))\n",
        "model.add(Activation('relu'))\n",
        "# --- ここまで ---"
      ],
      "execution_count": 3,
      "outputs": []
    },
    {
      "cell_type": "code",
      "metadata": {
        "id": "pJbKI17ICbU9",
        "outputId": "8c11deba-7770-477f-9ed5-e450652acf5f",
        "colab": {
          "base_uri": "https://localhost:8080/"
        }
      },
      "source": [
        "model.add(Dense(3))\n",
        "model.add(Activation('softmax'))\n",
        "model.compile(optimizer='sgd', loss='categorical_crossentropy', metrics=['accuracy'])\n",
        "\n",
        "\n",
        "print(model.summary())"
      ],
      "execution_count": 4,
      "outputs": [
        {
          "output_type": "stream",
          "name": "stdout",
          "text": [
            "Model: \"sequential\"\n",
            "_________________________________________________________________\n",
            " Layer (type)                Output Shape              Param #   \n",
            "=================================================================\n",
            " dense (Dense)               (None, 16)                80        \n",
            "                                                                 \n",
            " activation (Activation)     (None, 16)                0         \n",
            "                                                                 \n",
            " dense_1 (Dense)             (None, 16)                272       \n",
            "                                                                 \n",
            " activation_1 (Activation)   (None, 16)                0         \n",
            "                                                                 \n",
            " dense_2 (Dense)             (None, 3)                 51        \n",
            "                                                                 \n",
            " activation_2 (Activation)   (None, 3)                 0         \n",
            "                                                                 \n",
            "=================================================================\n",
            "Total params: 403\n",
            "Trainable params: 403\n",
            "Non-trainable params: 0\n",
            "_________________________________________________________________\n",
            "None\n"
          ]
        }
      ]
    },
    {
      "cell_type": "markdown",
      "metadata": {
        "id": "CO2B7QalFUBE"
      },
      "source": [
        "### リスト 4.13 構築したモデルを訓練"
      ]
    },
    {
      "cell_type": "code",
      "metadata": {
        "id": "8aa8LA1hFa7d",
        "outputId": "5a61e044-b459-4abf-e714-715b83570dd2",
        "colab": {
          "base_uri": "https://localhost:8080/"
        }
      },
      "source": [
        "history = model.fit(x_train, t_train, epochs=30, batch_size=8)"
      ],
      "execution_count": 5,
      "outputs": [
        {
          "output_type": "stream",
          "name": "stdout",
          "text": [
            "Epoch 1/30\n",
            "14/14 [==============================] - 1s 2ms/step - loss: 1.0023 - accuracy: 0.3304\n",
            "Epoch 2/30\n",
            "14/14 [==============================] - 0s 3ms/step - loss: 0.9439 - accuracy: 0.4375\n",
            "Epoch 3/30\n",
            "14/14 [==============================] - 0s 2ms/step - loss: 0.8945 - accuracy: 0.5446\n",
            "Epoch 4/30\n",
            "14/14 [==============================] - 0s 2ms/step - loss: 0.8487 - accuracy: 0.6429\n",
            "Epoch 5/30\n",
            "14/14 [==============================] - 0s 2ms/step - loss: 0.8059 - accuracy: 0.6696\n",
            "Epoch 6/30\n",
            "14/14 [==============================] - 0s 2ms/step - loss: 0.7641 - accuracy: 0.6964\n",
            "Epoch 7/30\n",
            "14/14 [==============================] - 0s 3ms/step - loss: 0.7221 - accuracy: 0.7232\n",
            "Epoch 8/30\n",
            "14/14 [==============================] - 0s 2ms/step - loss: 0.6814 - accuracy: 0.7411\n",
            "Epoch 9/30\n",
            "14/14 [==============================] - 0s 2ms/step - loss: 0.6392 - accuracy: 0.7857\n",
            "Epoch 10/30\n",
            "14/14 [==============================] - 0s 2ms/step - loss: 0.6004 - accuracy: 0.8214\n",
            "Epoch 11/30\n",
            "14/14 [==============================] - 0s 2ms/step - loss: 0.5656 - accuracy: 0.8214\n",
            "Epoch 12/30\n",
            "14/14 [==============================] - 0s 2ms/step - loss: 0.5363 - accuracy: 0.8304\n",
            "Epoch 13/30\n",
            "14/14 [==============================] - 0s 2ms/step - loss: 0.5107 - accuracy: 0.8482\n",
            "Epoch 14/30\n",
            "14/14 [==============================] - 0s 2ms/step - loss: 0.4868 - accuracy: 0.8661\n",
            "Epoch 15/30\n",
            "14/14 [==============================] - 0s 2ms/step - loss: 0.4659 - accuracy: 0.8661\n",
            "Epoch 16/30\n",
            "14/14 [==============================] - 0s 2ms/step - loss: 0.4471 - accuracy: 0.8929\n",
            "Epoch 17/30\n",
            "14/14 [==============================] - 0s 2ms/step - loss: 0.4300 - accuracy: 0.9018\n",
            "Epoch 18/30\n",
            "14/14 [==============================] - 0s 2ms/step - loss: 0.4140 - accuracy: 0.9107\n",
            "Epoch 19/30\n",
            "14/14 [==============================] - 0s 2ms/step - loss: 0.3991 - accuracy: 0.9196\n",
            "Epoch 20/30\n",
            "14/14 [==============================] - 0s 2ms/step - loss: 0.3857 - accuracy: 0.9107\n",
            "Epoch 21/30\n",
            "14/14 [==============================] - 0s 2ms/step - loss: 0.3732 - accuracy: 0.9107\n",
            "Epoch 22/30\n",
            "14/14 [==============================] - 0s 3ms/step - loss: 0.3613 - accuracy: 0.9196\n",
            "Epoch 23/30\n",
            "14/14 [==============================] - 0s 2ms/step - loss: 0.3501 - accuracy: 0.9375\n",
            "Epoch 24/30\n",
            "14/14 [==============================] - 0s 2ms/step - loss: 0.3402 - accuracy: 0.9286\n",
            "Epoch 25/30\n",
            "14/14 [==============================] - 0s 2ms/step - loss: 0.3295 - accuracy: 0.9286\n",
            "Epoch 26/30\n",
            "14/14 [==============================] - 0s 2ms/step - loss: 0.3210 - accuracy: 0.9196\n",
            "Epoch 27/30\n",
            "14/14 [==============================] - 0s 2ms/step - loss: 0.3113 - accuracy: 0.9375\n",
            "Epoch 28/30\n",
            "14/14 [==============================] - 0s 2ms/step - loss: 0.3035 - accuracy: 0.9375\n",
            "Epoch 29/30\n",
            "14/14 [==============================] - 0s 2ms/step - loss: 0.2942 - accuracy: 0.9286\n",
            "Epoch 30/30\n",
            "14/14 [==============================] - 0s 2ms/step - loss: 0.2864 - accuracy: 0.9375\n"
          ]
        }
      ]
    },
    {
      "cell_type": "markdown",
      "metadata": {
        "id": "LtKtq2h5FypE"
      },
      "source": [
        "### リスト 4.14 学習の推移"
      ]
    },
    {
      "cell_type": "code",
      "metadata": {
        "id": "HIp-omXmF4K0",
        "outputId": "b75c3b96-d758-41b2-cddf-664490ba8790",
        "colab": {
          "base_uri": "https://localhost:8080/",
          "height": 265
        }
      },
      "source": [
        "import matplotlib.pyplot as plt\n",
        "\n",
        "hist_loss = history.history['loss']\n",
        "hist_acc = history.history['accuracy']\n",
        "\n",
        "plt.plot(np.arange(len(hist_loss)), hist_loss, label='loss')\n",
        "plt.plot(np.arange(len(hist_acc)), hist_acc, label='accuracy')\n",
        "plt.legend()\n",
        "plt.show()"
      ],
      "execution_count": 6,
      "outputs": [
        {
          "output_type": "display_data",
          "data": {
            "image/png": "[encoded data removed]",
            "text/plain": [
              "<Figure size 432x288 with 1 Axes>"
            ]
          },
          "metadata": {
            "needs_background": "light"
          }
        }
      ]
    },
    {
      "cell_type": "markdown",
      "source": [
        "### リスト 4.15 評価"
      ],
      "metadata": {
        "id": "oZ9AdKGbNdky"
      }
    },
    {
      "cell_type": "code",
      "source": [
        "loss, accuracy = model.evaluate(x_test, t_test)\n",
        "print(loss, accuracy)"
      ],
      "metadata": {
        "id": "ESLz0glqNhSs",
        "outputId": "43420312-b5c6-4d41-d328-cbc9e6d676b2",
        "colab": {
          "base_uri": "https://localhost:8080/"
        }
      },
      "execution_count": 7,
      "outputs": [
        {
          "output_type": "stream",
          "name": "stdout",
          "text": [
            "2/2 [==============================] - 0s 9ms/step - loss: 0.2878 - accuracy: 0.9211\n",
            "0.287848562002182 0.9210526347160339\n"
          ]
        }
      ]
    },
    {
      "cell_type": "markdown",
      "source": [
        "### リスト 4.16 予測"
      ],
      "metadata": {
        "id": "pCmtNs5GO-y6"
      }
    },
    {
      "cell_type": "code",
      "source": [
        "model.predict(x_test)"
      ],
      "metadata": {
        "id": "VJD8dU-sPIXz",
        "outputId": "6b1b1fca-7a24-492d-9df2-debda82144c2",
        "colab": {
          "base_uri": "https://localhost:8080/"
        }
      },
      "execution_count": 8,
      "outputs": [
        {
          "output_type": "execute_result",
          "data": {
            "text/plain": [
              "array([[0.9588845 , 0.03094592, 0.01016962],\n",
              "       [0.97918093, 0.01504301, 0.00577605],\n",
              "       [0.9843448 , 0.01094688, 0.00470827],\n",
              "       [0.00607051, 0.04063559, 0.9532939 ],\n",
              "       [0.10953166, 0.637054  , 0.25341427],\n",
              "       [0.05367358, 0.5379663 , 0.40836003],\n",
              "       [0.97532153, 0.01822001, 0.00645839],\n",
              "       [0.04306098, 0.48799172, 0.46894726],\n",
              "       [0.00414264, 0.0841044 , 0.911753  ],\n",
              "       [0.02915384, 0.3726234 , 0.5982228 ],\n",
              "       [0.11250954, 0.70058334, 0.18690719],\n",
              "       [0.09579603, 0.70374006, 0.20046392],\n",
              "       [0.92904437, 0.05435343, 0.01660219],\n",
              "       [0.9661257 , 0.02500399, 0.00887027],\n",
              "       [0.01165868, 0.17454539, 0.81379586],\n",
              "       [0.98297447, 0.01269785, 0.00432766],\n",
              "       [0.07793047, 0.32280138, 0.59926814],\n",
              "       [0.96519566, 0.02673397, 0.00807035],\n",
              "       [0.02120716, 0.3651357 , 0.6136571 ],\n",
              "       [0.00415141, 0.09081598, 0.90503263],\n",
              "       [0.9656123 , 0.02571828, 0.00866938],\n",
              "       [0.02367757, 0.3712914 , 0.60503095],\n",
              "       [0.00283675, 0.05337938, 0.9437839 ],\n",
              "       [0.05896787, 0.7480876 , 0.19294459],\n",
              "       [0.01415681, 0.34811622, 0.63772696],\n",
              "       [0.04478211, 0.6442684 , 0.3109496 ],\n",
              "       [0.27224225, 0.37806103, 0.34969673],\n",
              "       [0.02623788, 0.31729943, 0.6564627 ],\n",
              "       [0.08046036, 0.67806685, 0.24147274],\n",
              "       [0.01697912, 0.26612446, 0.71689636],\n",
              "       [0.9058627 , 0.0721491 , 0.02198824],\n",
              "       [0.10408431, 0.6571659 , 0.23874982],\n",
              "       [0.95394796, 0.03487591, 0.01117614],\n",
              "       [0.9794658 , 0.01438376, 0.00615057],\n",
              "       [0.97046643, 0.02173147, 0.00780201],\n",
              "       [0.00522629, 0.15834634, 0.8364274 ],\n",
              "       [0.00691482, 0.08040407, 0.9126811 ],\n",
              "       [0.00274921, 0.05178302, 0.94546777]], dtype=float32)"
            ]
          },
          "metadata": {},
          "execution_count": 8
        }
      ]
    }
  ]
}
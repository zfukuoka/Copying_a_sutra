{
  "nbformat": 4,
  "nbformat_minor": 0,
  "metadata": {
    "colab": {
      "name": "list5_15.ipynb",
      "provenance": [],
      "authorship_tag": "ABX9TyMdAN3fYYI7WNgk18UW4Xvh",
      "include_colab_link": true
    },
    "kernelspec": {
      "name": "python3",
      "display_name": "Python 3"
    },
    "language_info": {
      "name": "python"
    }
  },
  "cells": [
    {
      "cell_type": "markdown",
      "metadata": {
        "id": "view-in-github",
        "colab_type": "text"
      },
      "source": [
        "<a href=\"https://colab.research.google.com/github/zfukuoka/Copying_a_sutra/blob/master/ISBN978-4-7981-6720-6/list5_15.ipynb\" target=\"_parent\"><img src=\"https://colab.research.google.com/assets/colab-badge.svg\" alt=\"Open In Colab\"/></a>"
      ]
    },
    {
      "cell_type": "markdown",
      "source": [
        "# Chapter 5 ディープラーニングの理論\n",
        "\n",
        "* 5.5 行列と行列積"
      ],
      "metadata": {
        "id": "LuToYt_ca-ZX"
      }
    },
    {
      "cell_type": "markdown",
      "source": [
        "### リスト 5.15 NumPyを用いた要素ごとの積の計算"
      ],
      "metadata": {
        "id": "4r_5Hzz1bCLR"
      }
    },
    {
      "cell_type": "code",
      "execution_count": 1,
      "metadata": {
        "colab": {
          "base_uri": "https://localhost:8080/"
        },
        "id": "Kdg96m5Ra9ym",
        "outputId": "09c55fe6-9867-4b1f-cc4c-7b130cb7ef7f"
      },
      "outputs": [
        {
          "output_type": "stream",
          "name": "stdout",
          "text": [
            "[[0 2 3]\n",
            " [4 0 6]\n",
            " [7 8 0]]\n"
          ]
        }
      ],
      "source": [
        "import numpy as np\n",
        "\n",
        "a = np.array([[1, 2, 3],\n",
        "              [4, 5, 6],\n",
        "              [7, 8, 9]])\n",
        "b = np.array([[0, 1, 1],\n",
        "              [1, 0, 1],\n",
        "              [1, 1, 0]])\n",
        "print(a*b)"
      ]
    }
  ]
}
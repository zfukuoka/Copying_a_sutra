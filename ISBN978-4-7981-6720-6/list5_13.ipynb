{
  "nbformat": 4,
  "nbformat_minor": 0,
  "metadata": {
    "colab": {
      "name": "list5_13.ipynb",
      "provenance": [],
      "authorship_tag": "ABX9TyO4vdlyzLsB/uMZrl+dFRG8",
      "include_colab_link": true
    },
    "kernelspec": {
      "name": "python3",
      "display_name": "Python 3"
    },
    "language_info": {
      "name": "python"
    }
  },
  "cells": [
    {
      "cell_type": "markdown",
      "metadata": {
        "id": "view-in-github",
        "colab_type": "text"
      },
      "source": [
        "<a href=\"https://colab.research.google.com/github/zfukuoka/Copying_a_sutra/blob/master/ISBN978-4-7981-6720-6/list5_13.ipynb\" target=\"_parent\"><img src=\"https://colab.research.google.com/assets/colab-badge.svg\" alt=\"Open In Colab\"/></a>"
      ]
    },
    {
      "cell_type": "markdown",
      "source": [
        "# Chapter 5 ディープラーニングの理論\n",
        "\n",
        "* 5.5 行列と行列積"
      ],
      "metadata": {
        "id": "ERTdxB0RVb66"
      }
    },
    {
      "cell_type": "markdown",
      "source": [
        "### リスト 5.13 NumPyをつかって行列を表す"
      ],
      "metadata": {
        "id": "qJGldrxfVe11"
      }
    },
    {
      "cell_type": "code",
      "execution_count": 1,
      "metadata": {
        "colab": {
          "base_uri": "https://localhost:8080/"
        },
        "id": "twWLCZIrVaK8",
        "outputId": "eb12436e-4588-4266-8488-812ae5a3dfb0"
      },
      "outputs": [
        {
          "output_type": "stream",
          "name": "stdout",
          "text": [
            "[[1 0 5]\n",
            " [4 3 2]]\n",
            "[[ 1.2   0.18]\n",
            " [ 2.3  -0.31]\n",
            " [ 0.42 -4.5 ]]\n"
          ]
        }
      ],
      "source": [
        "import numpy as np\n",
        "a = np.array([[1, 0, 5],\n",
        "              [4, 3, 2]])\n",
        "print(a)\n",
        "\n",
        "b = np.array([[1.2, 0.18],\n",
        "              [2.3, -0.31],\n",
        "              [0.42, -4.5]])\n",
        "print(b)"
      ]
    }
  ]
}
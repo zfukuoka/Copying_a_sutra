{
  "nbformat": 4,
  "nbformat_minor": 0,
  "metadata": {
    "colab": {
      "name": "list5_7.ipynb",
      "provenance": [],
      "authorship_tag": "ABX9TyNFHS9rfM43G0kjIlFgygf0",
      "include_colab_link": true
    },
    "kernelspec": {
      "name": "python3",
      "display_name": "Python 3"
    },
    "language_info": {
      "name": "python"
    }
  },
  "cells": [
    {
      "cell_type": "markdown",
      "metadata": {
        "id": "view-in-github",
        "colab_type": "text"
      },
      "source": [
        "<a href=\"https://colab.research.google.com/github/zfukuoka/Copying_a_sutra/blob/master/ISBN978-4-7981-6720-6/list5_7.ipynb\" target=\"_parent\"><img src=\"https://colab.research.google.com/assets/colab-badge.svg\" alt=\"Open In Colab\"/></a>"
      ]
    },
    {
      "cell_type": "markdown",
      "source": [
        "# Chapter 5 ディープラーニングの理論\n",
        "\n",
        "* 5.3 活性化関数"
      ],
      "metadata": {
        "id": "bnxg8IuYIlp-"
      }
    },
    {
      "cell_type": "markdown",
      "source": [
        "### リスト 5.7 ReLU()関数"
      ],
      "metadata": {
        "id": "tFbgkCzfIlUG"
      }
    },
    {
      "cell_type": "code",
      "execution_count": 1,
      "metadata": {
        "colab": {
          "base_uri": "https://localhost:8080/",
          "height": 265
        },
        "id": "EwxypU0JGdyE",
        "outputId": "dd186104-5d60-4e10-b396-81ca8494cacf"
      },
      "outputs": [
        {
          "output_type": "display_data",
          "data": {
            "image/png": "[encoded data removed]",
            "text/plain": [
              "<Figure size 432x288 with 1 Axes>"
            ]
          },
          "metadata": {
            "needs_background": "light"
          }
        }
      ],
      "source": [
        "import numpy as np\n",
        "import matplotlib.pylab as plt\n",
        "\n",
        "def relu_function(x):\n",
        "  return np.where(x <= 0, 0, x)\n",
        "\n",
        "x = np.linspace(-5, 5)\n",
        "y = relu_function(x)\n",
        "\n",
        "plt.plot(x, y)\n",
        "plt.show()"
      ]
    }
  ]
}
{
  "nbformat": 4,
  "nbformat_minor": 0,
  "metadata": {
    "colab": {
      "name": "list5_20.ipynb",
      "provenance": [],
      "authorship_tag": "ABX9TyM+Ea9dW9E4ujJljwabuUNA",
      "include_colab_link": true
    },
    "kernelspec": {
      "name": "python3",
      "display_name": "Python 3"
    },
    "language_info": {
      "name": "python"
    }
  },
  "cells": [
    {
      "cell_type": "markdown",
      "metadata": {
        "id": "view-in-github",
        "colab_type": "text"
      },
      "source": [
        "<a href=\"https://colab.research.google.com/github/zfukuoka/Copying_a_sutra/blob/master/ISBN978-4-7981-6720-6/list5_20.ipynb\" target=\"_parent\"><img src=\"https://colab.research.google.com/assets/colab-badge.svg\" alt=\"Open In Colab\"/></a>"
      ]
    },
    {
      "cell_type": "markdown",
      "source": [
        "# Chapter 5 ディープラーニングの理論\n",
        "\n",
        "* 5.8 損失関数"
      ],
      "metadata": {
        "id": "WQlJNJjIqkkw"
      }
    },
    {
      "cell_type": "markdown",
      "source": [
        "### リスト 5.20 交差エントロピー誤差の計算をする関数"
      ],
      "metadata": {
        "id": "1fEDf1eQq4Wi"
      }
    },
    {
      "cell_type": "code",
      "execution_count": 1,
      "metadata": {
        "id": "jPMOWuqDqiPZ"
      },
      "outputs": [],
      "source": [
        "import numpy as np\n",
        "\n",
        "def cross_entropy(y, t):\n",
        "  return - np.sum(t * np.log(y + 1e-7))"
      ]
    },
    {
      "cell_type": "markdown",
      "source": [
        "### リスト 5.21 交差エントロピー誤差を計算する"
      ],
      "metadata": {
        "id": "LvHCtf8GrAkz"
      }
    },
    {
      "cell_type": "code",
      "source": [
        "y = np.array([0.05, 0.9, 0.02, 0.02, 0.01])\n",
        "t = np.array([0, 1, 0, 0, 0])\n",
        "print(cross_entropy(y, t))"
      ],
      "metadata": {
        "colab": {
          "base_uri": "https://localhost:8080/"
        },
        "id": "_8CJ_r-QrGjR",
        "outputId": "e226d4b6-a7ab-4943-9995-19f9068ed390"
      },
      "execution_count": 3,
      "outputs": [
        {
          "output_type": "stream",
          "name": "stdout",
          "text": [
            "0.1053604045467214\n"
          ]
        }
      ]
    }
  ]
}
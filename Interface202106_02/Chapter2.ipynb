{
  "nbformat": 4,
  "nbformat_minor": 0,
  "metadata": {
    "colab": {
      "name": "Chapter2.ipynb",
      "provenance": [],
      "authorship_tag": "ABX9TyNyvNCW4OAxKIzzKsCo+pEI",
      "include_colab_link": true
    },
    "kernelspec": {
      "name": "python3",
      "display_name": "Python 3"
    },
    "language_info": {
      "name": "python"
    }
  },
  "cells": [
    {
      "cell_type": "markdown",
      "metadata": {
        "id": "view-in-github",
        "colab_type": "text"
      },
      "source": [
        "<a href=\"https://colab.research.google.com/github/zfukuoka/Copying_a_sutra/blob/master/Interface202106_02/Chapter2.ipynb\" target=\"_parent\"><img src=\"https://colab.research.google.com/assets/colab-badge.svg\" alt=\"Open In Colab\"/></a>"
      ]
    },
    {
      "cell_type": "markdown",
      "metadata": {
        "id": "NGSeVlQcjsKF"
      },
      "source": [
        "# 第2章 Pythonプログラムが実行される仕組み\n"
      ]
    },
    {
      "cell_type": "code",
      "metadata": {
        "colab": {
          "base_uri": "https://localhost:8080/"
        },
        "id": "NVzxNOnZjah4",
        "outputId": "45779e79-c1eb-4e23-c91f-5fdacd1ff368"
      },
      "source": [
        "# リスト 番号なし１\n",
        "\n",
        "import dis\n",
        "\n",
        "def my_subtract(x, y):\n",
        "  return x - y\n",
        "\n",
        "\n",
        "dis.dis(my_subtract)"
      ],
      "execution_count": null,
      "outputs": [
        {
          "output_type": "stream",
          "text": [
            "  6           0 LOAD_FAST                0 (x)\n",
            "              2 LOAD_FAST                1 (y)\n",
            "              4 BINARY_SUBTRACT\n",
            "              6 RETURN_VALUE\n"
          ],
          "name": "stdout"
        }
      ]
    },
    {
      "cell_type": "markdown",
      "metadata": {
        "id": "0n_yfCYpmBt_"
      },
      "source": [
        "## バイトコード\n",
        "\n",
        "* 上記は実装のバイトコードを表示する仕組み\n",
        "* 仮想マシンはレジスタはなく、スタック\n",
        "  * このため、LOAD_FAST でスタックに値を展開\n",
        "  * そして、計算結果もスタックに格納\n",
        "* 減算命令は BINARY_SUBTRACT で実行\n",
        "* 関数からの復帰は RETURN_VALUE で実行\n"
      ]
    }
  ]
}
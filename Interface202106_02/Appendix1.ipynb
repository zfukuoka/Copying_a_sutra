{
  "nbformat": 4,
  "nbformat_minor": 0,
  "metadata": {
    "colab": {
      "name": "Appendix1.ipynb",
      "provenance": [],
      "authorship_tag": "ABX9TyMHVc4xpp054J5dbv3au7JN",
      "include_colab_link": true
    },
    "kernelspec": {
      "name": "python3",
      "display_name": "Python 3"
    },
    "language_info": {
      "name": "python"
    }
  },
  "cells": [
    {
      "cell_type": "markdown",
      "metadata": {
        "id": "view-in-github",
        "colab_type": "text"
      },
      "source": [
        "<a href=\"https://colab.research.google.com/github/zfukuoka/Copying_a_sutra/blob/master/Interface202106_02/Appendix1.ipynb\" target=\"_parent\"><img src=\"https://colab.research.google.com/assets/colab-badge.svg\" alt=\"Open In Colab\"/></a>"
      ]
    },
    {
      "cell_type": "markdown",
      "metadata": {
        "id": "O2tG7vnxbwTe"
      },
      "source": [
        "## Appendix 1 DLLの関数をPythonから呼び出せるライブラリ ctypes"
      ]
    },
    {
      "cell_type": "code",
      "metadata": {
        "colab": {
          "base_uri": "https://localhost:8080/"
        },
        "id": "adXIdUuOah8K",
        "outputId": "500c1eb4-9e50-4b99-d062-5eff44a889fd"
      },
      "source": [
        "# リスト１ ANSI Cの標準ライブラリを呼び出す例(getenv関数) \n",
        "\n",
        "import ctypes\n",
        "\n",
        "# C言語の標準ライブラリ(libc)をロードする\n",
        "libc = ctypes.cdll.LoadLibrary('libc.so.6')\n",
        "\n",
        "# 引数、戻り値の型を指定\n",
        "libc.getenv.argtypes = [ctypes.c_char_p]\n",
        "libc.getenv.restype = ctypes.c_char_p\n",
        "\n",
        "# getenvを呼び出す\n",
        "print(libc.getenv(b\"LANG\"))"
      ],
      "execution_count": null,
      "outputs": [
        {
          "output_type": "stream",
          "text": [
            "b'en_US.UTF-8'\n"
          ],
          "name": "stdout"
        }
      ]
    },
    {
      "cell_type": "code",
      "metadata": {
        "id": "bWUStIpVdKBj"
      },
      "source": [
        "# リスト２ Windowsのダイアログを表示する例\n",
        "int MessageBoxW(\n",
        "    HWND    hWnd,\n",
        "    LPCWSTR lpText,\n",
        "    LPCWSTR lpCaption,\n",
        "    UINT    uType\n",
        ");"
      ],
      "execution_count": null,
      "outputs": []
    },
    {
      "cell_type": "code",
      "metadata": {
        "id": "fl-O4czHdi7I"
      },
      "source": [
        "# リスト３ APIの定義\n",
        "import ctypes\n",
        "import ctypes.wintypes\n",
        "\n",
        "# user32.dll をロードする\n",
        "user32 = ctypes.windll.LoadLibrary(\"user32.dll\")\n",
        "\n",
        "# MessageBoxWの引数、戻り値の型を設定\n",
        "user32.MessageBoxW.restype = ctypes.c_int\n",
        "user32.MessageBoxW.argtypes = (ctypes.wintypes.HWND,\n",
        "                               ctypes.wintypes.LPCWSTR,\n",
        "                               ctypes.wintypes.LPCWSTR,\n",
        "                               ctypes.wintypes.UINT)\n",
        "\n",
        "# MessageBoxWを呼び出してダイアログを表示する\n",
        "ret = user32.MessageBoxW(0, \"OK or Cancel.\", \"Caption\", 1)\n",
        "print(ret)"
      ],
      "execution_count": null,
      "outputs": []
    },
    {
      "cell_type": "code",
      "metadata": {
        "id": "y3sEKu3DgL_P",
        "outputId": "6eac632f-cccd-4d16-c6c0-65653262f341",
        "colab": {
          "base_uri": "https://localhost:8080/"
        }
      },
      "source": [
        "# リスト４ 構造体で引数を渡す例\n",
        "import ctypes\n",
        "\n",
        "libc = ctypes.cdll.LoadLibrary('libc.so.6')\n",
        "print(libc)\n",
        "\n",
        "class TM(ctypes.Structure):\n",
        "  _fields = [\n",
        "             ('tm_sec', ctypes.c_int),\n",
        "             ('tm_min', ctypes.c_int),\n",
        "             ('tm_hour', ctypes.c_int),\n",
        "             ('tm_mday', ctypes.c_int),\n",
        "             ('tm_mon', ctypes.c_int),\n",
        "             ('tm_year', ctypes.c_int),\n",
        "             ('tm_wday', ctypes.c_int),\n",
        "             ('tm_yeay', ctypes.c_int),\n",
        "             ('tm_isdat', ctypes.c_int)\n",
        "  ]\n",
        "\n",
        "t = TM()\n",
        "libc.asctime.restype = ctypes.c_char_p\n",
        "out = libc.asctime(ctypes.pointer(t))\n",
        "print(out)\n"
      ],
      "execution_count": 5,
      "outputs": [
        {
          "output_type": "stream",
          "text": [
            "<CDLL 'libc.so.6', handle 7f32e29fd4e0 at 0x7f32bef65850>\n",
            "b'Sun Jan  0 00:00:00 1900\\n'\n"
          ],
          "name": "stdout"
        }
      ]
    }
  ]
}
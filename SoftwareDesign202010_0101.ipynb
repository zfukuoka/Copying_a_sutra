{
  "nbformat": 4,
  "nbformat_minor": 0,
  "metadata": {
    "colab": {
      "name": "SoftwareDesign202010-0101.ipynb",
      "provenance": [],
      "authorship_tag": "ABX9TyNugwI9cdRcsbPlmSauagdL",
      "include_colab_link": true
    },
    "kernelspec": {
      "name": "python3",
      "display_name": "Python 3"
    }
  },
  "cells": [
    {
      "cell_type": "markdown",
      "metadata": {
        "id": "view-in-github",
        "colab_type": "text"
      },
      "source": [
        "<a href=\"https://colab.research.google.com/github/zfukuoka/Copying_a_sutra/blob/master/SoftwareDesign202010_0101.ipynb\" target=\"_parent\"><img src=\"https://colab.research.google.com/assets/colab-badge.svg\" alt=\"Open In Colab\"/></a>"
      ]
    },
    {
      "cell_type": "markdown",
      "metadata": {
        "id": "FkLU0_0xVJ52"
      },
      "source": [
        "# SoftwareDesign 2020年10月号 第1特集 Pythonではじめる統計学\n",
        "\n",
        "## 第1章 統計分析に必須のライブラリ\n"
      ]
    },
    {
      "cell_type": "markdown",
      "metadata": {
        "id": "ty-TCstCVlaC"
      },
      "source": [
        "### リスト1"
      ]
    },
    {
      "cell_type": "code",
      "metadata": {
        "id": "4vXaYkB_U_c0",
        "outputId": "f72627bd-68dd-4ef2-87ab-1be2ac7dd710",
        "colab": {
          "base_uri": "https://localhost:8080/",
          "height": 400
        }
      },
      "source": [
        "import seaborn as sns\n",
        "\n",
        "tips = sns.load_dataset(\"tips\")\n",
        "sns.catplot(\n",
        "    data=tips, x=\"time\", y=\"tip\", kind=\"violin\"\n",
        ")"
      ],
      "execution_count": 1,
      "outputs": [
        {
          "output_type": "execute_result",
          "data": {
            "text/plain": [
              "<seaborn.axisgrid.FacetGrid at 0x7f69bebbc8d0>"
            ]
          },
          "metadata": {
            "tags": []
          },
          "execution_count": 1
        },
        {
          "output_type": "display_data",
          "data": {
            "image/png": "[encoded data removed]",
            "text/plain": [
              "<Figure size 360x360 with 1 Axes>"
            ]
          },
          "metadata": {
            "tags": [],
            "needs_background": "light"
          }
        }
      ]
    },
    {
      "cell_type": "markdown",
      "metadata": {
        "id": "AVUP7jJ4XHjn"
      },
      "source": [
        "### リスト2\n",
        "\n",
        "標本空間が $\\{a_1, \\dotsc, a_n\\}$ であるとき、その算術平均 $(\\displaystyle A)$ は次のとおりに定義される。\n",
        "\n",
        "$$A = \\frac{1}{n}\\sum_{k=1}^{n} a_k = \\frac{a_1 + a_2 + \\dotsb + a_n}{n}$$\n"
      ]
    },
    {
      "cell_type": "markdown",
      "metadata": {
        "id": "CA-ogBbMdBtF"
      },
      "source": [
        "### NumPy入門"
      ]
    },
    {
      "cell_type": "markdown",
      "metadata": {
        "id": "775kIRBdYgcc"
      },
      "source": [
        "#### ndarray型"
      ]
    },
    {
      "cell_type": "code",
      "metadata": {
        "id": "wZWtrCXrYZGP"
      },
      "source": [
        "import numpy as np\n",
        "\n",
        "int_arr = np.array([1, 2])"
      ],
      "execution_count": 2,
      "outputs": []
    },
    {
      "cell_type": "code",
      "metadata": {
        "id": "X201F7iAYktX",
        "outputId": "8a436484-ba1e-41e1-e228-6ab210953de1",
        "colab": {
          "base_uri": "https://localhost:8080/",
          "height": 34
        }
      },
      "source": [
        "int_arr.dtype"
      ],
      "execution_count": 3,
      "outputs": [
        {
          "output_type": "execute_result",
          "data": {
            "text/plain": [
              "dtype('int64')"
            ]
          },
          "metadata": {
            "tags": []
          },
          "execution_count": 3
        }
      ]
    },
    {
      "cell_type": "code",
      "metadata": {
        "id": "dhCVj4BzYrW_"
      },
      "source": [
        "float_arr = np.array([1, 2], dtype=np.float32)"
      ],
      "execution_count": 5,
      "outputs": []
    },
    {
      "cell_type": "code",
      "metadata": {
        "id": "3v8dwLKCY4aq",
        "outputId": "47e9cbb4-dec1-415d-bd9c-d898badd439c",
        "colab": {
          "base_uri": "https://localhost:8080/",
          "height": 34
        }
      },
      "source": [
        "float_arr.dtype"
      ],
      "execution_count": 6,
      "outputs": [
        {
          "output_type": "execute_result",
          "data": {
            "text/plain": [
              "dtype('float32')"
            ]
          },
          "metadata": {
            "tags": []
          },
          "execution_count": 6
        }
      ]
    },
    {
      "cell_type": "code",
      "metadata": {
        "id": "CmBNvbg0Y9jM",
        "outputId": "7154cecb-152c-41c3-e582-12faac951200",
        "colab": {
          "base_uri": "https://localhost:8080/",
          "height": 34
        }
      },
      "source": [
        "float_arr.astype(np.int)"
      ],
      "execution_count": 7,
      "outputs": [
        {
          "output_type": "execute_result",
          "data": {
            "text/plain": [
              "array([1, 2])"
            ]
          },
          "metadata": {
            "tags": []
          },
          "execution_count": 7
        }
      ]
    },
    {
      "cell_type": "markdown",
      "metadata": {
        "id": "iLMabP4QZ_Gv"
      },
      "source": [
        "#### ndarrayオブジェクト生成"
      ]
    },
    {
      "cell_type": "code",
      "metadata": {
        "id": "9yJHfN7QZDfb",
        "outputId": "dcffe913-490e-42fa-97ba-922eb0b36994",
        "colab": {
          "base_uri": "https://localhost:8080/",
          "height": 34
        }
      },
      "source": [
        "np.arange(3)"
      ],
      "execution_count": 8,
      "outputs": [
        {
          "output_type": "execute_result",
          "data": {
            "text/plain": [
              "array([0, 1, 2])"
            ]
          },
          "metadata": {
            "tags": []
          },
          "execution_count": 8
        }
      ]
    },
    {
      "cell_type": "code",
      "metadata": {
        "id": "ERObwRrTZF3b",
        "outputId": "b76bc6db-a42e-4958-aa97-409f141f53f9",
        "colab": {
          "base_uri": "https://localhost:8080/",
          "height": 34
        }
      },
      "source": [
        "np.arange(0, 2.5, 0.5)"
      ],
      "execution_count": 9,
      "outputs": [
        {
          "output_type": "execute_result",
          "data": {
            "text/plain": [
              "array([0. , 0.5, 1. , 1.5, 2. ])"
            ]
          },
          "metadata": {
            "tags": []
          },
          "execution_count": 9
        }
      ]
    },
    {
      "cell_type": "code",
      "metadata": {
        "id": "dNqq52qhZLDl",
        "outputId": "b6872e46-fdcd-42e4-a36c-a568c8d15e43",
        "colab": {
          "base_uri": "https://localhost:8080/",
          "height": 34
        }
      },
      "source": [
        "np.zeros(3)"
      ],
      "execution_count": 10,
      "outputs": [
        {
          "output_type": "execute_result",
          "data": {
            "text/plain": [
              "array([0., 0., 0.])"
            ]
          },
          "metadata": {
            "tags": []
          },
          "execution_count": 10
        }
      ]
    },
    {
      "cell_type": "code",
      "metadata": {
        "id": "e7GkmvhSZNnY",
        "outputId": "f285d08d-27f2-4a7f-c8ce-231368b27639",
        "colab": {
          "base_uri": "https://localhost:8080/",
          "height": 51
        }
      },
      "source": [
        "np.ones([2, 3])"
      ],
      "execution_count": 11,
      "outputs": [
        {
          "output_type": "execute_result",
          "data": {
            "text/plain": [
              "array([[1., 1., 1.],\n",
              "       [1., 1., 1.]])"
            ]
          },
          "metadata": {
            "tags": []
          },
          "execution_count": 11
        }
      ]
    },
    {
      "cell_type": "code",
      "metadata": {
        "id": "Y0352xypZRWz",
        "outputId": "08da87eb-4468-4aaf-a07e-2896216aa4b4",
        "colab": {
          "base_uri": "https://localhost:8080/",
          "height": 68
        }
      },
      "source": [
        "np.random.seed(1)\n",
        "np.random.rand(3,3)"
      ],
      "execution_count": 12,
      "outputs": [
        {
          "output_type": "execute_result",
          "data": {
            "text/plain": [
              "array([[4.17022005e-01, 7.20324493e-01, 1.14374817e-04],\n",
              "       [3.02332573e-01, 1.46755891e-01, 9.23385948e-02],\n",
              "       [1.86260211e-01, 3.45560727e-01, 3.96767474e-01]])"
            ]
          },
          "metadata": {
            "tags": []
          },
          "execution_count": 12
        }
      ]
    },
    {
      "cell_type": "code",
      "metadata": {
        "id": "SnrCn3WpZbpE",
        "outputId": "aca9506e-5617-4bc5-a27a-661adcb9a45f",
        "colab": {
          "base_uri": "https://localhost:8080/",
          "height": 34
        }
      },
      "source": [
        "arr1 = np.arange(1, 4)\n",
        "arr1"
      ],
      "execution_count": 14,
      "outputs": [
        {
          "output_type": "execute_result",
          "data": {
            "text/plain": [
              "array([1, 2, 3])"
            ]
          },
          "metadata": {
            "tags": []
          },
          "execution_count": 14
        }
      ]
    },
    {
      "cell_type": "code",
      "metadata": {
        "id": "hEz27X3OZgdF",
        "outputId": "94777b89-eef4-47dd-f3b4-b038b502b9ea",
        "colab": {
          "base_uri": "https://localhost:8080/",
          "height": 85
        }
      },
      "source": [
        "arr2 = np.arange(1, 13).reshape(4, 3)\n",
        "arr2"
      ],
      "execution_count": 15,
      "outputs": [
        {
          "output_type": "execute_result",
          "data": {
            "text/plain": [
              "array([[ 1,  2,  3],\n",
              "       [ 4,  5,  6],\n",
              "       [ 7,  8,  9],\n",
              "       [10, 11, 12]])"
            ]
          },
          "metadata": {
            "tags": []
          },
          "execution_count": 15
        }
      ]
    },
    {
      "cell_type": "markdown",
      "metadata": {
        "id": "G40z2hpfaFcd"
      },
      "source": [
        "#### 要素へのアクセス"
      ]
    },
    {
      "cell_type": "code",
      "metadata": {
        "id": "pXB9mB97Zmd4",
        "outputId": "57ca9545-8eb7-4330-f99e-d9506e90d8ed",
        "colab": {
          "base_uri": "https://localhost:8080/",
          "height": 34
        }
      },
      "source": [
        "arr1[0]"
      ],
      "execution_count": 16,
      "outputs": [
        {
          "output_type": "execute_result",
          "data": {
            "text/plain": [
              "1"
            ]
          },
          "metadata": {
            "tags": []
          },
          "execution_count": 16
        }
      ]
    },
    {
      "cell_type": "code",
      "metadata": {
        "id": "A9qgIT8CZptA",
        "outputId": "a7f35136-5361-4709-c8a3-5b5420ca5a78",
        "colab": {
          "base_uri": "https://localhost:8080/",
          "height": 34
        }
      },
      "source": [
        "arr1[1:3]"
      ],
      "execution_count": 17,
      "outputs": [
        {
          "output_type": "execute_result",
          "data": {
            "text/plain": [
              "array([2, 3])"
            ]
          },
          "metadata": {
            "tags": []
          },
          "execution_count": 17
        }
      ]
    },
    {
      "cell_type": "code",
      "metadata": {
        "id": "qgILfGKKZsz7",
        "outputId": "34268f03-d53a-4b6c-dcbf-f2b07c57b8be",
        "colab": {
          "base_uri": "https://localhost:8080/",
          "height": 34
        }
      },
      "source": [
        "arr2[0]"
      ],
      "execution_count": 18,
      "outputs": [
        {
          "output_type": "execute_result",
          "data": {
            "text/plain": [
              "array([1, 2, 3])"
            ]
          },
          "metadata": {
            "tags": []
          },
          "execution_count": 18
        }
      ]
    },
    {
      "cell_type": "code",
      "metadata": {
        "id": "-1ECk_2QZwP_",
        "outputId": "3e6fdcaa-5890-4d3a-b970-29736351f2dc",
        "colab": {
          "base_uri": "https://localhost:8080/",
          "height": 34
        }
      },
      "source": [
        "arr2[1, 2]"
      ],
      "execution_count": 19,
      "outputs": [
        {
          "output_type": "execute_result",
          "data": {
            "text/plain": [
              "6"
            ]
          },
          "metadata": {
            "tags": []
          },
          "execution_count": 19
        }
      ]
    },
    {
      "cell_type": "code",
      "metadata": {
        "id": "SkBJVXaMaZXz",
        "outputId": "892b4cf0-c6ad-4029-c301-9e3c3f662baf",
        "colab": {
          "base_uri": "https://localhost:8080/",
          "height": 34
        }
      },
      "source": [
        "arr2[0, 1:3]"
      ],
      "execution_count": 20,
      "outputs": [
        {
          "output_type": "execute_result",
          "data": {
            "text/plain": [
              "array([2, 3])"
            ]
          },
          "metadata": {
            "tags": []
          },
          "execution_count": 20
        }
      ]
    },
    {
      "cell_type": "code",
      "metadata": {
        "id": "fNveFcRfaems",
        "outputId": "e023e12b-4456-4dba-be5d-0d3a71a5454a",
        "colab": {
          "base_uri": "https://localhost:8080/",
          "height": 34
        }
      },
      "source": [
        "arr1[1] = 10\n",
        "arr1"
      ],
      "execution_count": 21,
      "outputs": [
        {
          "output_type": "execute_result",
          "data": {
            "text/plain": [
              "array([ 1, 10,  3])"
            ]
          },
          "metadata": {
            "tags": []
          },
          "execution_count": 21
        }
      ]
    },
    {
      "cell_type": "code",
      "metadata": {
        "id": "5wr8TM9hakGs",
        "outputId": "6a536d10-8756-458e-8dc9-53fe6077f603",
        "colab": {
          "base_uri": "https://localhost:8080/",
          "height": 85
        }
      },
      "source": [
        "arr2[1, :2] = 100\n",
        "arr2"
      ],
      "execution_count": 23,
      "outputs": [
        {
          "output_type": "execute_result",
          "data": {
            "text/plain": [
              "array([[  1,   2,   3],\n",
              "       [100, 100,   6],\n",
              "       [  7,   8,   9],\n",
              "       [ 10,  11,  12]])"
            ]
          },
          "metadata": {
            "tags": []
          },
          "execution_count": 23
        }
      ]
    },
    {
      "cell_type": "markdown",
      "metadata": {
        "id": "t-k-bunKa0Uo"
      },
      "source": [
        "#### ブロードキャスト"
      ]
    },
    {
      "cell_type": "code",
      "metadata": {
        "id": "stSR0yvEa3my",
        "outputId": "8a5a74b0-08fa-47df-d656-a39b94f208da",
        "colab": {
          "base_uri": "https://localhost:8080/",
          "height": 34
        }
      },
      "source": [
        "li = [1, 2, 3]\n",
        "[x + 1 for x in li]"
      ],
      "execution_count": 24,
      "outputs": [
        {
          "output_type": "execute_result",
          "data": {
            "text/plain": [
              "[2, 3, 4]"
            ]
          },
          "metadata": {
            "tags": []
          },
          "execution_count": 24
        }
      ]
    },
    {
      "cell_type": "code",
      "metadata": {
        "id": "6EH-WXeKbCEB",
        "outputId": "803c3197-7eb8-466a-dcd0-3e005e8df8b1",
        "colab": {
          "base_uri": "https://localhost:8080/",
          "height": 34
        }
      },
      "source": [
        "arr1 = np.array([1, 2, 3])\n",
        "arr1 + 1"
      ],
      "execution_count": 26,
      "outputs": [
        {
          "output_type": "execute_result",
          "data": {
            "text/plain": [
              "array([2, 3, 4])"
            ]
          },
          "metadata": {
            "tags": []
          },
          "execution_count": 26
        }
      ]
    },
    {
      "cell_type": "code",
      "metadata": {
        "id": "Ot-9KRI0bNRl",
        "outputId": "efbac19b-fce6-4059-d05b-79e358094e64",
        "colab": {
          "base_uri": "https://localhost:8080/",
          "height": 85
        }
      },
      "source": [
        "# 前述のコードから続けてそのまま動かすと、テキストと異なる結果になる\n",
        "# 恐らく、arr2を途中で変えたことを忘れたか、無視したものと考えられる\n",
        "# このため、テキストにはないが改めてarr2の初期化を行う\n",
        "arr2 = np.arange(1, 13).reshape(4, 3)\n",
        "arr1 + arr2"
      ],
      "execution_count": 28,
      "outputs": [
        {
          "output_type": "execute_result",
          "data": {
            "text/plain": [
              "array([[ 2,  4,  6],\n",
              "       [ 5,  7,  9],\n",
              "       [ 8, 10, 12],\n",
              "       [11, 13, 15]])"
            ]
          },
          "metadata": {
            "tags": []
          },
          "execution_count": 28
        }
      ]
    },
    {
      "cell_type": "markdown",
      "metadata": {
        "id": "2OBYYue5cR5O"
      },
      "source": [
        "#### 関数の適用"
      ]
    },
    {
      "cell_type": "code",
      "metadata": {
        "id": "YFvxvzetcVaE",
        "outputId": "0e1df607-717f-44eb-f631-5bce57ed3d2b",
        "colab": {
          "base_uri": "https://localhost:8080/",
          "height": 85
        }
      },
      "source": [
        "np.power(arr1, arr2)"
      ],
      "execution_count": 29,
      "outputs": [
        {
          "output_type": "execute_result",
          "data": {
            "text/plain": [
              "array([[     1,      4,     27],\n",
              "       [     1,     32,    729],\n",
              "       [     1,    256,  19683],\n",
              "       [     1,   2048, 531441]])"
            ]
          },
          "metadata": {
            "tags": []
          },
          "execution_count": 29
        }
      ]
    },
    {
      "cell_type": "code",
      "metadata": {
        "id": "OUmAn_Ufcgzh",
        "outputId": "dbe1412b-a1c8-4a33-e6c9-e428d7b7aabb",
        "colab": {
          "base_uri": "https://localhost:8080/",
          "height": 34
        }
      },
      "source": [
        "abs(np.array([1, -2, 3]))"
      ],
      "execution_count": 30,
      "outputs": [
        {
          "output_type": "execute_result",
          "data": {
            "text/plain": [
              "array([1, 2, 3])"
            ]
          },
          "metadata": {
            "tags": []
          },
          "execution_count": 30
        }
      ]
    },
    {
      "cell_type": "code",
      "metadata": {
        "id": "TJGG_eFLcoGN",
        "outputId": "2edf7f34-4cd3-4663-ea72-5f5c2219dc11",
        "colab": {
          "base_uri": "https://localhost:8080/",
          "height": 34
        }
      },
      "source": [
        "sum(np.array([1, 2, 3]))"
      ],
      "execution_count": 31,
      "outputs": [
        {
          "output_type": "execute_result",
          "data": {
            "text/plain": [
              "6"
            ]
          },
          "metadata": {
            "tags": []
          },
          "execution_count": 31
        }
      ]
    },
    {
      "cell_type": "code",
      "metadata": {
        "id": "Tszput8vcsci",
        "outputId": "439b6887-a87c-4ef0-b685-bbbf27f7a207",
        "colab": {
          "base_uri": "https://localhost:8080/",
          "height": 34
        }
      },
      "source": [
        "def my_func(x):\n",
        "  return x ** 2 + 1\n",
        "\n",
        "my_func(arr1)"
      ],
      "execution_count": 32,
      "outputs": [
        {
          "output_type": "execute_result",
          "data": {
            "text/plain": [
              "array([ 2,  5, 10])"
            ]
          },
          "metadata": {
            "tags": []
          },
          "execution_count": 32
        }
      ]
    },
    {
      "cell_type": "markdown",
      "metadata": {
        "id": "lOKJ82K8eeMH"
      },
      "source": [
        "### pandas入門"
      ]
    }
  ]
}